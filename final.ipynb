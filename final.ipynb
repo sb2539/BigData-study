{
  "nbformat": 4,
  "nbformat_minor": 0,
  "metadata": {
    "colab": {
      "name": "final.ipynb",
      "provenance": [],
      "collapsed_sections": [
        "XYxKaJW1SvFN",
        "u8aN_vwsTBGF"
      ]
    },
    "kernelspec": {
      "name": "python3",
      "display_name": "Python 3"
    },
    "language_info": {
      "name": "python"
    }
  },
  "cells": [
    {
      "cell_type": "markdown",
      "metadata": {
        "id": "XYxKaJW1SvFN"
      },
      "source": [
        "#1. Choose Data"
      ]
    },
    {
      "cell_type": "code",
      "metadata": {
        "colab": {
          "base_uri": "https://localhost:8080/"
        },
        "id": "RYpQvviIS_dn",
        "outputId": "49524de9-c267-4ac6-a9ad-7f05709b4d7a"
      },
      "source": [
        "from google.colab import drive\n",
        "drive.mount('/gdrive')"
      ],
      "execution_count": null,
      "outputs": [
        {
          "output_type": "stream",
          "name": "stdout",
          "text": [
            "Drive already mounted at /gdrive; to attempt to forcibly remount, call drive.mount(\"/gdrive\", force_remount=True).\n"
          ]
        }
      ]
    },
    {
      "cell_type": "code",
      "metadata": {
        "id": "7mR61EanTAbg"
      },
      "source": [
        "import pandas as pd\n",
        "import numpy as np\n",
        "pd.set_option('display.max_columns',11)"
      ],
      "execution_count": null,
      "outputs": []
    },
    {
      "cell_type": "code",
      "metadata": {
        "colab": {
          "base_uri": "https://localhost:8080/"
        },
        "id": "xVOAFPrJVdSb",
        "outputId": "cb9287cd-3b94-44d9-f713-0c7d3cf736e4"
      },
      "source": [
        "webtoon_df = pd.read_csv(\"/gdrive/MyDrive/BigDataStudy/Webtoon Dataset.csv\")\n",
        "\n",
        "print(webtoon_df)"
      ],
      "execution_count": null,
      "outputs": [
        {
          "output_type": "stream",
          "name": "stdout",
          "text": [
            "      id                      Name                      Writer     Likes  \\\n",
            "0      0                Let's Play  Leeanne M. Krecic (Mongie)     30.6M   \n",
            "1      1               True Beauty                     Yaongyi     39.9M   \n",
            "2      2       Midnight Poppy Land                    Lilydusk     10.4M   \n",
            "3      3               Age Matters                 Enjelicious     25.9M   \n",
            "4      4              Unholy Blood    Lina Im / Jeonghyeon Kim      9.9M   \n",
            "..   ...                       ...                         ...       ...   \n",
            "564  564       Third Shift Society           Meredith Moriarty  8,66,428   \n",
            "565  565                Adamsville              Michael Regina  1,84,981   \n",
            "566  566               WEBTOON Now      LOZOLZ / Wyatt the Cat      1.9M   \n",
            "567  567  Staying Healthy Together             Various Artists      1.5M   \n",
            "568  568        ã„´ã…‡ã„¹ã…‡ã„´ã„¹                      LOZOLZ  2,65,458   \n",
            "\n",
            "            Genre  Rating Subscribers  \\\n",
            "0         Romance    9.62        4.2M   \n",
            "1         Romance    9.60        6.4M   \n",
            "2         Romance    9.81        2.1M   \n",
            "3         Romance    9.79        3.5M   \n",
            "4    Supernatural    9.85        1.5M   \n",
            "..            ...     ...         ...   \n",
            "564  Supernatural    9.78      376.9K   \n",
            "565       Mystery    9.32       60.4K   \n",
            "566   Informative    9.25      459.2K   \n",
            "567   Informative    9.76      204.6K   \n",
            "568   Informative    8.83      109.1K   \n",
            "\n",
            "                                               Summary              Update  \\\n",
            "0    She's young, single and about to achieve her d...    UP EVERY TUESDAY   \n",
            "1    After binge-watching beauty videos online, a s...  UP EVERY WEDNESDAY   \n",
            "2    After making a grisly discovery in the country...   UP EVERY SATURDAY   \n",
            "3    She's a hopeless romantic who's turning 30's  ...  UP EVERY WEDNESDAY   \n",
            "4    When vampires destroy her chance to have the n...   UP EVERY THURSDAY   \n",
            "..                                                 ...                 ...   \n",
            "564  Life's funny. One minute you're jobless, deep ...     UP EVERY FRIDAY   \n",
            "565  \"Adamsville\" is an all ages series about two m...           COMPLETED   \n",
            "566                        Get your WEBTOON news here!     UP EVERY MONDAY   \n",
            "567  A series of tips for staying safe during the C...           COMPLETED   \n",
            "568  The mysterious team that brings Webtoon to you...           COMPLETED   \n",
            "\n",
            "                                          Reading Link  \n",
            "0    https://www.webtoons.com/en/romance/letsplay/l...  \n",
            "1    https://www.webtoons.com/en/romance/truebeauty...  \n",
            "2    https://www.webtoons.com/en/romance/midnight-p...  \n",
            "3    https://www.webtoons.com/en/romance/age-matter...  \n",
            "4    https://www.webtoons.com/en/supernatural/unhol...  \n",
            "..                                                 ...  \n",
            "564  https://www.webtoons.com/en/supernatural/third...  \n",
            "565  https://www.webtoons.com/en/mystery/adamsville...  \n",
            "566  https://www.webtoons.com/en/tiptoon/webtoon-no...  \n",
            "567  https://www.webtoons.com/en/tiptoon/staying-he...  \n",
            "568  https://www.webtoons.com/en/tiptoon/lozolz/lis...  \n",
            "\n",
            "[569 rows x 10 columns]\n"
          ]
        }
      ]
    },
    {
      "cell_type": "code",
      "metadata": {
        "colab": {
          "base_uri": "https://localhost:8080/"
        },
        "id": "WhAUJoPiV4hL",
        "outputId": "ecf0e5b0-6b02-4a6e-f0e2-59948a60fe74"
      },
      "source": [
        "webtoon_df.head() # check data using head"
      ],
      "execution_count": null,
      "outputs": [
        {
          "output_type": "execute_result",
          "data": {
            "text/html": [
              "<div>\n",
              "<style scoped>\n",
              "    .dataframe tbody tr th:only-of-type {\n",
              "        vertical-align: middle;\n",
              "    }\n",
              "\n",
              "    .dataframe tbody tr th {\n",
              "        vertical-align: top;\n",
              "    }\n",
              "\n",
              "    .dataframe thead th {\n",
              "        text-align: right;\n",
              "    }\n",
              "</style>\n",
              "<table border=\"1\" class=\"dataframe\">\n",
              "  <thead>\n",
              "    <tr style=\"text-align: right;\">\n",
              "      <th></th>\n",
              "      <th>id</th>\n",
              "      <th>Name</th>\n",
              "      <th>Writer</th>\n",
              "      <th>Likes</th>\n",
              "      <th>Genre</th>\n",
              "      <th>Rating</th>\n",
              "      <th>Subscribers</th>\n",
              "      <th>Summary</th>\n",
              "      <th>Update</th>\n",
              "      <th>Reading Link</th>\n",
              "    </tr>\n",
              "  </thead>\n",
              "  <tbody>\n",
              "    <tr>\n",
              "      <th>0</th>\n",
              "      <td>0</td>\n",
              "      <td>Let's Play</td>\n",
              "      <td>Leeanne M. Krecic (Mongie)</td>\n",
              "      <td>30.6M</td>\n",
              "      <td>Romance</td>\n",
              "      <td>9.62</td>\n",
              "      <td>4.2M</td>\n",
              "      <td>She's young, single and about to achieve her d...</td>\n",
              "      <td>UP EVERY TUESDAY</td>\n",
              "      <td>https://www.webtoons.com/en/romance/letsplay/l...</td>\n",
              "    </tr>\n",
              "    <tr>\n",
              "      <th>1</th>\n",
              "      <td>1</td>\n",
              "      <td>True Beauty</td>\n",
              "      <td>Yaongyi</td>\n",
              "      <td>39.9M</td>\n",
              "      <td>Romance</td>\n",
              "      <td>9.60</td>\n",
              "      <td>6.4M</td>\n",
              "      <td>After binge-watching beauty videos online, a s...</td>\n",
              "      <td>UP EVERY WEDNESDAY</td>\n",
              "      <td>https://www.webtoons.com/en/romance/truebeauty...</td>\n",
              "    </tr>\n",
              "    <tr>\n",
              "      <th>2</th>\n",
              "      <td>2</td>\n",
              "      <td>Midnight Poppy Land</td>\n",
              "      <td>Lilydusk</td>\n",
              "      <td>10.4M</td>\n",
              "      <td>Romance</td>\n",
              "      <td>9.81</td>\n",
              "      <td>2.1M</td>\n",
              "      <td>After making a grisly discovery in the country...</td>\n",
              "      <td>UP EVERY SATURDAY</td>\n",
              "      <td>https://www.webtoons.com/en/romance/midnight-p...</td>\n",
              "    </tr>\n",
              "    <tr>\n",
              "      <th>3</th>\n",
              "      <td>3</td>\n",
              "      <td>Age Matters</td>\n",
              "      <td>Enjelicious</td>\n",
              "      <td>25.9M</td>\n",
              "      <td>Romance</td>\n",
              "      <td>9.79</td>\n",
              "      <td>3.5M</td>\n",
              "      <td>She's a hopeless romantic who's turning 30's  ...</td>\n",
              "      <td>UP EVERY WEDNESDAY</td>\n",
              "      <td>https://www.webtoons.com/en/romance/age-matter...</td>\n",
              "    </tr>\n",
              "    <tr>\n",
              "      <th>4</th>\n",
              "      <td>4</td>\n",
              "      <td>Unholy Blood</td>\n",
              "      <td>Lina Im / Jeonghyeon Kim</td>\n",
              "      <td>9.9M</td>\n",
              "      <td>Supernatural</td>\n",
              "      <td>9.85</td>\n",
              "      <td>1.5M</td>\n",
              "      <td>When vampires destroy her chance to have the n...</td>\n",
              "      <td>UP EVERY THURSDAY</td>\n",
              "      <td>https://www.webtoons.com/en/supernatural/unhol...</td>\n",
              "    </tr>\n",
              "  </tbody>\n",
              "</table>\n",
              "</div>"
            ],
            "text/plain": [
              "   id                 Name                      Writer  Likes         Genre  \\\n",
              "0   0           Let's Play  Leeanne M. Krecic (Mongie)  30.6M       Romance   \n",
              "1   1          True Beauty                     Yaongyi  39.9M       Romance   \n",
              "2   2  Midnight Poppy Land                    Lilydusk  10.4M       Romance   \n",
              "3   3          Age Matters                 Enjelicious  25.9M       Romance   \n",
              "4   4         Unholy Blood    Lina Im / Jeonghyeon Kim   9.9M  Supernatural   \n",
              "\n",
              "   Rating Subscribers                                            Summary  \\\n",
              "0    9.62        4.2M  She's young, single and about to achieve her d...   \n",
              "1    9.60        6.4M  After binge-watching beauty videos online, a s...   \n",
              "2    9.81        2.1M  After making a grisly discovery in the country...   \n",
              "3    9.79        3.5M  She's a hopeless romantic who's turning 30's  ...   \n",
              "4    9.85        1.5M  When vampires destroy her chance to have the n...   \n",
              "\n",
              "               Update                                       Reading Link  \n",
              "0    UP EVERY TUESDAY  https://www.webtoons.com/en/romance/letsplay/l...  \n",
              "1  UP EVERY WEDNESDAY  https://www.webtoons.com/en/romance/truebeauty...  \n",
              "2   UP EVERY SATURDAY  https://www.webtoons.com/en/romance/midnight-p...  \n",
              "3  UP EVERY WEDNESDAY  https://www.webtoons.com/en/romance/age-matter...  \n",
              "4   UP EVERY THURSDAY  https://www.webtoons.com/en/supernatural/unhol...  "
            ]
          },
          "metadata": {},
          "execution_count": 4
        }
      ]
    },
    {
      "cell_type": "code",
      "metadata": {
        "colab": {
          "base_uri": "https://localhost:8080/"
        },
        "id": "ldLfC-VXkNa6",
        "outputId": "2fd34935-5c47-4184-a5ca-3e93bf71b3cb"
      },
      "source": [
        "webtoon_df.tail() # check data using tail "
      ],
      "execution_count": null,
      "outputs": [
        {
          "output_type": "execute_result",
          "data": {
            "text/html": [
              "<div>\n",
              "<style scoped>\n",
              "    .dataframe tbody tr th:only-of-type {\n",
              "        vertical-align: middle;\n",
              "    }\n",
              "\n",
              "    .dataframe tbody tr th {\n",
              "        vertical-align: top;\n",
              "    }\n",
              "\n",
              "    .dataframe thead th {\n",
              "        text-align: right;\n",
              "    }\n",
              "</style>\n",
              "<table border=\"1\" class=\"dataframe\">\n",
              "  <thead>\n",
              "    <tr style=\"text-align: right;\">\n",
              "      <th></th>\n",
              "      <th>id</th>\n",
              "      <th>Name</th>\n",
              "      <th>Writer</th>\n",
              "      <th>Likes</th>\n",
              "      <th>Genre</th>\n",
              "      <th>Rating</th>\n",
              "      <th>Subscribers</th>\n",
              "      <th>Summary</th>\n",
              "      <th>Update</th>\n",
              "      <th>Reading Link</th>\n",
              "    </tr>\n",
              "  </thead>\n",
              "  <tbody>\n",
              "    <tr>\n",
              "      <th>564</th>\n",
              "      <td>564</td>\n",
              "      <td>Third Shift Society</td>\n",
              "      <td>Meredith Moriarty</td>\n",
              "      <td>8,66,428</td>\n",
              "      <td>Supernatural</td>\n",
              "      <td>9.78</td>\n",
              "      <td>376.9K</td>\n",
              "      <td>Life's funny. One minute you're jobless, deep ...</td>\n",
              "      <td>UP EVERY FRIDAY</td>\n",
              "      <td>https://www.webtoons.com/en/supernatural/third...</td>\n",
              "    </tr>\n",
              "    <tr>\n",
              "      <th>565</th>\n",
              "      <td>565</td>\n",
              "      <td>Adamsville</td>\n",
              "      <td>Michael Regina</td>\n",
              "      <td>1,84,981</td>\n",
              "      <td>Mystery</td>\n",
              "      <td>9.32</td>\n",
              "      <td>60.4K</td>\n",
              "      <td>\"Adamsville\" is an all ages series about two m...</td>\n",
              "      <td>COMPLETED</td>\n",
              "      <td>https://www.webtoons.com/en/mystery/adamsville...</td>\n",
              "    </tr>\n",
              "    <tr>\n",
              "      <th>566</th>\n",
              "      <td>566</td>\n",
              "      <td>WEBTOON Now</td>\n",
              "      <td>LOZOLZ / Wyatt the Cat</td>\n",
              "      <td>1.9M</td>\n",
              "      <td>Informative</td>\n",
              "      <td>9.25</td>\n",
              "      <td>459.2K</td>\n",
              "      <td>Get your WEBTOON news here!</td>\n",
              "      <td>UP EVERY MONDAY</td>\n",
              "      <td>https://www.webtoons.com/en/tiptoon/webtoon-no...</td>\n",
              "    </tr>\n",
              "    <tr>\n",
              "      <th>567</th>\n",
              "      <td>567</td>\n",
              "      <td>Staying Healthy Together</td>\n",
              "      <td>Various Artists</td>\n",
              "      <td>1.5M</td>\n",
              "      <td>Informative</td>\n",
              "      <td>9.76</td>\n",
              "      <td>204.6K</td>\n",
              "      <td>A series of tips for staying safe during the C...</td>\n",
              "      <td>COMPLETED</td>\n",
              "      <td>https://www.webtoons.com/en/tiptoon/staying-he...</td>\n",
              "    </tr>\n",
              "    <tr>\n",
              "      <th>568</th>\n",
              "      <td>568</td>\n",
              "      <td>ã„´ã…‡ã„¹ã…‡ã„´ã„¹</td>\n",
              "      <td>LOZOLZ</td>\n",
              "      <td>2,65,458</td>\n",
              "      <td>Informative</td>\n",
              "      <td>8.83</td>\n",
              "      <td>109.1K</td>\n",
              "      <td>The mysterious team that brings Webtoon to you...</td>\n",
              "      <td>COMPLETED</td>\n",
              "      <td>https://www.webtoons.com/en/tiptoon/lozolz/lis...</td>\n",
              "    </tr>\n",
              "  </tbody>\n",
              "</table>\n",
              "</div>"
            ],
            "text/plain": [
              "      id                      Name                  Writer     Likes  \\\n",
              "564  564       Third Shift Society       Meredith Moriarty  8,66,428   \n",
              "565  565                Adamsville          Michael Regina  1,84,981   \n",
              "566  566               WEBTOON Now  LOZOLZ / Wyatt the Cat      1.9M   \n",
              "567  567  Staying Healthy Together         Various Artists      1.5M   \n",
              "568  568        ã„´ã…‡ã„¹ã…‡ã„´ã„¹                  LOZOLZ  2,65,458   \n",
              "\n",
              "            Genre  Rating Subscribers  \\\n",
              "564  Supernatural    9.78      376.9K   \n",
              "565       Mystery    9.32       60.4K   \n",
              "566   Informative    9.25      459.2K   \n",
              "567   Informative    9.76      204.6K   \n",
              "568   Informative    8.83      109.1K   \n",
              "\n",
              "                                               Summary           Update  \\\n",
              "564  Life's funny. One minute you're jobless, deep ...  UP EVERY FRIDAY   \n",
              "565  \"Adamsville\" is an all ages series about two m...        COMPLETED   \n",
              "566                        Get your WEBTOON news here!  UP EVERY MONDAY   \n",
              "567  A series of tips for staying safe during the C...        COMPLETED   \n",
              "568  The mysterious team that brings Webtoon to you...        COMPLETED   \n",
              "\n",
              "                                          Reading Link  \n",
              "564  https://www.webtoons.com/en/supernatural/third...  \n",
              "565  https://www.webtoons.com/en/mystery/adamsville...  \n",
              "566  https://www.webtoons.com/en/tiptoon/webtoon-no...  \n",
              "567  https://www.webtoons.com/en/tiptoon/staying-he...  \n",
              "568  https://www.webtoons.com/en/tiptoon/lozolz/lis...  "
            ]
          },
          "metadata": {},
          "execution_count": 5
        }
      ]
    },
    {
      "cell_type": "markdown",
      "metadata": {
        "id": "u8aN_vwsTBGF"
      },
      "source": [
        "#2. Data Preprocessing"
      ]
    },
    {
      "cell_type": "code",
      "metadata": {
        "colab": {
          "base_uri": "https://localhost:8080/"
        },
        "id": "N7JcYRSnTFh2",
        "outputId": "b4b34cd6-4953-4ed8-cd82-9886d5ce426b"
      },
      "source": [
        "webtoon_df.info()  # check null and dtype"
      ],
      "execution_count": null,
      "outputs": [
        {
          "output_type": "stream",
          "name": "stdout",
          "text": [
            "<class 'pandas.core.frame.DataFrame'>\n",
            "RangeIndex: 569 entries, 0 to 568\n",
            "Data columns (total 10 columns):\n",
            " #   Column        Non-Null Count  Dtype  \n",
            "---  ------        --------------  -----  \n",
            " 0   id            569 non-null    int64  \n",
            " 1   Name          569 non-null    object \n",
            " 2   Writer        568 non-null    object \n",
            " 3   Likes         569 non-null    object \n",
            " 4   Genre         569 non-null    object \n",
            " 5   Rating        569 non-null    float64\n",
            " 6   Subscribers   569 non-null    object \n",
            " 7   Summary       569 non-null    object \n",
            " 8   Update        569 non-null    object \n",
            " 9   Reading Link  569 non-null    object \n",
            "dtypes: float64(1), int64(1), object(8)\n",
            "memory usage: 44.6+ KB\n"
          ]
        }
      ]
    },
    {
      "cell_type": "code",
      "metadata": {
        "colab": {
          "base_uri": "https://localhost:8080/",
          "height": 300
        },
        "id": "iYHVkN7roL6J",
        "outputId": "bb3885a2-1532-4217-d044-b5183049befa"
      },
      "source": [
        "webtoon_df.describe() # 수치값 가지는 column이 두개 "
      ],
      "execution_count": null,
      "outputs": [
        {
          "output_type": "execute_result",
          "data": {
            "text/html": [
              "<div>\n",
              "<style scoped>\n",
              "    .dataframe tbody tr th:only-of-type {\n",
              "        vertical-align: middle;\n",
              "    }\n",
              "\n",
              "    .dataframe tbody tr th {\n",
              "        vertical-align: top;\n",
              "    }\n",
              "\n",
              "    .dataframe thead th {\n",
              "        text-align: right;\n",
              "    }\n",
              "</style>\n",
              "<table border=\"1\" class=\"dataframe\">\n",
              "  <thead>\n",
              "    <tr style=\"text-align: right;\">\n",
              "      <th></th>\n",
              "      <th>id</th>\n",
              "      <th>Rating</th>\n",
              "    </tr>\n",
              "  </thead>\n",
              "  <tbody>\n",
              "    <tr>\n",
              "      <th>count</th>\n",
              "      <td>569.000000</td>\n",
              "      <td>569.000000</td>\n",
              "    </tr>\n",
              "    <tr>\n",
              "      <th>mean</th>\n",
              "      <td>284.000000</td>\n",
              "      <td>9.418998</td>\n",
              "    </tr>\n",
              "    <tr>\n",
              "      <th>std</th>\n",
              "      <td>164.400426</td>\n",
              "      <td>0.557571</td>\n",
              "    </tr>\n",
              "    <tr>\n",
              "      <th>min</th>\n",
              "      <td>0.000000</td>\n",
              "      <td>5.410000</td>\n",
              "    </tr>\n",
              "    <tr>\n",
              "      <th>25%</th>\n",
              "      <td>142.000000</td>\n",
              "      <td>9.310000</td>\n",
              "    </tr>\n",
              "    <tr>\n",
              "      <th>50%</th>\n",
              "      <td>284.000000</td>\n",
              "      <td>9.580000</td>\n",
              "    </tr>\n",
              "    <tr>\n",
              "      <th>75%</th>\n",
              "      <td>426.000000</td>\n",
              "      <td>9.730000</td>\n",
              "    </tr>\n",
              "    <tr>\n",
              "      <th>max</th>\n",
              "      <td>568.000000</td>\n",
              "      <td>9.930000</td>\n",
              "    </tr>\n",
              "  </tbody>\n",
              "</table>\n",
              "</div>"
            ],
            "text/plain": [
              "               id      Rating\n",
              "count  569.000000  569.000000\n",
              "mean   284.000000    9.418998\n",
              "std    164.400426    0.557571\n",
              "min      0.000000    5.410000\n",
              "25%    142.000000    9.310000\n",
              "50%    284.000000    9.580000\n",
              "75%    426.000000    9.730000\n",
              "max    568.000000    9.930000"
            ]
          },
          "metadata": {},
          "execution_count": 7
        }
      ]
    },
    {
      "cell_type": "code",
      "metadata": {
        "colab": {
          "base_uri": "https://localhost:8080/"
        },
        "id": "wxeN6uxZHqNx",
        "outputId": "854a616f-9ca9-4047-c558-b878cd70d862"
      },
      "source": [
        "webtoon_df.isnull().sum() # 결측치 찾기 위해 isnull().sum() 사용, writer column에서 결측치 발견"
      ],
      "execution_count": null,
      "outputs": [
        {
          "output_type": "execute_result",
          "data": {
            "text/plain": [
              "id              0\n",
              "Name            0\n",
              "Writer          1\n",
              "Likes           0\n",
              "Genre           0\n",
              "Rating          0\n",
              "Subscribers     0\n",
              "Summary         0\n",
              "Update          0\n",
              "Reading Link    0\n",
              "dtype: int64"
            ]
          },
          "metadata": {},
          "execution_count": 8
        }
      ]
    },
    {
      "cell_type": "code",
      "metadata": {
        "colab": {
          "base_uri": "https://localhost:8080/",
          "height": 81
        },
        "id": "DQCpanhVB0Ou",
        "outputId": "94acb12a-1809-4774-f166-6a73eaa2c0c5"
      },
      "source": [
        "webtoon_df[webtoon_df['Writer'].isnull()]  # writer column 에서 결측치가 있는 행 찾기 "
      ],
      "execution_count": null,
      "outputs": [
        {
          "output_type": "execute_result",
          "data": {
            "text/html": [
              "<div>\n",
              "<style scoped>\n",
              "    .dataframe tbody tr th:only-of-type {\n",
              "        vertical-align: middle;\n",
              "    }\n",
              "\n",
              "    .dataframe tbody tr th {\n",
              "        vertical-align: top;\n",
              "    }\n",
              "\n",
              "    .dataframe thead th {\n",
              "        text-align: right;\n",
              "    }\n",
              "</style>\n",
              "<table border=\"1\" class=\"dataframe\">\n",
              "  <thead>\n",
              "    <tr style=\"text-align: right;\">\n",
              "      <th></th>\n",
              "      <th>id</th>\n",
              "      <th>Name</th>\n",
              "      <th>Writer</th>\n",
              "      <th>Likes</th>\n",
              "      <th>Genre</th>\n",
              "      <th>Rating</th>\n",
              "      <th>Subscribers</th>\n",
              "      <th>Summary</th>\n",
              "      <th>Update</th>\n",
              "      <th>Reading Link</th>\n",
              "    </tr>\n",
              "  </thead>\n",
              "  <tbody>\n",
              "    <tr>\n",
              "      <th>245</th>\n",
              "      <td>245</td>\n",
              "      <td>My Roommate is a Gumiho</td>\n",
              "      <td>NaN</td>\n",
              "      <td>1M</td>\n",
              "      <td>Romance</td>\n",
              "      <td>9.62</td>\n",
              "      <td>257.3K</td>\n",
              "      <td>Under normal circumstances, 24-year-old Dam Le...</td>\n",
              "      <td>UP EVERY TUE, SAT</td>\n",
              "      <td>https://www.webtoons.com/en/romance/my-roommat...</td>\n",
              "    </tr>\n",
              "  </tbody>\n",
              "</table>\n",
              "</div>"
            ],
            "text/plain": [
              "      id                     Name Writer Likes    Genre  Rating Subscribers  \\\n",
              "245  245  My Roommate is a Gumiho    NaN    1M  Romance    9.62      257.3K   \n",
              "\n",
              "                                               Summary             Update  \\\n",
              "245  Under normal circumstances, 24-year-old Dam Le...  UP EVERY TUE, SAT   \n",
              "\n",
              "                                          Reading Link  \n",
              "245  https://www.webtoons.com/en/romance/my-roommat...  "
            ]
          },
          "metadata": {},
          "execution_count": 9
        }
      ]
    },
    {
      "cell_type": "code",
      "metadata": {
        "id": "X3JbVJk4Ds3F"
      },
      "source": [
        "webtoon_df.replace(to_replace=np.nan, value='I',inplace=True)  # 결측치가 있는 행은 '간떨어지는 동거' 라는 웹툰, 검색결과 작가는 '나' 이기 때문에 영문 'I' 로 대체 \n"
      ],
      "execution_count": null,
      "outputs": []
    },
    {
      "cell_type": "code",
      "metadata": {
        "colab": {
          "base_uri": "https://localhost:8080/",
          "height": 81
        },
        "id": "uNrKgiguFaeP",
        "outputId": "ab99efc9-67dd-45f2-ba2d-b5345bba4ba4"
      },
      "source": [
        "webtoon_df[webtoon_df['id']== 245]    # 결측치 였던 작가부분 I 로 대체되었다."
      ],
      "execution_count": null,
      "outputs": [
        {
          "output_type": "execute_result",
          "data": {
            "text/html": [
              "<div>\n",
              "<style scoped>\n",
              "    .dataframe tbody tr th:only-of-type {\n",
              "        vertical-align: middle;\n",
              "    }\n",
              "\n",
              "    .dataframe tbody tr th {\n",
              "        vertical-align: top;\n",
              "    }\n",
              "\n",
              "    .dataframe thead th {\n",
              "        text-align: right;\n",
              "    }\n",
              "</style>\n",
              "<table border=\"1\" class=\"dataframe\">\n",
              "  <thead>\n",
              "    <tr style=\"text-align: right;\">\n",
              "      <th></th>\n",
              "      <th>id</th>\n",
              "      <th>Name</th>\n",
              "      <th>Writer</th>\n",
              "      <th>Likes</th>\n",
              "      <th>Genre</th>\n",
              "      <th>Rating</th>\n",
              "      <th>Subscribers</th>\n",
              "      <th>Summary</th>\n",
              "      <th>Update</th>\n",
              "      <th>Reading Link</th>\n",
              "    </tr>\n",
              "  </thead>\n",
              "  <tbody>\n",
              "    <tr>\n",
              "      <th>245</th>\n",
              "      <td>245</td>\n",
              "      <td>My Roommate is a Gumiho</td>\n",
              "      <td>I</td>\n",
              "      <td>1M</td>\n",
              "      <td>Romance</td>\n",
              "      <td>9.62</td>\n",
              "      <td>257.3K</td>\n",
              "      <td>Under normal circumstances, 24-year-old Dam Le...</td>\n",
              "      <td>UP EVERY TUE, SAT</td>\n",
              "      <td>https://www.webtoons.com/en/romance/my-roommat...</td>\n",
              "    </tr>\n",
              "  </tbody>\n",
              "</table>\n",
              "</div>"
            ],
            "text/plain": [
              "      id                     Name Writer Likes    Genre  Rating Subscribers  \\\n",
              "245  245  My Roommate is a Gumiho      I    1M  Romance    9.62      257.3K   \n",
              "\n",
              "                                               Summary             Update  \\\n",
              "245  Under normal circumstances, 24-year-old Dam Le...  UP EVERY TUE, SAT   \n",
              "\n",
              "                                          Reading Link  \n",
              "245  https://www.webtoons.com/en/romance/my-roommat...  "
            ]
          },
          "metadata": {},
          "execution_count": 11
        }
      ]
    },
    {
      "cell_type": "code",
      "metadata": {
        "id": "iwKe71ZTItLF"
      },
      "source": [
        "webtoon_df['Update'] = webtoon_df['Update'].str.replace('UP EVERY', '') # update columns에서 'UP EVERY' 부분은 필요없다고 생각해 공백으로 대체하였다."
      ],
      "execution_count": null,
      "outputs": []
    },
    {
      "cell_type": "code",
      "metadata": {
        "colab": {
          "base_uri": "https://localhost:8080/",
          "height": 206
        },
        "id": "fzdv4sO9Oou7",
        "outputId": "f91d8532-cbd5-499c-d94c-b1e9158cd9f1"
      },
      "source": [
        "webtoon_df.head()  # update column 바뀐 것 확인"
      ],
      "execution_count": null,
      "outputs": [
        {
          "output_type": "execute_result",
          "data": {
            "text/html": [
              "<div>\n",
              "<style scoped>\n",
              "    .dataframe tbody tr th:only-of-type {\n",
              "        vertical-align: middle;\n",
              "    }\n",
              "\n",
              "    .dataframe tbody tr th {\n",
              "        vertical-align: top;\n",
              "    }\n",
              "\n",
              "    .dataframe thead th {\n",
              "        text-align: right;\n",
              "    }\n",
              "</style>\n",
              "<table border=\"1\" class=\"dataframe\">\n",
              "  <thead>\n",
              "    <tr style=\"text-align: right;\">\n",
              "      <th></th>\n",
              "      <th>id</th>\n",
              "      <th>Name</th>\n",
              "      <th>Writer</th>\n",
              "      <th>Likes</th>\n",
              "      <th>Genre</th>\n",
              "      <th>Rating</th>\n",
              "      <th>Subscribers</th>\n",
              "      <th>Summary</th>\n",
              "      <th>Update</th>\n",
              "      <th>Reading Link</th>\n",
              "    </tr>\n",
              "  </thead>\n",
              "  <tbody>\n",
              "    <tr>\n",
              "      <th>0</th>\n",
              "      <td>0</td>\n",
              "      <td>Let's Play</td>\n",
              "      <td>Leeanne M. Krecic (Mongie)</td>\n",
              "      <td>30.6M</td>\n",
              "      <td>Romance</td>\n",
              "      <td>9.62</td>\n",
              "      <td>4.2M</td>\n",
              "      <td>She's young, single and about to achieve her d...</td>\n",
              "      <td>TUESDAY</td>\n",
              "      <td>https://www.webtoons.com/en/romance/letsplay/l...</td>\n",
              "    </tr>\n",
              "    <tr>\n",
              "      <th>1</th>\n",
              "      <td>1</td>\n",
              "      <td>True Beauty</td>\n",
              "      <td>Yaongyi</td>\n",
              "      <td>39.9M</td>\n",
              "      <td>Romance</td>\n",
              "      <td>9.60</td>\n",
              "      <td>6.4M</td>\n",
              "      <td>After binge-watching beauty videos online, a s...</td>\n",
              "      <td>WEDNESDAY</td>\n",
              "      <td>https://www.webtoons.com/en/romance/truebeauty...</td>\n",
              "    </tr>\n",
              "    <tr>\n",
              "      <th>2</th>\n",
              "      <td>2</td>\n",
              "      <td>Midnight Poppy Land</td>\n",
              "      <td>Lilydusk</td>\n",
              "      <td>10.4M</td>\n",
              "      <td>Romance</td>\n",
              "      <td>9.81</td>\n",
              "      <td>2.1M</td>\n",
              "      <td>After making a grisly discovery in the country...</td>\n",
              "      <td>SATURDAY</td>\n",
              "      <td>https://www.webtoons.com/en/romance/midnight-p...</td>\n",
              "    </tr>\n",
              "    <tr>\n",
              "      <th>3</th>\n",
              "      <td>3</td>\n",
              "      <td>Age Matters</td>\n",
              "      <td>Enjelicious</td>\n",
              "      <td>25.9M</td>\n",
              "      <td>Romance</td>\n",
              "      <td>9.79</td>\n",
              "      <td>3.5M</td>\n",
              "      <td>She's a hopeless romantic who's turning 30's  ...</td>\n",
              "      <td>WEDNESDAY</td>\n",
              "      <td>https://www.webtoons.com/en/romance/age-matter...</td>\n",
              "    </tr>\n",
              "    <tr>\n",
              "      <th>4</th>\n",
              "      <td>4</td>\n",
              "      <td>Unholy Blood</td>\n",
              "      <td>Lina Im / Jeonghyeon Kim</td>\n",
              "      <td>9.9M</td>\n",
              "      <td>Supernatural</td>\n",
              "      <td>9.85</td>\n",
              "      <td>1.5M</td>\n",
              "      <td>When vampires destroy her chance to have the n...</td>\n",
              "      <td>THURSDAY</td>\n",
              "      <td>https://www.webtoons.com/en/supernatural/unhol...</td>\n",
              "    </tr>\n",
              "  </tbody>\n",
              "</table>\n",
              "</div>"
            ],
            "text/plain": [
              "   id                 Name                      Writer  Likes         Genre  \\\n",
              "0   0           Let's Play  Leeanne M. Krecic (Mongie)  30.6M       Romance   \n",
              "1   1          True Beauty                     Yaongyi  39.9M       Romance   \n",
              "2   2  Midnight Poppy Land                    Lilydusk  10.4M       Romance   \n",
              "3   3          Age Matters                 Enjelicious  25.9M       Romance   \n",
              "4   4         Unholy Blood    Lina Im / Jeonghyeon Kim   9.9M  Supernatural   \n",
              "\n",
              "   Rating Subscribers                                            Summary  \\\n",
              "0    9.62        4.2M  She's young, single and about to achieve her d...   \n",
              "1    9.60        6.4M  After binge-watching beauty videos online, a s...   \n",
              "2    9.81        2.1M  After making a grisly discovery in the country...   \n",
              "3    9.79        3.5M  She's a hopeless romantic who's turning 30's  ...   \n",
              "4    9.85        1.5M  When vampires destroy her chance to have the n...   \n",
              "\n",
              "       Update                                       Reading Link  \n",
              "0     TUESDAY  https://www.webtoons.com/en/romance/letsplay/l...  \n",
              "1   WEDNESDAY  https://www.webtoons.com/en/romance/truebeauty...  \n",
              "2    SATURDAY  https://www.webtoons.com/en/romance/midnight-p...  \n",
              "3   WEDNESDAY  https://www.webtoons.com/en/romance/age-matter...  \n",
              "4    THURSDAY  https://www.webtoons.com/en/supernatural/unhol...  "
            ]
          },
          "metadata": {},
          "execution_count": 13
        }
      ]
    },
    {
      "cell_type": "code",
      "metadata": {
        "id": "AFpaXk0EP-SF"
      },
      "source": [
        "webtoon_df = webtoon_df.round({'Rating':1}) # 'Rating' column을 소수점 한자리 수 까지만 표현"
      ],
      "execution_count": null,
      "outputs": []
    },
    {
      "cell_type": "code",
      "metadata": {
        "colab": {
          "base_uri": "https://localhost:8080/",
          "height": 206
        },
        "id": "Sw3owUZsQZ05",
        "outputId": "c40a3f74-b71b-49c4-9e7d-bbaaa8335384"
      },
      "source": [
        "webtoon_df.head() # 변화 확인"
      ],
      "execution_count": null,
      "outputs": [
        {
          "output_type": "execute_result",
          "data": {
            "text/html": [
              "<div>\n",
              "<style scoped>\n",
              "    .dataframe tbody tr th:only-of-type {\n",
              "        vertical-align: middle;\n",
              "    }\n",
              "\n",
              "    .dataframe tbody tr th {\n",
              "        vertical-align: top;\n",
              "    }\n",
              "\n",
              "    .dataframe thead th {\n",
              "        text-align: right;\n",
              "    }\n",
              "</style>\n",
              "<table border=\"1\" class=\"dataframe\">\n",
              "  <thead>\n",
              "    <tr style=\"text-align: right;\">\n",
              "      <th></th>\n",
              "      <th>id</th>\n",
              "      <th>Name</th>\n",
              "      <th>Writer</th>\n",
              "      <th>Likes</th>\n",
              "      <th>Genre</th>\n",
              "      <th>Rating</th>\n",
              "      <th>Subscribers</th>\n",
              "      <th>Summary</th>\n",
              "      <th>Update</th>\n",
              "      <th>Reading Link</th>\n",
              "    </tr>\n",
              "  </thead>\n",
              "  <tbody>\n",
              "    <tr>\n",
              "      <th>0</th>\n",
              "      <td>0</td>\n",
              "      <td>Let's Play</td>\n",
              "      <td>Leeanne M. Krecic (Mongie)</td>\n",
              "      <td>30.6M</td>\n",
              "      <td>Romance</td>\n",
              "      <td>9.6</td>\n",
              "      <td>4.2M</td>\n",
              "      <td>She's young, single and about to achieve her d...</td>\n",
              "      <td>TUESDAY</td>\n",
              "      <td>https://www.webtoons.com/en/romance/letsplay/l...</td>\n",
              "    </tr>\n",
              "    <tr>\n",
              "      <th>1</th>\n",
              "      <td>1</td>\n",
              "      <td>True Beauty</td>\n",
              "      <td>Yaongyi</td>\n",
              "      <td>39.9M</td>\n",
              "      <td>Romance</td>\n",
              "      <td>9.6</td>\n",
              "      <td>6.4M</td>\n",
              "      <td>After binge-watching beauty videos online, a s...</td>\n",
              "      <td>WEDNESDAY</td>\n",
              "      <td>https://www.webtoons.com/en/romance/truebeauty...</td>\n",
              "    </tr>\n",
              "    <tr>\n",
              "      <th>2</th>\n",
              "      <td>2</td>\n",
              "      <td>Midnight Poppy Land</td>\n",
              "      <td>Lilydusk</td>\n",
              "      <td>10.4M</td>\n",
              "      <td>Romance</td>\n",
              "      <td>9.8</td>\n",
              "      <td>2.1M</td>\n",
              "      <td>After making a grisly discovery in the country...</td>\n",
              "      <td>SATURDAY</td>\n",
              "      <td>https://www.webtoons.com/en/romance/midnight-p...</td>\n",
              "    </tr>\n",
              "    <tr>\n",
              "      <th>3</th>\n",
              "      <td>3</td>\n",
              "      <td>Age Matters</td>\n",
              "      <td>Enjelicious</td>\n",
              "      <td>25.9M</td>\n",
              "      <td>Romance</td>\n",
              "      <td>9.8</td>\n",
              "      <td>3.5M</td>\n",
              "      <td>She's a hopeless romantic who's turning 30's  ...</td>\n",
              "      <td>WEDNESDAY</td>\n",
              "      <td>https://www.webtoons.com/en/romance/age-matter...</td>\n",
              "    </tr>\n",
              "    <tr>\n",
              "      <th>4</th>\n",
              "      <td>4</td>\n",
              "      <td>Unholy Blood</td>\n",
              "      <td>Lina Im / Jeonghyeon Kim</td>\n",
              "      <td>9.9M</td>\n",
              "      <td>Supernatural</td>\n",
              "      <td>9.8</td>\n",
              "      <td>1.5M</td>\n",
              "      <td>When vampires destroy her chance to have the n...</td>\n",
              "      <td>THURSDAY</td>\n",
              "      <td>https://www.webtoons.com/en/supernatural/unhol...</td>\n",
              "    </tr>\n",
              "  </tbody>\n",
              "</table>\n",
              "</div>"
            ],
            "text/plain": [
              "   id                 Name                      Writer  Likes         Genre  \\\n",
              "0   0           Let's Play  Leeanne M. Krecic (Mongie)  30.6M       Romance   \n",
              "1   1          True Beauty                     Yaongyi  39.9M       Romance   \n",
              "2   2  Midnight Poppy Land                    Lilydusk  10.4M       Romance   \n",
              "3   3          Age Matters                 Enjelicious  25.9M       Romance   \n",
              "4   4         Unholy Blood    Lina Im / Jeonghyeon Kim   9.9M  Supernatural   \n",
              "\n",
              "   Rating Subscribers                                            Summary  \\\n",
              "0     9.6        4.2M  She's young, single and about to achieve her d...   \n",
              "1     9.6        6.4M  After binge-watching beauty videos online, a s...   \n",
              "2     9.8        2.1M  After making a grisly discovery in the country...   \n",
              "3     9.8        3.5M  She's a hopeless romantic who's turning 30's  ...   \n",
              "4     9.8        1.5M  When vampires destroy her chance to have the n...   \n",
              "\n",
              "       Update                                       Reading Link  \n",
              "0     TUESDAY  https://www.webtoons.com/en/romance/letsplay/l...  \n",
              "1   WEDNESDAY  https://www.webtoons.com/en/romance/truebeauty...  \n",
              "2    SATURDAY  https://www.webtoons.com/en/romance/midnight-p...  \n",
              "3   WEDNESDAY  https://www.webtoons.com/en/romance/age-matter...  \n",
              "4    THURSDAY  https://www.webtoons.com/en/supernatural/unhol...  "
            ]
          },
          "metadata": {},
          "execution_count": 15
        }
      ]
    },
    {
      "cell_type": "code",
      "metadata": {
        "id": "tjezh0qlGTRi"
      },
      "source": [
        "webtoon_df = webtoon_df.drop(['Summary', 'Reading Link'], axis=1)    # 필요없는 columns 'Summary','Reading Link' 제거"
      ],
      "execution_count": null,
      "outputs": []
    },
    {
      "cell_type": "code",
      "metadata": {
        "colab": {
          "base_uri": "https://localhost:8080/",
          "height": 206
        },
        "id": "q1mO2lAYHTYm",
        "outputId": "d33f807c-0ace-4508-c738-49f55e93d59d"
      },
      "source": [
        "webtoon_df.head() # 변화 확인"
      ],
      "execution_count": null,
      "outputs": [
        {
          "output_type": "execute_result",
          "data": {
            "text/html": [
              "<div>\n",
              "<style scoped>\n",
              "    .dataframe tbody tr th:only-of-type {\n",
              "        vertical-align: middle;\n",
              "    }\n",
              "\n",
              "    .dataframe tbody tr th {\n",
              "        vertical-align: top;\n",
              "    }\n",
              "\n",
              "    .dataframe thead th {\n",
              "        text-align: right;\n",
              "    }\n",
              "</style>\n",
              "<table border=\"1\" class=\"dataframe\">\n",
              "  <thead>\n",
              "    <tr style=\"text-align: right;\">\n",
              "      <th></th>\n",
              "      <th>id</th>\n",
              "      <th>Name</th>\n",
              "      <th>Writer</th>\n",
              "      <th>Likes</th>\n",
              "      <th>Genre</th>\n",
              "      <th>Rating</th>\n",
              "      <th>Subscribers</th>\n",
              "      <th>Update</th>\n",
              "    </tr>\n",
              "  </thead>\n",
              "  <tbody>\n",
              "    <tr>\n",
              "      <th>0</th>\n",
              "      <td>0</td>\n",
              "      <td>Let's Play</td>\n",
              "      <td>Leeanne M. Krecic (Mongie)</td>\n",
              "      <td>30.6M</td>\n",
              "      <td>Romance</td>\n",
              "      <td>9.6</td>\n",
              "      <td>4.2M</td>\n",
              "      <td>TUESDAY</td>\n",
              "    </tr>\n",
              "    <tr>\n",
              "      <th>1</th>\n",
              "      <td>1</td>\n",
              "      <td>True Beauty</td>\n",
              "      <td>Yaongyi</td>\n",
              "      <td>39.9M</td>\n",
              "      <td>Romance</td>\n",
              "      <td>9.6</td>\n",
              "      <td>6.4M</td>\n",
              "      <td>WEDNESDAY</td>\n",
              "    </tr>\n",
              "    <tr>\n",
              "      <th>2</th>\n",
              "      <td>2</td>\n",
              "      <td>Midnight Poppy Land</td>\n",
              "      <td>Lilydusk</td>\n",
              "      <td>10.4M</td>\n",
              "      <td>Romance</td>\n",
              "      <td>9.8</td>\n",
              "      <td>2.1M</td>\n",
              "      <td>SATURDAY</td>\n",
              "    </tr>\n",
              "    <tr>\n",
              "      <th>3</th>\n",
              "      <td>3</td>\n",
              "      <td>Age Matters</td>\n",
              "      <td>Enjelicious</td>\n",
              "      <td>25.9M</td>\n",
              "      <td>Romance</td>\n",
              "      <td>9.8</td>\n",
              "      <td>3.5M</td>\n",
              "      <td>WEDNESDAY</td>\n",
              "    </tr>\n",
              "    <tr>\n",
              "      <th>4</th>\n",
              "      <td>4</td>\n",
              "      <td>Unholy Blood</td>\n",
              "      <td>Lina Im / Jeonghyeon Kim</td>\n",
              "      <td>9.9M</td>\n",
              "      <td>Supernatural</td>\n",
              "      <td>9.8</td>\n",
              "      <td>1.5M</td>\n",
              "      <td>THURSDAY</td>\n",
              "    </tr>\n",
              "  </tbody>\n",
              "</table>\n",
              "</div>"
            ],
            "text/plain": [
              "   id                 Name                      Writer  Likes         Genre  \\\n",
              "0   0           Let's Play  Leeanne M. Krecic (Mongie)  30.6M       Romance   \n",
              "1   1          True Beauty                     Yaongyi  39.9M       Romance   \n",
              "2   2  Midnight Poppy Land                    Lilydusk  10.4M       Romance   \n",
              "3   3          Age Matters                 Enjelicious  25.9M       Romance   \n",
              "4   4         Unholy Blood    Lina Im / Jeonghyeon Kim   9.9M  Supernatural   \n",
              "\n",
              "   Rating Subscribers      Update  \n",
              "0     9.6        4.2M     TUESDAY  \n",
              "1     9.6        6.4M   WEDNESDAY  \n",
              "2     9.8        2.1M    SATURDAY  \n",
              "3     9.8        3.5M   WEDNESDAY  \n",
              "4     9.8        1.5M    THURSDAY  "
            ]
          },
          "metadata": {},
          "execution_count": 17
        }
      ]
    },
    {
      "cell_type": "code",
      "metadata": {
        "colab": {
          "base_uri": "https://localhost:8080/"
        },
        "id": "Qq3c-S19OZNu",
        "outputId": "c8024560-582b-45df-f2a6-a5b35441b155"
      },
      "source": [
        "webtoon_df['Subscribers']  # 구독자수 항목에 수 단위 M, K, k 가 섞여 있고, 소수점으로 표시 되어 있다."
      ],
      "execution_count": null,
      "outputs": [
        {
          "output_type": "execute_result",
          "data": {
            "text/plain": [
              "0        4.2M\n",
              "1        6.4M\n",
              "2        2.1M\n",
              "3        3.5M\n",
              "4        1.5M\n",
              "        ...  \n",
              "564    376.9K\n",
              "565     60.4K\n",
              "566    459.2K\n",
              "567    204.6K\n",
              "568    109.1K\n",
              "Name: Subscribers, Length: 569, dtype: object"
            ]
          },
          "metadata": {},
          "execution_count": 18
        }
      ]
    },
    {
      "cell_type": "code",
      "metadata": {
        "id": "IGedIfAYKhl8"
      },
      "source": [
        "webtoon_df['Subscribers'] = webtoon_df['Subscribers'].str.replace('.', '') \n",
        "webtoon_df['Subscribers'] = webtoon_df['Subscribers'].str.replace('M', '00000') # 'Subcribers' columns int형으로 바꾸기 위해 수의 단위를 표시하는데 쓰인\n",
        "webtoon_df['Subscribers'] = webtoon_df['Subscribers'].str.replace('K', '00') #  'k', 'M', 'K','.' 를 제거 및 변환하였다.\n",
        "webtoon_df['Subscribers'] = webtoon_df['Subscribers'].str.replace('k', '00') "
      ],
      "execution_count": null,
      "outputs": []
    },
    {
      "cell_type": "code",
      "metadata": {
        "colab": {
          "base_uri": "https://localhost:8080/"
        },
        "id": "QjhEvpWvOe-y",
        "outputId": "ae60ceba-5cf8-4eaf-f437-93b068930ef3"
      },
      "source": [
        "webtoon_df['Subscribers'] # 바뀐 것 확인"
      ],
      "execution_count": null,
      "outputs": [
        {
          "output_type": "execute_result",
          "data": {
            "text/plain": [
              "0      4200000\n",
              "1      6400000\n",
              "2      2100000\n",
              "3      3500000\n",
              "4      1500000\n",
              "        ...   \n",
              "564     376900\n",
              "565      60400\n",
              "566     459200\n",
              "567     204600\n",
              "568     109100\n",
              "Name: Subscribers, Length: 569, dtype: object"
            ]
          },
          "metadata": {},
          "execution_count": 20
        }
      ]
    },
    {
      "cell_type": "code",
      "metadata": {
        "colab": {
          "base_uri": "https://localhost:8080/"
        },
        "id": "wkGejhsRLnGj",
        "outputId": "4c842942-55f9-4e8a-9a4c-84b5a092a9e3"
      },
      "source": [
        "webtoon_df.dtypes"
      ],
      "execution_count": null,
      "outputs": [
        {
          "output_type": "execute_result",
          "data": {
            "text/plain": [
              "id               int64\n",
              "Name            object\n",
              "Writer          object\n",
              "Likes           object\n",
              "Genre           object\n",
              "Rating         float64\n",
              "Subscribers     object\n",
              "Update          object\n",
              "dtype: object"
            ]
          },
          "metadata": {},
          "execution_count": 21
        }
      ]
    },
    {
      "cell_type": "code",
      "metadata": {
        "id": "UcinJbJGLN_c"
      },
      "source": [
        "webtoon_df['Subscribers(int)'] = pd.to_numeric(webtoon_df['Subscribers']) # 'Subscribers(int) 라는 int형 columns를 만들었다.\n",
        "webtoon_df = webtoon_df.drop(['Subscribers'], axis=1)    # 필요없는 columns 'Subscribers' 제거\n",
        "webtoon_df.rename(columns={                              # 다시 원래 이름이던 'Subscribers' 로 columns 명을 바꿔준다.\n",
        "    'Subscribers(int)':'Subscribers',},\n",
        "    inplace = True)"
      ],
      "execution_count": null,
      "outputs": []
    },
    {
      "cell_type": "code",
      "metadata": {
        "colab": {
          "base_uri": "https://localhost:8080/"
        },
        "id": "kDKuwTd9SSu3",
        "outputId": "904d8553-2ca7-4d29-8c5d-317207fd95a8"
      },
      "source": [
        "webtoon_df['Subscribers']"
      ],
      "execution_count": null,
      "outputs": [
        {
          "output_type": "execute_result",
          "data": {
            "text/plain": [
              "0      4200000\n",
              "1      6400000\n",
              "2      2100000\n",
              "3      3500000\n",
              "4      1500000\n",
              "        ...   \n",
              "564     376900\n",
              "565      60400\n",
              "566     459200\n",
              "567     204600\n",
              "568     109100\n",
              "Name: Subscribers, Length: 569, dtype: int64"
            ]
          },
          "metadata": {},
          "execution_count": 23
        }
      ]
    },
    {
      "cell_type": "code",
      "metadata": {
        "colab": {
          "base_uri": "https://localhost:8080/"
        },
        "id": "sfL3hzOGRoir",
        "outputId": "ca8a22ec-9b9b-4a37-dbbb-193f467fb3cc"
      },
      "source": [
        "webtoon_df.dtypes # 구독자 열 INT형으로 바뀐것 확인"
      ],
      "execution_count": null,
      "outputs": [
        {
          "output_type": "execute_result",
          "data": {
            "text/plain": [
              "id               int64\n",
              "Name            object\n",
              "Writer          object\n",
              "Likes           object\n",
              "Genre           object\n",
              "Rating         float64\n",
              "Update          object\n",
              "Subscribers      int64\n",
              "dtype: object"
            ]
          },
          "metadata": {},
          "execution_count": 24
        }
      ]
    },
    {
      "cell_type": "code",
      "metadata": {
        "colab": {
          "base_uri": "https://localhost:8080/",
          "height": 206
        },
        "id": "odRlcLzWRCgN",
        "outputId": "55ea8d18-c2aa-4b75-aabd-b1355ed2762b"
      },
      "source": [
        "webtoon_df.head()"
      ],
      "execution_count": null,
      "outputs": [
        {
          "output_type": "execute_result",
          "data": {
            "text/html": [
              "<div>\n",
              "<style scoped>\n",
              "    .dataframe tbody tr th:only-of-type {\n",
              "        vertical-align: middle;\n",
              "    }\n",
              "\n",
              "    .dataframe tbody tr th {\n",
              "        vertical-align: top;\n",
              "    }\n",
              "\n",
              "    .dataframe thead th {\n",
              "        text-align: right;\n",
              "    }\n",
              "</style>\n",
              "<table border=\"1\" class=\"dataframe\">\n",
              "  <thead>\n",
              "    <tr style=\"text-align: right;\">\n",
              "      <th></th>\n",
              "      <th>id</th>\n",
              "      <th>Name</th>\n",
              "      <th>Writer</th>\n",
              "      <th>Likes</th>\n",
              "      <th>Genre</th>\n",
              "      <th>Rating</th>\n",
              "      <th>Update</th>\n",
              "      <th>Subscribers</th>\n",
              "    </tr>\n",
              "  </thead>\n",
              "  <tbody>\n",
              "    <tr>\n",
              "      <th>0</th>\n",
              "      <td>0</td>\n",
              "      <td>Let's Play</td>\n",
              "      <td>Leeanne M. Krecic (Mongie)</td>\n",
              "      <td>30.6M</td>\n",
              "      <td>Romance</td>\n",
              "      <td>9.6</td>\n",
              "      <td>TUESDAY</td>\n",
              "      <td>4200000</td>\n",
              "    </tr>\n",
              "    <tr>\n",
              "      <th>1</th>\n",
              "      <td>1</td>\n",
              "      <td>True Beauty</td>\n",
              "      <td>Yaongyi</td>\n",
              "      <td>39.9M</td>\n",
              "      <td>Romance</td>\n",
              "      <td>9.6</td>\n",
              "      <td>WEDNESDAY</td>\n",
              "      <td>6400000</td>\n",
              "    </tr>\n",
              "    <tr>\n",
              "      <th>2</th>\n",
              "      <td>2</td>\n",
              "      <td>Midnight Poppy Land</td>\n",
              "      <td>Lilydusk</td>\n",
              "      <td>10.4M</td>\n",
              "      <td>Romance</td>\n",
              "      <td>9.8</td>\n",
              "      <td>SATURDAY</td>\n",
              "      <td>2100000</td>\n",
              "    </tr>\n",
              "    <tr>\n",
              "      <th>3</th>\n",
              "      <td>3</td>\n",
              "      <td>Age Matters</td>\n",
              "      <td>Enjelicious</td>\n",
              "      <td>25.9M</td>\n",
              "      <td>Romance</td>\n",
              "      <td>9.8</td>\n",
              "      <td>WEDNESDAY</td>\n",
              "      <td>3500000</td>\n",
              "    </tr>\n",
              "    <tr>\n",
              "      <th>4</th>\n",
              "      <td>4</td>\n",
              "      <td>Unholy Blood</td>\n",
              "      <td>Lina Im / Jeonghyeon Kim</td>\n",
              "      <td>9.9M</td>\n",
              "      <td>Supernatural</td>\n",
              "      <td>9.8</td>\n",
              "      <td>THURSDAY</td>\n",
              "      <td>1500000</td>\n",
              "    </tr>\n",
              "  </tbody>\n",
              "</table>\n",
              "</div>"
            ],
            "text/plain": [
              "   id                 Name                      Writer  Likes         Genre  \\\n",
              "0   0           Let's Play  Leeanne M. Krecic (Mongie)  30.6M       Romance   \n",
              "1   1          True Beauty                     Yaongyi  39.9M       Romance   \n",
              "2   2  Midnight Poppy Land                    Lilydusk  10.4M       Romance   \n",
              "3   3          Age Matters                 Enjelicious  25.9M       Romance   \n",
              "4   4         Unholy Blood    Lina Im / Jeonghyeon Kim   9.9M  Supernatural   \n",
              "\n",
              "   Rating      Update  Subscribers  \n",
              "0     9.6     TUESDAY      4200000  \n",
              "1     9.6   WEDNESDAY      6400000  \n",
              "2     9.8    SATURDAY      2100000  \n",
              "3     9.8   WEDNESDAY      3500000  \n",
              "4     9.8    THURSDAY      1500000  "
            ]
          },
          "metadata": {},
          "execution_count": 25
        }
      ]
    },
    {
      "cell_type": "code",
      "metadata": {
        "colab": {
          "base_uri": "https://localhost:8080/"
        },
        "id": "xixifJhlTAIV",
        "outputId": "cd9a0050-3a28-43d4-c357-ab83feae5b13"
      },
      "source": [
        "# 마찬가지로 Likes 도 바꿔준다.\n",
        "webtoon_df['Likes']"
      ],
      "execution_count": null,
      "outputs": [
        {
          "output_type": "execute_result",
          "data": {
            "text/plain": [
              "0         30.6M\n",
              "1         39.9M\n",
              "2         10.4M\n",
              "3         25.9M\n",
              "4          9.9M\n",
              "         ...   \n",
              "564    8,66,428\n",
              "565    1,84,981\n",
              "566        1.9M\n",
              "567        1.5M\n",
              "568    2,65,458\n",
              "Name: Likes, Length: 569, dtype: object"
            ]
          },
          "metadata": {},
          "execution_count": 26
        }
      ]
    },
    {
      "cell_type": "code",
      "metadata": {
        "colab": {
          "base_uri": "https://localhost:8080/"
        },
        "id": "GO1g22SrTd8l",
        "outputId": "fd9c8bc8-5e6f-4e36-91d0-06c2588db426"
      },
      "source": [
        "webtoon_df['Likes'] = webtoon_df['Likes'].str.replace(',', '') # likes columns 에서 ',' 를 제거 했다.\n",
        "webtoon_df['Likes'] = webtoon_df['Likes'].str.replace('.', '') # likes columns 에서 '.' 를 제거 했다.\n",
        "webtoon_df['Likes'] = webtoon_df['Likes'].str.replace('M', '00000') # likes columns에서 M 을 00000 으로 변경했다.\n",
        "webtoon_df['Likes']"
      ],
      "execution_count": null,
      "outputs": [
        {
          "output_type": "execute_result",
          "data": {
            "text/plain": [
              "0      30600000\n",
              "1      39900000\n",
              "2      10400000\n",
              "3      25900000\n",
              "4       9900000\n",
              "         ...   \n",
              "564      866428\n",
              "565      184981\n",
              "566     1900000\n",
              "567     1500000\n",
              "568      265458\n",
              "Name: Likes, Length: 569, dtype: object"
            ]
          },
          "metadata": {},
          "execution_count": 27
        }
      ]
    },
    {
      "cell_type": "code",
      "metadata": {
        "colab": {
          "base_uri": "https://localhost:8080/"
        },
        "id": "ghcCE2-PUOfY",
        "outputId": "d81ac4e3-93f8-4029-c154-be23fdd1770f"
      },
      "source": [
        "webtoon_df['Likes(int)'] = pd.to_numeric(webtoon_df['Likes']) # 'Likes(int)' 라는 int형 columns를 만들었다.\n",
        "webtoon_df = webtoon_df.drop(['Likes'], axis=1)    # 필요없는 columns 'Likes' 제거\n",
        "webtoon_df.rename(columns={                              # 다시 원래 이름이던 'Likes' 로 columns 명을 바꿔준다.\n",
        "    'Likes(int)':'Likes',},\n",
        "    inplace = True)\n",
        "webtoon_df['Likes']"
      ],
      "execution_count": null,
      "outputs": [
        {
          "output_type": "execute_result",
          "data": {
            "text/plain": [
              "0      30600000\n",
              "1      39900000\n",
              "2      10400000\n",
              "3      25900000\n",
              "4       9900000\n",
              "         ...   \n",
              "564      866428\n",
              "565      184981\n",
              "566     1900000\n",
              "567     1500000\n",
              "568      265458\n",
              "Name: Likes, Length: 569, dtype: int64"
            ]
          },
          "metadata": {},
          "execution_count": 28
        }
      ]
    },
    {
      "cell_type": "code",
      "metadata": {
        "colab": {
          "base_uri": "https://localhost:8080/",
          "height": 206
        },
        "id": "XEuEq86zUgVC",
        "outputId": "7ce91b4d-3cea-4bd3-bef6-7199affe662d"
      },
      "source": [
        "webtoon_df.head() # 최종 모습"
      ],
      "execution_count": null,
      "outputs": [
        {
          "output_type": "execute_result",
          "data": {
            "text/html": [
              "<div>\n",
              "<style scoped>\n",
              "    .dataframe tbody tr th:only-of-type {\n",
              "        vertical-align: middle;\n",
              "    }\n",
              "\n",
              "    .dataframe tbody tr th {\n",
              "        vertical-align: top;\n",
              "    }\n",
              "\n",
              "    .dataframe thead th {\n",
              "        text-align: right;\n",
              "    }\n",
              "</style>\n",
              "<table border=\"1\" class=\"dataframe\">\n",
              "  <thead>\n",
              "    <tr style=\"text-align: right;\">\n",
              "      <th></th>\n",
              "      <th>id</th>\n",
              "      <th>Name</th>\n",
              "      <th>Writer</th>\n",
              "      <th>Genre</th>\n",
              "      <th>Rating</th>\n",
              "      <th>Update</th>\n",
              "      <th>Subscribers</th>\n",
              "      <th>Likes</th>\n",
              "    </tr>\n",
              "  </thead>\n",
              "  <tbody>\n",
              "    <tr>\n",
              "      <th>0</th>\n",
              "      <td>0</td>\n",
              "      <td>Let's Play</td>\n",
              "      <td>Leeanne M. Krecic (Mongie)</td>\n",
              "      <td>Romance</td>\n",
              "      <td>9.6</td>\n",
              "      <td>TUESDAY</td>\n",
              "      <td>4200000</td>\n",
              "      <td>30600000</td>\n",
              "    </tr>\n",
              "    <tr>\n",
              "      <th>1</th>\n",
              "      <td>1</td>\n",
              "      <td>True Beauty</td>\n",
              "      <td>Yaongyi</td>\n",
              "      <td>Romance</td>\n",
              "      <td>9.6</td>\n",
              "      <td>WEDNESDAY</td>\n",
              "      <td>6400000</td>\n",
              "      <td>39900000</td>\n",
              "    </tr>\n",
              "    <tr>\n",
              "      <th>2</th>\n",
              "      <td>2</td>\n",
              "      <td>Midnight Poppy Land</td>\n",
              "      <td>Lilydusk</td>\n",
              "      <td>Romance</td>\n",
              "      <td>9.8</td>\n",
              "      <td>SATURDAY</td>\n",
              "      <td>2100000</td>\n",
              "      <td>10400000</td>\n",
              "    </tr>\n",
              "    <tr>\n",
              "      <th>3</th>\n",
              "      <td>3</td>\n",
              "      <td>Age Matters</td>\n",
              "      <td>Enjelicious</td>\n",
              "      <td>Romance</td>\n",
              "      <td>9.8</td>\n",
              "      <td>WEDNESDAY</td>\n",
              "      <td>3500000</td>\n",
              "      <td>25900000</td>\n",
              "    </tr>\n",
              "    <tr>\n",
              "      <th>4</th>\n",
              "      <td>4</td>\n",
              "      <td>Unholy Blood</td>\n",
              "      <td>Lina Im / Jeonghyeon Kim</td>\n",
              "      <td>Supernatural</td>\n",
              "      <td>9.8</td>\n",
              "      <td>THURSDAY</td>\n",
              "      <td>1500000</td>\n",
              "      <td>9900000</td>\n",
              "    </tr>\n",
              "  </tbody>\n",
              "</table>\n",
              "</div>"
            ],
            "text/plain": [
              "   id                 Name                      Writer         Genre  Rating  \\\n",
              "0   0           Let's Play  Leeanne M. Krecic (Mongie)       Romance     9.6   \n",
              "1   1          True Beauty                     Yaongyi       Romance     9.6   \n",
              "2   2  Midnight Poppy Land                    Lilydusk       Romance     9.8   \n",
              "3   3          Age Matters                 Enjelicious       Romance     9.8   \n",
              "4   4         Unholy Blood    Lina Im / Jeonghyeon Kim  Supernatural     9.8   \n",
              "\n",
              "       Update  Subscribers     Likes  \n",
              "0     TUESDAY      4200000  30600000  \n",
              "1   WEDNESDAY      6400000  39900000  \n",
              "2    SATURDAY      2100000  10400000  \n",
              "3   WEDNESDAY      3500000  25900000  \n",
              "4    THURSDAY      1500000   9900000  "
            ]
          },
          "metadata": {},
          "execution_count": 29
        }
      ]
    },
    {
      "cell_type": "markdown",
      "metadata": {
        "id": "Y8HgOP2VTF3k"
      },
      "source": [
        "#3. Data vIsualization"
      ]
    },
    {
      "cell_type": "code",
      "metadata": {
        "id": "Y1zNPLM6TN44"
      },
      "source": [
        "import plotly.graph_objects as go"
      ],
      "execution_count": null,
      "outputs": []
    },
    {
      "cell_type": "markdown",
      "metadata": {
        "id": "A5L9TJx0Ym7F"
      },
      "source": [
        "Plotly"
      ]
    },
    {
      "cell_type": "code",
      "metadata": {
        "id": "N4M45txylaFQ"
      },
      "source": [
        "webtoonsortbyupdate = webtoon_df.sort_values(by='Update') # 정렬"
      ],
      "execution_count": null,
      "outputs": []
    },
    {
      "cell_type": "code",
      "metadata": {
        "colab": {
          "base_uri": "https://localhost:8080/"
        },
        "id": "utUaZ3fieBrq",
        "outputId": "cec377d3-f6b7-4763-fb0f-396b560fabee"
      },
      "source": [
        "webtoonsortbyupdate['Update'].unique() # 각각의 unique value 확인"
      ],
      "execution_count": null,
      "outputs": [
        {
          "output_type": "execute_result",
          "data": {
            "text/plain": [
              "array([' FRIDAY', ' MON, FRI', ' MON, THU', ' MON, TUE, WED, THU, SUN',\n",
              "       ' MON, WED', ' MON, WED, FRI', ' MONDAY', ' SATURDAY', ' SUNDAY',\n",
              "       ' THU, SAT', ' THU, SUN', ' THURSDAY', ' TUE, FRI', ' TUE, SAT',\n",
              "       ' TUE, SUN', ' TUE, THU, SAT', ' TUESDAY', ' WED, SAT',\n",
              "       ' WED, SUN', ' WED, THU, FRI, SAT, SUN', ' WEDNESDAY', 'COMPLETED'],\n",
              "      dtype=object)"
            ]
          },
          "metadata": {},
          "execution_count": 32
        }
      ]
    },
    {
      "cell_type": "code",
      "metadata": {
        "colab": {
          "base_uri": "https://localhost:8080/"
        },
        "id": "Rj9pvA7uigJp",
        "outputId": "48412406-5723-49bb-b9f1-fc284e5fad70"
      },
      "source": [
        "webtoon_df.groupby('Update')['Update'].count()"
      ],
      "execution_count": null,
      "outputs": [
        {
          "output_type": "execute_result",
          "data": {
            "text/plain": [
              "Update\n",
              " FRIDAY                      43\n",
              " MON, FRI                     1\n",
              " MON, THU                     2\n",
              " MON, TUE, WED, THU, SUN      1\n",
              " MON, WED                     1\n",
              " MON, WED, FRI                1\n",
              " MONDAY                      40\n",
              " SATURDAY                    42\n",
              " SUNDAY                      36\n",
              " THU, SAT                     1\n",
              " THU, SUN                     3\n",
              " THURSDAY                    39\n",
              " TUE, FRI                     5\n",
              " TUE, SAT                     4\n",
              " TUE, SUN                     1\n",
              " TUE, THU, SAT                1\n",
              " TUESDAY                     40\n",
              " WED, SAT                     2\n",
              " WED, SUN                     1\n",
              " WED, THU, FRI, SAT, SUN      2\n",
              " WEDNESDAY                   42\n",
              "COMPLETED                   261\n",
              "Name: Update, dtype: int64"
            ]
          },
          "metadata": {},
          "execution_count": 33
        }
      ]
    },
    {
      "cell_type": "code",
      "metadata": {
        "colab": {
          "base_uri": "https://localhost:8080/",
          "height": 542
        },
        "id": "1tqXrlQab9t-",
        "outputId": "88feb8b7-12f4-4443-a196-f03af6562a55"
      },
      "source": [
        "# bar graph\n",
        "data = [go.Bar(\n",
        "    x = webtoonsortbyupdate['Update'].unique(),\n",
        "    y = webtoon_df.groupby('Update')['Update'].count()   \n",
        ")]\n",
        "fig = go.Figure(data)\n",
        "\n",
        "fig.show()"
      ],
      "execution_count": null,
      "outputs": [
        {
          "output_type": "display_data",
          "data": {
            "text/html": [
              "<html>\n",
              "<head><meta charset=\"utf-8\" /></head>\n",
              "<body>\n",
              "    <div>            <script src=\"https://cdnjs.cloudflare.com/ajax/libs/mathjax/2.7.5/MathJax.js?config=TeX-AMS-MML_SVG\"></script><script type=\"text/javascript\">if (window.MathJax) {MathJax.Hub.Config({SVG: {font: \"STIX-Web\"}});}</script>                <script type=\"text/javascript\">window.PlotlyConfig = {MathJaxConfig: 'local'};</script>\n",
              "        <script src=\"https://cdn.plot.ly/plotly-2.4.2.min.js\"></script>                <div id=\"edb0030d-7790-4925-9b3b-47ca7ea8a602\" class=\"plotly-graph-div\" style=\"height:525px; width:100%;\"></div>            <script type=\"text/javascript\">                                    window.PLOTLYENV=window.PLOTLYENV || {};                                    if (document.getElementById(\"edb0030d-7790-4925-9b3b-47ca7ea8a602\")) {                    Plotly.newPlot(                        \"edb0030d-7790-4925-9b3b-47ca7ea8a602\",                        [{\"type\":\"bar\",\"x\":[\" FRIDAY\",\" MON, FRI\",\" MON, THU\",\" MON, TUE, WED, THU, SUN\",\" MON, WED\",\" MON, WED, FRI\",\" MONDAY\",\" SATURDAY\",\" SUNDAY\",\" THU, SAT\",\" THU, SUN\",\" THURSDAY\",\" TUE, FRI\",\" TUE, SAT\",\" TUE, SUN\",\" TUE, THU, SAT\",\" TUESDAY\",\" WED, SAT\",\" WED, SUN\",\" WED, THU, FRI, SAT, SUN\",\" WEDNESDAY\",\"COMPLETED\"],\"y\":[43,1,2,1,1,1,40,42,36,1,3,39,5,4,1,1,40,2,1,2,42,261]}],                        {\"template\":{\"data\":{\"bar\":[{\"error_x\":{\"color\":\"#2a3f5f\"},\"error_y\":{\"color\":\"#2a3f5f\"},\"marker\":{\"line\":{\"color\":\"#E5ECF6\",\"width\":0.5},\"pattern\":{\"fillmode\":\"overlay\",\"size\":10,\"solidity\":0.2}},\"type\":\"bar\"}],\"barpolar\":[{\"marker\":{\"line\":{\"color\":\"#E5ECF6\",\"width\":0.5},\"pattern\":{\"fillmode\":\"overlay\",\"size\":10,\"solidity\":0.2}},\"type\":\"barpolar\"}],\"carpet\":[{\"aaxis\":{\"endlinecolor\":\"#2a3f5f\",\"gridcolor\":\"white\",\"linecolor\":\"white\",\"minorgridcolor\":\"white\",\"startlinecolor\":\"#2a3f5f\"},\"baxis\":{\"endlinecolor\":\"#2a3f5f\",\"gridcolor\":\"white\",\"linecolor\":\"white\",\"minorgridcolor\":\"white\",\"startlinecolor\":\"#2a3f5f\"},\"type\":\"carpet\"}],\"choropleth\":[{\"colorbar\":{\"outlinewidth\":0,\"ticks\":\"\"},\"type\":\"choropleth\"}],\"contour\":[{\"colorbar\":{\"outlinewidth\":0,\"ticks\":\"\"},\"colorscale\":[[0.0,\"#0d0887\"],[0.1111111111111111,\"#46039f\"],[0.2222222222222222,\"#7201a8\"],[0.3333333333333333,\"#9c179e\"],[0.4444444444444444,\"#bd3786\"],[0.5555555555555556,\"#d8576b\"],[0.6666666666666666,\"#ed7953\"],[0.7777777777777778,\"#fb9f3a\"],[0.8888888888888888,\"#fdca26\"],[1.0,\"#f0f921\"]],\"type\":\"contour\"}],\"contourcarpet\":[{\"colorbar\":{\"outlinewidth\":0,\"ticks\":\"\"},\"type\":\"contourcarpet\"}],\"heatmap\":[{\"colorbar\":{\"outlinewidth\":0,\"ticks\":\"\"},\"colorscale\":[[0.0,\"#0d0887\"],[0.1111111111111111,\"#46039f\"],[0.2222222222222222,\"#7201a8\"],[0.3333333333333333,\"#9c179e\"],[0.4444444444444444,\"#bd3786\"],[0.5555555555555556,\"#d8576b\"],[0.6666666666666666,\"#ed7953\"],[0.7777777777777778,\"#fb9f3a\"],[0.8888888888888888,\"#fdca26\"],[1.0,\"#f0f921\"]],\"type\":\"heatmap\"}],\"heatmapgl\":[{\"colorbar\":{\"outlinewidth\":0,\"ticks\":\"\"},\"colorscale\":[[0.0,\"#0d0887\"],[0.1111111111111111,\"#46039f\"],[0.2222222222222222,\"#7201a8\"],[0.3333333333333333,\"#9c179e\"],[0.4444444444444444,\"#bd3786\"],[0.5555555555555556,\"#d8576b\"],[0.6666666666666666,\"#ed7953\"],[0.7777777777777778,\"#fb9f3a\"],[0.8888888888888888,\"#fdca26\"],[1.0,\"#f0f921\"]],\"type\":\"heatmapgl\"}],\"histogram\":[{\"marker\":{\"pattern\":{\"fillmode\":\"overlay\",\"size\":10,\"solidity\":0.2}},\"type\":\"histogram\"}],\"histogram2d\":[{\"colorbar\":{\"outlinewidth\":0,\"ticks\":\"\"},\"colorscale\":[[0.0,\"#0d0887\"],[0.1111111111111111,\"#46039f\"],[0.2222222222222222,\"#7201a8\"],[0.3333333333333333,\"#9c179e\"],[0.4444444444444444,\"#bd3786\"],[0.5555555555555556,\"#d8576b\"],[0.6666666666666666,\"#ed7953\"],[0.7777777777777778,\"#fb9f3a\"],[0.8888888888888888,\"#fdca26\"],[1.0,\"#f0f921\"]],\"type\":\"histogram2d\"}],\"histogram2dcontour\":[{\"colorbar\":{\"outlinewidth\":0,\"ticks\":\"\"},\"colorscale\":[[0.0,\"#0d0887\"],[0.1111111111111111,\"#46039f\"],[0.2222222222222222,\"#7201a8\"],[0.3333333333333333,\"#9c179e\"],[0.4444444444444444,\"#bd3786\"],[0.5555555555555556,\"#d8576b\"],[0.6666666666666666,\"#ed7953\"],[0.7777777777777778,\"#fb9f3a\"],[0.8888888888888888,\"#fdca26\"],[1.0,\"#f0f921\"]],\"type\":\"histogram2dcontour\"}],\"mesh3d\":[{\"colorbar\":{\"outlinewidth\":0,\"ticks\":\"\"},\"type\":\"mesh3d\"}],\"parcoords\":[{\"line\":{\"colorbar\":{\"outlinewidth\":0,\"ticks\":\"\"}},\"type\":\"parcoords\"}],\"pie\":[{\"automargin\":true,\"type\":\"pie\"}],\"scatter\":[{\"marker\":{\"colorbar\":{\"outlinewidth\":0,\"ticks\":\"\"}},\"type\":\"scatter\"}],\"scatter3d\":[{\"line\":{\"colorbar\":{\"outlinewidth\":0,\"ticks\":\"\"}},\"marker\":{\"colorbar\":{\"outlinewidth\":0,\"ticks\":\"\"}},\"type\":\"scatter3d\"}],\"scattercarpet\":[{\"marker\":{\"colorbar\":{\"outlinewidth\":0,\"ticks\":\"\"}},\"type\":\"scattercarpet\"}],\"scattergeo\":[{\"marker\":{\"colorbar\":{\"outlinewidth\":0,\"ticks\":\"\"}},\"type\":\"scattergeo\"}],\"scattergl\":[{\"marker\":{\"colorbar\":{\"outlinewidth\":0,\"ticks\":\"\"}},\"type\":\"scattergl\"}],\"scattermapbox\":[{\"marker\":{\"colorbar\":{\"outlinewidth\":0,\"ticks\":\"\"}},\"type\":\"scattermapbox\"}],\"scatterpolar\":[{\"marker\":{\"colorbar\":{\"outlinewidth\":0,\"ticks\":\"\"}},\"type\":\"scatterpolar\"}],\"scatterpolargl\":[{\"marker\":{\"colorbar\":{\"outlinewidth\":0,\"ticks\":\"\"}},\"type\":\"scatterpolargl\"}],\"scatterternary\":[{\"marker\":{\"colorbar\":{\"outlinewidth\":0,\"ticks\":\"\"}},\"type\":\"scatterternary\"}],\"surface\":[{\"colorbar\":{\"outlinewidth\":0,\"ticks\":\"\"},\"colorscale\":[[0.0,\"#0d0887\"],[0.1111111111111111,\"#46039f\"],[0.2222222222222222,\"#7201a8\"],[0.3333333333333333,\"#9c179e\"],[0.4444444444444444,\"#bd3786\"],[0.5555555555555556,\"#d8576b\"],[0.6666666666666666,\"#ed7953\"],[0.7777777777777778,\"#fb9f3a\"],[0.8888888888888888,\"#fdca26\"],[1.0,\"#f0f921\"]],\"type\":\"surface\"}],\"table\":[{\"cells\":{\"fill\":{\"color\":\"#EBF0F8\"},\"line\":{\"color\":\"white\"}},\"header\":{\"fill\":{\"color\":\"#C8D4E3\"},\"line\":{\"color\":\"white\"}},\"type\":\"table\"}]},\"layout\":{\"annotationdefaults\":{\"arrowcolor\":\"#2a3f5f\",\"arrowhead\":0,\"arrowwidth\":1},\"autotypenumbers\":\"strict\",\"coloraxis\":{\"colorbar\":{\"outlinewidth\":0,\"ticks\":\"\"}},\"colorscale\":{\"diverging\":[[0,\"#8e0152\"],[0.1,\"#c51b7d\"],[0.2,\"#de77ae\"],[0.3,\"#f1b6da\"],[0.4,\"#fde0ef\"],[0.5,\"#f7f7f7\"],[0.6,\"#e6f5d0\"],[0.7,\"#b8e186\"],[0.8,\"#7fbc41\"],[0.9,\"#4d9221\"],[1,\"#276419\"]],\"sequential\":[[0.0,\"#0d0887\"],[0.1111111111111111,\"#46039f\"],[0.2222222222222222,\"#7201a8\"],[0.3333333333333333,\"#9c179e\"],[0.4444444444444444,\"#bd3786\"],[0.5555555555555556,\"#d8576b\"],[0.6666666666666666,\"#ed7953\"],[0.7777777777777778,\"#fb9f3a\"],[0.8888888888888888,\"#fdca26\"],[1.0,\"#f0f921\"]],\"sequentialminus\":[[0.0,\"#0d0887\"],[0.1111111111111111,\"#46039f\"],[0.2222222222222222,\"#7201a8\"],[0.3333333333333333,\"#9c179e\"],[0.4444444444444444,\"#bd3786\"],[0.5555555555555556,\"#d8576b\"],[0.6666666666666666,\"#ed7953\"],[0.7777777777777778,\"#fb9f3a\"],[0.8888888888888888,\"#fdca26\"],[1.0,\"#f0f921\"]]},\"colorway\":[\"#636efa\",\"#EF553B\",\"#00cc96\",\"#ab63fa\",\"#FFA15A\",\"#19d3f3\",\"#FF6692\",\"#B6E880\",\"#FF97FF\",\"#FECB52\"],\"font\":{\"color\":\"#2a3f5f\"},\"geo\":{\"bgcolor\":\"white\",\"lakecolor\":\"white\",\"landcolor\":\"#E5ECF6\",\"showlakes\":true,\"showland\":true,\"subunitcolor\":\"white\"},\"hoverlabel\":{\"align\":\"left\"},\"hovermode\":\"closest\",\"mapbox\":{\"style\":\"light\"},\"paper_bgcolor\":\"white\",\"plot_bgcolor\":\"#E5ECF6\",\"polar\":{\"angularaxis\":{\"gridcolor\":\"white\",\"linecolor\":\"white\",\"ticks\":\"\"},\"bgcolor\":\"#E5ECF6\",\"radialaxis\":{\"gridcolor\":\"white\",\"linecolor\":\"white\",\"ticks\":\"\"}},\"scene\":{\"xaxis\":{\"backgroundcolor\":\"#E5ECF6\",\"gridcolor\":\"white\",\"gridwidth\":2,\"linecolor\":\"white\",\"showbackground\":true,\"ticks\":\"\",\"zerolinecolor\":\"white\"},\"yaxis\":{\"backgroundcolor\":\"#E5ECF6\",\"gridcolor\":\"white\",\"gridwidth\":2,\"linecolor\":\"white\",\"showbackground\":true,\"ticks\":\"\",\"zerolinecolor\":\"white\"},\"zaxis\":{\"backgroundcolor\":\"#E5ECF6\",\"gridcolor\":\"white\",\"gridwidth\":2,\"linecolor\":\"white\",\"showbackground\":true,\"ticks\":\"\",\"zerolinecolor\":\"white\"}},\"shapedefaults\":{\"line\":{\"color\":\"#2a3f5f\"}},\"ternary\":{\"aaxis\":{\"gridcolor\":\"white\",\"linecolor\":\"white\",\"ticks\":\"\"},\"baxis\":{\"gridcolor\":\"white\",\"linecolor\":\"white\",\"ticks\":\"\"},\"bgcolor\":\"#E5ECF6\",\"caxis\":{\"gridcolor\":\"white\",\"linecolor\":\"white\",\"ticks\":\"\"}},\"title\":{\"x\":0.05},\"xaxis\":{\"automargin\":true,\"gridcolor\":\"white\",\"linecolor\":\"white\",\"ticks\":\"\",\"title\":{\"standoff\":15},\"zerolinecolor\":\"white\",\"zerolinewidth\":2},\"yaxis\":{\"automargin\":true,\"gridcolor\":\"white\",\"linecolor\":\"white\",\"ticks\":\"\",\"title\":{\"standoff\":15},\"zerolinecolor\":\"white\",\"zerolinewidth\":2}}}},                        {\"responsive\": true}                    ).then(function(){\n",
              "                            \n",
              "var gd = document.getElementById('edb0030d-7790-4925-9b3b-47ca7ea8a602');\n",
              "var x = new MutationObserver(function (mutations, observer) {{\n",
              "        var display = window.getComputedStyle(gd).display;\n",
              "        if (!display || display === 'none') {{\n",
              "            console.log([gd, 'removed!']);\n",
              "            Plotly.purge(gd);\n",
              "            observer.disconnect();\n",
              "        }}\n",
              "}});\n",
              "\n",
              "// Listen for the removal of the full notebook cells\n",
              "var notebookContainer = gd.closest('#notebook-container');\n",
              "if (notebookContainer) {{\n",
              "    x.observe(notebookContainer, {childList: true});\n",
              "}}\n",
              "\n",
              "// Listen for the clearing of the current output cell\n",
              "var outputEl = gd.closest('.output');\n",
              "if (outputEl) {{\n",
              "    x.observe(outputEl, {childList: true});\n",
              "}}\n",
              "\n",
              "                        })                };                            </script>        </div>\n",
              "</body>\n",
              "</html>"
            ]
          },
          "metadata": {}
        }
      ]
    },
    {
      "cell_type": "code",
      "metadata": {
        "id": "R38vxj9OmIC2"
      },
      "source": [
        "sortbygenre = webtoon_df.sort_values(by='Genre')"
      ],
      "execution_count": null,
      "outputs": []
    },
    {
      "cell_type": "code",
      "metadata": {
        "colab": {
          "base_uri": "https://localhost:8080/"
        },
        "id": "0-avGfqvl4fp",
        "outputId": "5a79acdb-2131-461b-b6ac-e6150fd80658"
      },
      "source": [
        "sortbygenre['Genre'].unique()"
      ],
      "execution_count": null,
      "outputs": [
        {
          "output_type": "execute_result",
          "data": {
            "text/plain": [
              "array(['Action', 'Comedy', 'Drama', 'Fantasy', 'Heartwarming',\n",
              "       'Historical', 'Horror', 'Informative', 'Mystery', 'Romance',\n",
              "       'Sci-fi', 'Slice of life', 'Sports', 'Superhero', 'Supernatural',\n",
              "       'Thriller'], dtype=object)"
            ]
          },
          "metadata": {},
          "execution_count": 36
        }
      ]
    },
    {
      "cell_type": "code",
      "metadata": {
        "colab": {
          "base_uri": "https://localhost:8080/"
        },
        "id": "Rh-mrfqel66f",
        "outputId": "f6a0ff09-85bc-466a-a801-18a97f53d899"
      },
      "source": [
        "webtoon_df.groupby('Genre')['Genre'].count()"
      ],
      "execution_count": null,
      "outputs": [
        {
          "output_type": "execute_result",
          "data": {
            "text/plain": [
              "Genre\n",
              "Action           47\n",
              "Comedy           52\n",
              "Drama            60\n",
              "Fantasy          95\n",
              "Heartwarming      2\n",
              "Historical        4\n",
              "Horror           20\n",
              "Informative       5\n",
              "Mystery           9\n",
              "Romance          90\n",
              "Sci-fi           32\n",
              "Slice of life    49\n",
              "Sports           10\n",
              "Superhero        26\n",
              "Supernatural     33\n",
              "Thriller         35\n",
              "Name: Genre, dtype: int64"
            ]
          },
          "metadata": {},
          "execution_count": 37
        }
      ]
    },
    {
      "cell_type": "code",
      "metadata": {
        "colab": {
          "base_uri": "https://localhost:8080/",
          "height": 542
        },
        "id": "F7KkxpHlYlS2",
        "outputId": "602c122f-3c1f-49e9-f3f5-59341e8ed264"
      },
      "source": [
        "# pie chart  \n",
        "# 각 genre별 몇 개의 웹툰이 있는지 확인하기 위한 pie 차트\n",
        "genre = sortbygenre['Genre'].unique()     # 장르가 어떻게 구분되어져 있는지 unique 사용해 확인\n",
        "genre_num = webtoon_df.groupby('Genre')['Genre'].count() # 장르별로 몇 개가 있는지 value_counts 로 확인\n",
        "data = [go.Pie(\n",
        "    labels = genre,\n",
        "    values = genre_num,\n",
        "    pull = [0, 0, 0.1, 0.3, 0, 0, 0, 0 ,0, 0.2, 0]                # 가장 많은 장르 부터 3개까지 크기 별로 pie 차트에서 멀어지게끔 표현\n",
        ")]\n",
        "fig = go.Figure(data = data)\n",
        "fig.show()"
      ],
      "execution_count": null,
      "outputs": [
        {
          "output_type": "display_data",
          "data": {
            "text/html": [
              "<html>\n",
              "<head><meta charset=\"utf-8\" /></head>\n",
              "<body>\n",
              "    <div>            <script src=\"https://cdnjs.cloudflare.com/ajax/libs/mathjax/2.7.5/MathJax.js?config=TeX-AMS-MML_SVG\"></script><script type=\"text/javascript\">if (window.MathJax) {MathJax.Hub.Config({SVG: {font: \"STIX-Web\"}});}</script>                <script type=\"text/javascript\">window.PlotlyConfig = {MathJaxConfig: 'local'};</script>\n",
              "        <script src=\"https://cdn.plot.ly/plotly-2.4.2.min.js\"></script>                <div id=\"f762ec0f-6d72-4a39-b03c-3e677147814c\" class=\"plotly-graph-div\" style=\"height:525px; width:100%;\"></div>            <script type=\"text/javascript\">                                    window.PLOTLYENV=window.PLOTLYENV || {};                                    if (document.getElementById(\"f762ec0f-6d72-4a39-b03c-3e677147814c\")) {                    Plotly.newPlot(                        \"f762ec0f-6d72-4a39-b03c-3e677147814c\",                        [{\"labels\":[\"Action\",\"Comedy\",\"Drama\",\"Fantasy\",\"Heartwarming\",\"Historical\",\"Horror\",\"Informative\",\"Mystery\",\"Romance\",\"Sci-fi\",\"Slice of life\",\"Sports\",\"Superhero\",\"Supernatural\",\"Thriller\"],\"pull\":[0,0,0.1,0.3,0,0,0,0,0,0.2,0],\"type\":\"pie\",\"values\":[47,52,60,95,2,4,20,5,9,90,32,49,10,26,33,35]}],                        {\"template\":{\"data\":{\"bar\":[{\"error_x\":{\"color\":\"#2a3f5f\"},\"error_y\":{\"color\":\"#2a3f5f\"},\"marker\":{\"line\":{\"color\":\"#E5ECF6\",\"width\":0.5},\"pattern\":{\"fillmode\":\"overlay\",\"size\":10,\"solidity\":0.2}},\"type\":\"bar\"}],\"barpolar\":[{\"marker\":{\"line\":{\"color\":\"#E5ECF6\",\"width\":0.5},\"pattern\":{\"fillmode\":\"overlay\",\"size\":10,\"solidity\":0.2}},\"type\":\"barpolar\"}],\"carpet\":[{\"aaxis\":{\"endlinecolor\":\"#2a3f5f\",\"gridcolor\":\"white\",\"linecolor\":\"white\",\"minorgridcolor\":\"white\",\"startlinecolor\":\"#2a3f5f\"},\"baxis\":{\"endlinecolor\":\"#2a3f5f\",\"gridcolor\":\"white\",\"linecolor\":\"white\",\"minorgridcolor\":\"white\",\"startlinecolor\":\"#2a3f5f\"},\"type\":\"carpet\"}],\"choropleth\":[{\"colorbar\":{\"outlinewidth\":0,\"ticks\":\"\"},\"type\":\"choropleth\"}],\"contour\":[{\"colorbar\":{\"outlinewidth\":0,\"ticks\":\"\"},\"colorscale\":[[0.0,\"#0d0887\"],[0.1111111111111111,\"#46039f\"],[0.2222222222222222,\"#7201a8\"],[0.3333333333333333,\"#9c179e\"],[0.4444444444444444,\"#bd3786\"],[0.5555555555555556,\"#d8576b\"],[0.6666666666666666,\"#ed7953\"],[0.7777777777777778,\"#fb9f3a\"],[0.8888888888888888,\"#fdca26\"],[1.0,\"#f0f921\"]],\"type\":\"contour\"}],\"contourcarpet\":[{\"colorbar\":{\"outlinewidth\":0,\"ticks\":\"\"},\"type\":\"contourcarpet\"}],\"heatmap\":[{\"colorbar\":{\"outlinewidth\":0,\"ticks\":\"\"},\"colorscale\":[[0.0,\"#0d0887\"],[0.1111111111111111,\"#46039f\"],[0.2222222222222222,\"#7201a8\"],[0.3333333333333333,\"#9c179e\"],[0.4444444444444444,\"#bd3786\"],[0.5555555555555556,\"#d8576b\"],[0.6666666666666666,\"#ed7953\"],[0.7777777777777778,\"#fb9f3a\"],[0.8888888888888888,\"#fdca26\"],[1.0,\"#f0f921\"]],\"type\":\"heatmap\"}],\"heatmapgl\":[{\"colorbar\":{\"outlinewidth\":0,\"ticks\":\"\"},\"colorscale\":[[0.0,\"#0d0887\"],[0.1111111111111111,\"#46039f\"],[0.2222222222222222,\"#7201a8\"],[0.3333333333333333,\"#9c179e\"],[0.4444444444444444,\"#bd3786\"],[0.5555555555555556,\"#d8576b\"],[0.6666666666666666,\"#ed7953\"],[0.7777777777777778,\"#fb9f3a\"],[0.8888888888888888,\"#fdca26\"],[1.0,\"#f0f921\"]],\"type\":\"heatmapgl\"}],\"histogram\":[{\"marker\":{\"pattern\":{\"fillmode\":\"overlay\",\"size\":10,\"solidity\":0.2}},\"type\":\"histogram\"}],\"histogram2d\":[{\"colorbar\":{\"outlinewidth\":0,\"ticks\":\"\"},\"colorscale\":[[0.0,\"#0d0887\"],[0.1111111111111111,\"#46039f\"],[0.2222222222222222,\"#7201a8\"],[0.3333333333333333,\"#9c179e\"],[0.4444444444444444,\"#bd3786\"],[0.5555555555555556,\"#d8576b\"],[0.6666666666666666,\"#ed7953\"],[0.7777777777777778,\"#fb9f3a\"],[0.8888888888888888,\"#fdca26\"],[1.0,\"#f0f921\"]],\"type\":\"histogram2d\"}],\"histogram2dcontour\":[{\"colorbar\":{\"outlinewidth\":0,\"ticks\":\"\"},\"colorscale\":[[0.0,\"#0d0887\"],[0.1111111111111111,\"#46039f\"],[0.2222222222222222,\"#7201a8\"],[0.3333333333333333,\"#9c179e\"],[0.4444444444444444,\"#bd3786\"],[0.5555555555555556,\"#d8576b\"],[0.6666666666666666,\"#ed7953\"],[0.7777777777777778,\"#fb9f3a\"],[0.8888888888888888,\"#fdca26\"],[1.0,\"#f0f921\"]],\"type\":\"histogram2dcontour\"}],\"mesh3d\":[{\"colorbar\":{\"outlinewidth\":0,\"ticks\":\"\"},\"type\":\"mesh3d\"}],\"parcoords\":[{\"line\":{\"colorbar\":{\"outlinewidth\":0,\"ticks\":\"\"}},\"type\":\"parcoords\"}],\"pie\":[{\"automargin\":true,\"type\":\"pie\"}],\"scatter\":[{\"marker\":{\"colorbar\":{\"outlinewidth\":0,\"ticks\":\"\"}},\"type\":\"scatter\"}],\"scatter3d\":[{\"line\":{\"colorbar\":{\"outlinewidth\":0,\"ticks\":\"\"}},\"marker\":{\"colorbar\":{\"outlinewidth\":0,\"ticks\":\"\"}},\"type\":\"scatter3d\"}],\"scattercarpet\":[{\"marker\":{\"colorbar\":{\"outlinewidth\":0,\"ticks\":\"\"}},\"type\":\"scattercarpet\"}],\"scattergeo\":[{\"marker\":{\"colorbar\":{\"outlinewidth\":0,\"ticks\":\"\"}},\"type\":\"scattergeo\"}],\"scattergl\":[{\"marker\":{\"colorbar\":{\"outlinewidth\":0,\"ticks\":\"\"}},\"type\":\"scattergl\"}],\"scattermapbox\":[{\"marker\":{\"colorbar\":{\"outlinewidth\":0,\"ticks\":\"\"}},\"type\":\"scattermapbox\"}],\"scatterpolar\":[{\"marker\":{\"colorbar\":{\"outlinewidth\":0,\"ticks\":\"\"}},\"type\":\"scatterpolar\"}],\"scatterpolargl\":[{\"marker\":{\"colorbar\":{\"outlinewidth\":0,\"ticks\":\"\"}},\"type\":\"scatterpolargl\"}],\"scatterternary\":[{\"marker\":{\"colorbar\":{\"outlinewidth\":0,\"ticks\":\"\"}},\"type\":\"scatterternary\"}],\"surface\":[{\"colorbar\":{\"outlinewidth\":0,\"ticks\":\"\"},\"colorscale\":[[0.0,\"#0d0887\"],[0.1111111111111111,\"#46039f\"],[0.2222222222222222,\"#7201a8\"],[0.3333333333333333,\"#9c179e\"],[0.4444444444444444,\"#bd3786\"],[0.5555555555555556,\"#d8576b\"],[0.6666666666666666,\"#ed7953\"],[0.7777777777777778,\"#fb9f3a\"],[0.8888888888888888,\"#fdca26\"],[1.0,\"#f0f921\"]],\"type\":\"surface\"}],\"table\":[{\"cells\":{\"fill\":{\"color\":\"#EBF0F8\"},\"line\":{\"color\":\"white\"}},\"header\":{\"fill\":{\"color\":\"#C8D4E3\"},\"line\":{\"color\":\"white\"}},\"type\":\"table\"}]},\"layout\":{\"annotationdefaults\":{\"arrowcolor\":\"#2a3f5f\",\"arrowhead\":0,\"arrowwidth\":1},\"autotypenumbers\":\"strict\",\"coloraxis\":{\"colorbar\":{\"outlinewidth\":0,\"ticks\":\"\"}},\"colorscale\":{\"diverging\":[[0,\"#8e0152\"],[0.1,\"#c51b7d\"],[0.2,\"#de77ae\"],[0.3,\"#f1b6da\"],[0.4,\"#fde0ef\"],[0.5,\"#f7f7f7\"],[0.6,\"#e6f5d0\"],[0.7,\"#b8e186\"],[0.8,\"#7fbc41\"],[0.9,\"#4d9221\"],[1,\"#276419\"]],\"sequential\":[[0.0,\"#0d0887\"],[0.1111111111111111,\"#46039f\"],[0.2222222222222222,\"#7201a8\"],[0.3333333333333333,\"#9c179e\"],[0.4444444444444444,\"#bd3786\"],[0.5555555555555556,\"#d8576b\"],[0.6666666666666666,\"#ed7953\"],[0.7777777777777778,\"#fb9f3a\"],[0.8888888888888888,\"#fdca26\"],[1.0,\"#f0f921\"]],\"sequentialminus\":[[0.0,\"#0d0887\"],[0.1111111111111111,\"#46039f\"],[0.2222222222222222,\"#7201a8\"],[0.3333333333333333,\"#9c179e\"],[0.4444444444444444,\"#bd3786\"],[0.5555555555555556,\"#d8576b\"],[0.6666666666666666,\"#ed7953\"],[0.7777777777777778,\"#fb9f3a\"],[0.8888888888888888,\"#fdca26\"],[1.0,\"#f0f921\"]]},\"colorway\":[\"#636efa\",\"#EF553B\",\"#00cc96\",\"#ab63fa\",\"#FFA15A\",\"#19d3f3\",\"#FF6692\",\"#B6E880\",\"#FF97FF\",\"#FECB52\"],\"font\":{\"color\":\"#2a3f5f\"},\"geo\":{\"bgcolor\":\"white\",\"lakecolor\":\"white\",\"landcolor\":\"#E5ECF6\",\"showlakes\":true,\"showland\":true,\"subunitcolor\":\"white\"},\"hoverlabel\":{\"align\":\"left\"},\"hovermode\":\"closest\",\"mapbox\":{\"style\":\"light\"},\"paper_bgcolor\":\"white\",\"plot_bgcolor\":\"#E5ECF6\",\"polar\":{\"angularaxis\":{\"gridcolor\":\"white\",\"linecolor\":\"white\",\"ticks\":\"\"},\"bgcolor\":\"#E5ECF6\",\"radialaxis\":{\"gridcolor\":\"white\",\"linecolor\":\"white\",\"ticks\":\"\"}},\"scene\":{\"xaxis\":{\"backgroundcolor\":\"#E5ECF6\",\"gridcolor\":\"white\",\"gridwidth\":2,\"linecolor\":\"white\",\"showbackground\":true,\"ticks\":\"\",\"zerolinecolor\":\"white\"},\"yaxis\":{\"backgroundcolor\":\"#E5ECF6\",\"gridcolor\":\"white\",\"gridwidth\":2,\"linecolor\":\"white\",\"showbackground\":true,\"ticks\":\"\",\"zerolinecolor\":\"white\"},\"zaxis\":{\"backgroundcolor\":\"#E5ECF6\",\"gridcolor\":\"white\",\"gridwidth\":2,\"linecolor\":\"white\",\"showbackground\":true,\"ticks\":\"\",\"zerolinecolor\":\"white\"}},\"shapedefaults\":{\"line\":{\"color\":\"#2a3f5f\"}},\"ternary\":{\"aaxis\":{\"gridcolor\":\"white\",\"linecolor\":\"white\",\"ticks\":\"\"},\"baxis\":{\"gridcolor\":\"white\",\"linecolor\":\"white\",\"ticks\":\"\"},\"bgcolor\":\"#E5ECF6\",\"caxis\":{\"gridcolor\":\"white\",\"linecolor\":\"white\",\"ticks\":\"\"}},\"title\":{\"x\":0.05},\"xaxis\":{\"automargin\":true,\"gridcolor\":\"white\",\"linecolor\":\"white\",\"ticks\":\"\",\"title\":{\"standoff\":15},\"zerolinecolor\":\"white\",\"zerolinewidth\":2},\"yaxis\":{\"automargin\":true,\"gridcolor\":\"white\",\"linecolor\":\"white\",\"ticks\":\"\",\"title\":{\"standoff\":15},\"zerolinecolor\":\"white\",\"zerolinewidth\":2}}}},                        {\"responsive\": true}                    ).then(function(){\n",
              "                            \n",
              "var gd = document.getElementById('f762ec0f-6d72-4a39-b03c-3e677147814c');\n",
              "var x = new MutationObserver(function (mutations, observer) {{\n",
              "        var display = window.getComputedStyle(gd).display;\n",
              "        if (!display || display === 'none') {{\n",
              "            console.log([gd, 'removed!']);\n",
              "            Plotly.purge(gd);\n",
              "            observer.disconnect();\n",
              "        }}\n",
              "}});\n",
              "\n",
              "// Listen for the removal of the full notebook cells\n",
              "var notebookContainer = gd.closest('#notebook-container');\n",
              "if (notebookContainer) {{\n",
              "    x.observe(notebookContainer, {childList: true});\n",
              "}}\n",
              "\n",
              "// Listen for the clearing of the current output cell\n",
              "var outputEl = gd.closest('.output');\n",
              "if (outputEl) {{\n",
              "    x.observe(outputEl, {childList: true});\n",
              "}}\n",
              "\n",
              "                        })                };                            </script>        </div>\n",
              "</body>\n",
              "</html>"
            ]
          },
          "metadata": {}
        }
      ]
    },
    {
      "cell_type": "code",
      "metadata": {
        "colab": {
          "base_uri": "https://localhost:8080/",
          "height": 542
        },
        "id": "ZGQPS_Wyaa5j",
        "outputId": "1a3d90dc-59bd-4ed3-f95e-714b5dd2e627"
      },
      "source": [
        "# histogram\n",
        "x_values = webtoon_df['Subscribers']    # 웹툰 '독자 수' 를 히스토그램으로 확인하기 위함\n",
        "mydata = go.Histogram(x=x_values)\n",
        "\n",
        "mylayout = go.Layout(title='Subscribers frequencies',\n",
        "                     xaxis_title = 'Subscribers',            # x축은 구독자수 범위\n",
        "                     yaxis_title=\"frequencies\")            # y축은 구독자 수 범위에 해당하는 웹툰의 개수 \n",
        "fig = go.Figure(data = mydata, layout = mylayout)\n",
        "fig.show()"
      ],
      "execution_count": null,
      "outputs": [
        {
          "output_type": "display_data",
          "data": {
            "text/html": [
              "<html>\n",
              "<head><meta charset=\"utf-8\" /></head>\n",
              "<body>\n",
              "    <div>            <script src=\"https://cdnjs.cloudflare.com/ajax/libs/mathjax/2.7.5/MathJax.js?config=TeX-AMS-MML_SVG\"></script><script type=\"text/javascript\">if (window.MathJax) {MathJax.Hub.Config({SVG: {font: \"STIX-Web\"}});}</script>                <script type=\"text/javascript\">window.PlotlyConfig = {MathJaxConfig: 'local'};</script>\n",
              "        <script src=\"https://cdn.plot.ly/plotly-2.4.2.min.js\"></script>                <div id=\"c72aa016-22a5-4fc0-96dd-5d181b0af4c0\" class=\"plotly-graph-div\" style=\"height:525px; width:100%;\"></div>            <script type=\"text/javascript\">                                    window.PLOTLYENV=window.PLOTLYENV || {};                                    if (document.getElementById(\"c72aa016-22a5-4fc0-96dd-5d181b0af4c0\")) {                    Plotly.newPlot(                        \"c72aa016-22a5-4fc0-96dd-5d181b0af4c0\",                        [{\"type\":\"histogram\",\"x\":[4200000,6400000,2100000,3500000,1500000,300000,64900,537600,1100000,4300000,100000,750600,669600,332300,1200000,1700000,485100,100000,620800,838800,72400,407700,2200000,275900,1300000,796400,181800,100000,560600,584900,542400,69900,396300,395900,141500,272400,576700,760500,257200,648700,321900,191900,36000,267300,188900,55000,260500,180600,343200,528700,204900,11000,251100,31400,162300,155300,51800,30000,173800,199200,187600,162100,311200,150800,42300,3600,18000,207600,115800,234700,179800,14800,88800,134400,150800,37700,154200,91800,246200,221300,139800,123600,87500,111100,76300,308600,18400,209300,1500000,99400,1200000,2100000,142500,502900,1200000,100000,1100000,1900000,306800,5200,813800,845100,202200,223800,1500000,864600,31900,100000,205400,354800,168100,869300,589700,814200,144400,149400,157500,19900,731300,155100,277300,574600,318200,390500,553300,10200,316100,239100,76100,109600,286200,146400,117300,775200,87500,127500,251900,192600,55100,45200,25800,93300,162500,275500,34600,83700,90500,37600,123400,147200,7100,231900,58100,57500,49400,47400,56200,44800,6100,18600,317300,1900000,230300,148800,9100,994900,285100,200000,410900,1200000,719600,577200,1400000,76100,477400,424800,755600,5200000,2600000,100000,200000,804700,2200000,2300000,979700,990400,545600,1500000,803300,672200,100000,945200,100000,371700,2900000,975800,672100,289300,460600,506300,1200000,379900,620700,501500,989100,326100,844100,325700,210900,318400,224300,378500,1700000,41300,750600,407300,128300,305900,180600,189600,272400,192300,91900,76600,195500,121700,321100,157200,77900,263700,164700,30500,453600,336800,167400,252400,251900,129700,101800,93300,8500,7800,328300,115900,134500,257300,80500,57400,1200000,46900,176900,182900,403200,205800,10600,205100,329500,145300,523600,228800,509600,9600,1300000,231600,56900,79700,8100,35000,372400,1700000,11900,987300,616500,702800,300000,1700000,514500,73800,290200,485800,616800,211400,247600,611400,192900,46300,267500,1200000,320100,596900,385100,695400,163400,341200,77300,570900,205200,379600,88300,164800,253400,56100,104600,102700,224400,97400,208400,120700,45600,50700,165400,88500,18600,56900,50800,99600,4400,55100,238900,320600,841500,623100,17600,802700,784300,533400,2300000,2100000,380200,788300,151600,546200,422100,1400000,486300,1300000,89300,202500,612800,100000,102300,160400,774700,156600,22900,208300,381800,75400,291200,74500,113100,3200,556400,455600,459600,325500,136400,115200,203600,352200,87900,639500,306300,245100,63900,206200,46900,486800,337600,173100,290400,326200,130700,113300,134300,143900,47400,137700,326800,54400,66500,351600,37300,51500,58100,138300,65300,95200,81300,27100,186200,57800,30002,80200,27800,45600,85400,14400,71700,15500,5400,39900,189400,23100,80400,7400,18800,265200,1100000,1200000,1900000,282800,636500,983600,207500,642300,749400,164100,138100,64100,145800,351100,4500,513200,95100,150500,124600,5400,586400,145900,108400,116800,201300,58700,97900,31500,34300,25500,17200,91800,208100,5100000,537200,547600,17100,328500,149400,1300000,261500,841100,81300,464400,653300,109500,254900,75400,25700,102600,126100,56600,18300,29500,13800,51200,30100,12400,17300,3200,112500,2400000,452300,901900,386800,484100,588900,711700,144100,453600,531200,233300,257100,469200,331200,29400,658600,351900,542700,104600,186600,295200,205900,184600,919500,3100000,1300000,613500,1700000,1300000,1200000,400400,717500,1300000,205700,610300,2100000,1100000,270300,109800,514200,24800,121300,20500,37300,221200,100000,391800,523600,139100,119500,527700,1500000,1500000,321900,384400,39600,710500,36300,445700,321500,108800,43500,86300,2800000,87600,190500,379500,10800,317100,337600,223600,187300,396500,371900,68600,20200,386100,189600,361800,97700,96600,67100,200700,426500,248100,443900,284500,112900,3100,52700,152600,818200,242100,164300,66300,376900,60400,459200,204600,109100]}],                        {\"template\":{\"data\":{\"bar\":[{\"error_x\":{\"color\":\"#2a3f5f\"},\"error_y\":{\"color\":\"#2a3f5f\"},\"marker\":{\"line\":{\"color\":\"#E5ECF6\",\"width\":0.5},\"pattern\":{\"fillmode\":\"overlay\",\"size\":10,\"solidity\":0.2}},\"type\":\"bar\"}],\"barpolar\":[{\"marker\":{\"line\":{\"color\":\"#E5ECF6\",\"width\":0.5},\"pattern\":{\"fillmode\":\"overlay\",\"size\":10,\"solidity\":0.2}},\"type\":\"barpolar\"}],\"carpet\":[{\"aaxis\":{\"endlinecolor\":\"#2a3f5f\",\"gridcolor\":\"white\",\"linecolor\":\"white\",\"minorgridcolor\":\"white\",\"startlinecolor\":\"#2a3f5f\"},\"baxis\":{\"endlinecolor\":\"#2a3f5f\",\"gridcolor\":\"white\",\"linecolor\":\"white\",\"minorgridcolor\":\"white\",\"startlinecolor\":\"#2a3f5f\"},\"type\":\"carpet\"}],\"choropleth\":[{\"colorbar\":{\"outlinewidth\":0,\"ticks\":\"\"},\"type\":\"choropleth\"}],\"contour\":[{\"colorbar\":{\"outlinewidth\":0,\"ticks\":\"\"},\"colorscale\":[[0.0,\"#0d0887\"],[0.1111111111111111,\"#46039f\"],[0.2222222222222222,\"#7201a8\"],[0.3333333333333333,\"#9c179e\"],[0.4444444444444444,\"#bd3786\"],[0.5555555555555556,\"#d8576b\"],[0.6666666666666666,\"#ed7953\"],[0.7777777777777778,\"#fb9f3a\"],[0.8888888888888888,\"#fdca26\"],[1.0,\"#f0f921\"]],\"type\":\"contour\"}],\"contourcarpet\":[{\"colorbar\":{\"outlinewidth\":0,\"ticks\":\"\"},\"type\":\"contourcarpet\"}],\"heatmap\":[{\"colorbar\":{\"outlinewidth\":0,\"ticks\":\"\"},\"colorscale\":[[0.0,\"#0d0887\"],[0.1111111111111111,\"#46039f\"],[0.2222222222222222,\"#7201a8\"],[0.3333333333333333,\"#9c179e\"],[0.4444444444444444,\"#bd3786\"],[0.5555555555555556,\"#d8576b\"],[0.6666666666666666,\"#ed7953\"],[0.7777777777777778,\"#fb9f3a\"],[0.8888888888888888,\"#fdca26\"],[1.0,\"#f0f921\"]],\"type\":\"heatmap\"}],\"heatmapgl\":[{\"colorbar\":{\"outlinewidth\":0,\"ticks\":\"\"},\"colorscale\":[[0.0,\"#0d0887\"],[0.1111111111111111,\"#46039f\"],[0.2222222222222222,\"#7201a8\"],[0.3333333333333333,\"#9c179e\"],[0.4444444444444444,\"#bd3786\"],[0.5555555555555556,\"#d8576b\"],[0.6666666666666666,\"#ed7953\"],[0.7777777777777778,\"#fb9f3a\"],[0.8888888888888888,\"#fdca26\"],[1.0,\"#f0f921\"]],\"type\":\"heatmapgl\"}],\"histogram\":[{\"marker\":{\"pattern\":{\"fillmode\":\"overlay\",\"size\":10,\"solidity\":0.2}},\"type\":\"histogram\"}],\"histogram2d\":[{\"colorbar\":{\"outlinewidth\":0,\"ticks\":\"\"},\"colorscale\":[[0.0,\"#0d0887\"],[0.1111111111111111,\"#46039f\"],[0.2222222222222222,\"#7201a8\"],[0.3333333333333333,\"#9c179e\"],[0.4444444444444444,\"#bd3786\"],[0.5555555555555556,\"#d8576b\"],[0.6666666666666666,\"#ed7953\"],[0.7777777777777778,\"#fb9f3a\"],[0.8888888888888888,\"#fdca26\"],[1.0,\"#f0f921\"]],\"type\":\"histogram2d\"}],\"histogram2dcontour\":[{\"colorbar\":{\"outlinewidth\":0,\"ticks\":\"\"},\"colorscale\":[[0.0,\"#0d0887\"],[0.1111111111111111,\"#46039f\"],[0.2222222222222222,\"#7201a8\"],[0.3333333333333333,\"#9c179e\"],[0.4444444444444444,\"#bd3786\"],[0.5555555555555556,\"#d8576b\"],[0.6666666666666666,\"#ed7953\"],[0.7777777777777778,\"#fb9f3a\"],[0.8888888888888888,\"#fdca26\"],[1.0,\"#f0f921\"]],\"type\":\"histogram2dcontour\"}],\"mesh3d\":[{\"colorbar\":{\"outlinewidth\":0,\"ticks\":\"\"},\"type\":\"mesh3d\"}],\"parcoords\":[{\"line\":{\"colorbar\":{\"outlinewidth\":0,\"ticks\":\"\"}},\"type\":\"parcoords\"}],\"pie\":[{\"automargin\":true,\"type\":\"pie\"}],\"scatter\":[{\"marker\":{\"colorbar\":{\"outlinewidth\":0,\"ticks\":\"\"}},\"type\":\"scatter\"}],\"scatter3d\":[{\"line\":{\"colorbar\":{\"outlinewidth\":0,\"ticks\":\"\"}},\"marker\":{\"colorbar\":{\"outlinewidth\":0,\"ticks\":\"\"}},\"type\":\"scatter3d\"}],\"scattercarpet\":[{\"marker\":{\"colorbar\":{\"outlinewidth\":0,\"ticks\":\"\"}},\"type\":\"scattercarpet\"}],\"scattergeo\":[{\"marker\":{\"colorbar\":{\"outlinewidth\":0,\"ticks\":\"\"}},\"type\":\"scattergeo\"}],\"scattergl\":[{\"marker\":{\"colorbar\":{\"outlinewidth\":0,\"ticks\":\"\"}},\"type\":\"scattergl\"}],\"scattermapbox\":[{\"marker\":{\"colorbar\":{\"outlinewidth\":0,\"ticks\":\"\"}},\"type\":\"scattermapbox\"}],\"scatterpolar\":[{\"marker\":{\"colorbar\":{\"outlinewidth\":0,\"ticks\":\"\"}},\"type\":\"scatterpolar\"}],\"scatterpolargl\":[{\"marker\":{\"colorbar\":{\"outlinewidth\":0,\"ticks\":\"\"}},\"type\":\"scatterpolargl\"}],\"scatterternary\":[{\"marker\":{\"colorbar\":{\"outlinewidth\":0,\"ticks\":\"\"}},\"type\":\"scatterternary\"}],\"surface\":[{\"colorbar\":{\"outlinewidth\":0,\"ticks\":\"\"},\"colorscale\":[[0.0,\"#0d0887\"],[0.1111111111111111,\"#46039f\"],[0.2222222222222222,\"#7201a8\"],[0.3333333333333333,\"#9c179e\"],[0.4444444444444444,\"#bd3786\"],[0.5555555555555556,\"#d8576b\"],[0.6666666666666666,\"#ed7953\"],[0.7777777777777778,\"#fb9f3a\"],[0.8888888888888888,\"#fdca26\"],[1.0,\"#f0f921\"]],\"type\":\"surface\"}],\"table\":[{\"cells\":{\"fill\":{\"color\":\"#EBF0F8\"},\"line\":{\"color\":\"white\"}},\"header\":{\"fill\":{\"color\":\"#C8D4E3\"},\"line\":{\"color\":\"white\"}},\"type\":\"table\"}]},\"layout\":{\"annotationdefaults\":{\"arrowcolor\":\"#2a3f5f\",\"arrowhead\":0,\"arrowwidth\":1},\"autotypenumbers\":\"strict\",\"coloraxis\":{\"colorbar\":{\"outlinewidth\":0,\"ticks\":\"\"}},\"colorscale\":{\"diverging\":[[0,\"#8e0152\"],[0.1,\"#c51b7d\"],[0.2,\"#de77ae\"],[0.3,\"#f1b6da\"],[0.4,\"#fde0ef\"],[0.5,\"#f7f7f7\"],[0.6,\"#e6f5d0\"],[0.7,\"#b8e186\"],[0.8,\"#7fbc41\"],[0.9,\"#4d9221\"],[1,\"#276419\"]],\"sequential\":[[0.0,\"#0d0887\"],[0.1111111111111111,\"#46039f\"],[0.2222222222222222,\"#7201a8\"],[0.3333333333333333,\"#9c179e\"],[0.4444444444444444,\"#bd3786\"],[0.5555555555555556,\"#d8576b\"],[0.6666666666666666,\"#ed7953\"],[0.7777777777777778,\"#fb9f3a\"],[0.8888888888888888,\"#fdca26\"],[1.0,\"#f0f921\"]],\"sequentialminus\":[[0.0,\"#0d0887\"],[0.1111111111111111,\"#46039f\"],[0.2222222222222222,\"#7201a8\"],[0.3333333333333333,\"#9c179e\"],[0.4444444444444444,\"#bd3786\"],[0.5555555555555556,\"#d8576b\"],[0.6666666666666666,\"#ed7953\"],[0.7777777777777778,\"#fb9f3a\"],[0.8888888888888888,\"#fdca26\"],[1.0,\"#f0f921\"]]},\"colorway\":[\"#636efa\",\"#EF553B\",\"#00cc96\",\"#ab63fa\",\"#FFA15A\",\"#19d3f3\",\"#FF6692\",\"#B6E880\",\"#FF97FF\",\"#FECB52\"],\"font\":{\"color\":\"#2a3f5f\"},\"geo\":{\"bgcolor\":\"white\",\"lakecolor\":\"white\",\"landcolor\":\"#E5ECF6\",\"showlakes\":true,\"showland\":true,\"subunitcolor\":\"white\"},\"hoverlabel\":{\"align\":\"left\"},\"hovermode\":\"closest\",\"mapbox\":{\"style\":\"light\"},\"paper_bgcolor\":\"white\",\"plot_bgcolor\":\"#E5ECF6\",\"polar\":{\"angularaxis\":{\"gridcolor\":\"white\",\"linecolor\":\"white\",\"ticks\":\"\"},\"bgcolor\":\"#E5ECF6\",\"radialaxis\":{\"gridcolor\":\"white\",\"linecolor\":\"white\",\"ticks\":\"\"}},\"scene\":{\"xaxis\":{\"backgroundcolor\":\"#E5ECF6\",\"gridcolor\":\"white\",\"gridwidth\":2,\"linecolor\":\"white\",\"showbackground\":true,\"ticks\":\"\",\"zerolinecolor\":\"white\"},\"yaxis\":{\"backgroundcolor\":\"#E5ECF6\",\"gridcolor\":\"white\",\"gridwidth\":2,\"linecolor\":\"white\",\"showbackground\":true,\"ticks\":\"\",\"zerolinecolor\":\"white\"},\"zaxis\":{\"backgroundcolor\":\"#E5ECF6\",\"gridcolor\":\"white\",\"gridwidth\":2,\"linecolor\":\"white\",\"showbackground\":true,\"ticks\":\"\",\"zerolinecolor\":\"white\"}},\"shapedefaults\":{\"line\":{\"color\":\"#2a3f5f\"}},\"ternary\":{\"aaxis\":{\"gridcolor\":\"white\",\"linecolor\":\"white\",\"ticks\":\"\"},\"baxis\":{\"gridcolor\":\"white\",\"linecolor\":\"white\",\"ticks\":\"\"},\"bgcolor\":\"#E5ECF6\",\"caxis\":{\"gridcolor\":\"white\",\"linecolor\":\"white\",\"ticks\":\"\"}},\"title\":{\"x\":0.05},\"xaxis\":{\"automargin\":true,\"gridcolor\":\"white\",\"linecolor\":\"white\",\"ticks\":\"\",\"title\":{\"standoff\":15},\"zerolinecolor\":\"white\",\"zerolinewidth\":2},\"yaxis\":{\"automargin\":true,\"gridcolor\":\"white\",\"linecolor\":\"white\",\"ticks\":\"\",\"title\":{\"standoff\":15},\"zerolinecolor\":\"white\",\"zerolinewidth\":2}}},\"title\":{\"text\":\"Subscribers frequencies\"},\"xaxis\":{\"title\":{\"text\":\"Subscribers\"}},\"yaxis\":{\"title\":{\"text\":\"frequencies\"}}},                        {\"responsive\": true}                    ).then(function(){\n",
              "                            \n",
              "var gd = document.getElementById('c72aa016-22a5-4fc0-96dd-5d181b0af4c0');\n",
              "var x = new MutationObserver(function (mutations, observer) {{\n",
              "        var display = window.getComputedStyle(gd).display;\n",
              "        if (!display || display === 'none') {{\n",
              "            console.log([gd, 'removed!']);\n",
              "            Plotly.purge(gd);\n",
              "            observer.disconnect();\n",
              "        }}\n",
              "}});\n",
              "\n",
              "// Listen for the removal of the full notebook cells\n",
              "var notebookContainer = gd.closest('#notebook-container');\n",
              "if (notebookContainer) {{\n",
              "    x.observe(notebookContainer, {childList: true});\n",
              "}}\n",
              "\n",
              "// Listen for the clearing of the current output cell\n",
              "var outputEl = gd.closest('.output');\n",
              "if (outputEl) {{\n",
              "    x.observe(outputEl, {childList: true});\n",
              "}}\n",
              "\n",
              "                        })                };                            </script>        </div>\n",
              "</body>\n",
              "</html>"
            ]
          },
          "metadata": {}
        }
      ]
    },
    {
      "cell_type": "code",
      "metadata": {
        "colab": {
          "base_uri": "https://localhost:8080/",
          "height": 542
        },
        "id": "HegQwpaW3hXi",
        "outputId": "79ae95bd-d6ec-4775-92c1-b9b94da957f3"
      },
      "source": [
        "x = webtoon_df['Rating']  # 높은 등급을 받은 웹툰이 많은 장르가 무엇인지 보기 위한 2d 히스토그램\n",
        "y = webtoon_df['Genre']\n",
        "fig = go.Figure(go.Histogram2d(x=x, y=y))\n",
        "fig.show()"
      ],
      "execution_count": null,
      "outputs": [
        {
          "output_type": "display_data",
          "data": {
            "text/html": [
              "<html>\n",
              "<head><meta charset=\"utf-8\" /></head>\n",
              "<body>\n",
              "    <div>            <script src=\"https://cdnjs.cloudflare.com/ajax/libs/mathjax/2.7.5/MathJax.js?config=TeX-AMS-MML_SVG\"></script><script type=\"text/javascript\">if (window.MathJax) {MathJax.Hub.Config({SVG: {font: \"STIX-Web\"}});}</script>                <script type=\"text/javascript\">window.PlotlyConfig = {MathJaxConfig: 'local'};</script>\n",
              "        <script src=\"https://cdn.plot.ly/plotly-2.4.2.min.js\"></script>                <div id=\"46dccfc4-bb69-4e28-8a61-52bf64be56c1\" class=\"plotly-graph-div\" style=\"height:525px; width:100%;\"></div>            <script type=\"text/javascript\">                                    window.PLOTLYENV=window.PLOTLYENV || {};                                    if (document.getElementById(\"46dccfc4-bb69-4e28-8a61-52bf64be56c1\")) {                    Plotly.newPlot(                        \"46dccfc4-bb69-4e28-8a61-52bf64be56c1\",                        [{\"type\":\"histogram2d\",\"x\":[9.6,9.6,9.8,9.8,9.8,9.8,9.7,9.9,9.8,9.8,9.7,9.1,9.7,9.8,9.8,9.7,9.7,9.8,9.8,9.4,9.7,9.8,9.8,9.6,9.9,9.8,9.7,9.7,9.7,9.9,9.3,8.8,9.4,9.8,9.5,9.4,9.7,9.7,9.5,9.7,9.5,9.5,9.1,9.7,9.7,9.8,8.8,9.7,9.1,9.6,9.6,9.8,9.6,9.7,9.3,9.7,8.5,9.2,9.5,9.1,8.8,9.7,9.6,9.6,9.7,9.4,9.7,9.7,9.3,9.2,9.5,9.5,9.8,9.6,9.0,9.8,9.2,9.2,9.5,9.6,9.8,9.6,9.0,9.8,9.1,9.7,9.1,9.8,9.9,8.4,9.8,9.9,9.4,9.9,9.3,9.8,9.7,9.7,9.8,9.1,9.6,9.8,9.6,9.8,9.7,9.8,9.3,9.7,9.7,9.5,9.4,9.3,9.7,9.8,9.8,9.2,9.2,9.4,9.8,9.7,9.7,9.8,9.8,9.8,9.2,9.6,9.7,9.7,9.7,9.5,9.9,8.9,9.5,9.6,9.8,9.8,9.8,7.8,9.7,9.4,9.5,9.3,9.8,8.9,9.7,8.0,9.1,9.1,9.2,9.3,8.9,9.5,9.7,9.0,9.5,9.0,9.3,9.2,9.0,7.4,9.6,9.9,9.7,9.4,9.5,9.6,9.7,9.7,9.8,9.7,9.8,9.8,9.8,8.4,9.5,9.2,9.6,9.7,9.8,9.8,9.8,9.8,9.8,9.7,9.5,9.6,9.6,9.9,9.8,9.8,9.8,9.9,9.7,9.7,9.9,9.9,9.3,9.0,9.8,9.1,9.8,9.6,9.8,9.7,9.5,9.8,9.8,9.6,8.4,9.3,9.5,9.4,9.4,9.7,9.6,9.6,9.3,9.4,9.4,9.7,9.8,9.5,9.6,9.8,9.5,9.7,9.4,9.2,9.6,9.6,9.5,9.4,9.8,9.6,9.7,7.6,9.4,9.3,9.1,9.7,9.5,9.6,9.6,9.5,9.5,9.6,9.6,9.6,9.3,9.8,9.0,9.7,9.6,9.2,9.5,9.7,9.8,9.6,9.5,9.7,9.7,9.3,9.1,9.7,9.1,9.0,9.6,9.5,9.8,9.8,9.6,9.7,9.6,9.8,9.8,9.8,9.5,9.7,9.7,9.7,9.5,9.3,9.5,9.6,9.7,9.2,9.4,9.8,9.6,9.5,9.5,9.8,9.7,9.4,9.5,9.3,9.7,9.3,9.3,9.8,9.5,8.8,9.1,9.0,9.7,9.2,8.7,9.6,9.2,8.8,8.9,9.3,9.7,9.2,9.2,8.8,8.6,7.2,9.7,9.8,9.7,9.8,9.6,9.8,9.9,9.7,9.8,9.7,9.4,9.8,9.3,9.6,9.8,9.4,9.4,9.7,9.7,9.3,9.8,9.6,9.4,9.4,9.7,9.8,9.3,9.2,9.8,9.2,8.8,9.2,9.6,9.3,8.8,9.8,9.6,9.7,9.0,9.7,9.5,9.5,9.3,9.8,9.7,9.7,8.8,9.6,8.4,9.4,9.8,9.5,9.6,9.3,9.0,9.5,9.2,9.7,8.9,9.7,9.5,9.1,5.9,9.7,9.6,8.9,8.5,9.6,8.9,9.5,9.6,8.5,9.4,9.3,7.2,9.4,5.4,8.5,9.3,8.4,9.3,6.6,5.8,9.1,9.7,8.7,5.6,7.4,9.0,9.0,9.8,9.8,9.6,9.8,9.7,9.9,9.6,9.8,9.8,9.6,9.3,9.6,9.4,9.6,9.5,9.7,9.4,9.5,9.3,9.2,9.8,9.6,9.2,8.8,9.4,9.6,9.4,8.0,9.0,7.1,7.0,9.2,9.1,9.8,9.7,9.1,7.0,9.5,9.6,9.5,9.8,9.5,9.7,9.4,9.6,9.6,9.6,9.7,9.2,9.7,9.6,9.6,8.9,7.9,7.6,9.5,9.1,8.8,8.9,9.3,9.3,9.7,9.8,9.6,9.6,9.8,9.7,9.7,9.7,9.6,9.5,9.6,9.7,9.4,9.7,9.4,9.8,9.5,9.8,9.6,8.8,9.8,9.5,9.7,9.3,9.8,9.7,9.5,9.8,9.6,9.7,9.6,9.8,9.0,9.3,9.7,9.8,9.7,9.6,9.5,9.6,9.4,9.3,9.0,7.8,9.4,9.8,9.8,9.7,9.4,9.7,9.7,9.7,9.8,9.8,9.6,9.8,9.6,9.6,9.4,9.6,9.7,9.6,8.3,9.8,9.6,8.9,9.5,9.6,9.7,9.8,9.6,8.9,9.7,9.6,9.3,8.6,9.7,9.8,9.6,9.5,9.9,9.5,9.7,8.3,9.4,9.7,9.7,9.1,8.1,9.4,9.1,9.3,9.4,9.8,9.7,9.8,9.3,9.2,9.8,8.8],\"y\":[\"Romance\",\"Romance\",\"Romance\",\"Romance\",\"Supernatural\",\"Fantasy\",\"Supernatural\",\"Action\",\"Romance\",\"Drama\",\"Romance\",\"Drama\",\"Drama\",\"Fantasy\",\"Fantasy\",\"Romance\",\"Romance\",\"Action\",\"Thriller\",\"Romance\",\"Supernatural\",\"Drama\",\"Drama\",\"Fantasy\",\"Mystery\",\"Drama\",\"Romance\",\"Thriller\",\"Romance\",\"Romance\",\"Romance\",\"Romance\",\"Romance\",\"Action\",\"Romance\",\"Romance\",\"Drama\",\"Drama\",\"Historical\",\"Drama\",\"Romance\",\"Fantasy\",\"Romance\",\"Action\",\"Fantasy\",\"Fantasy\",\"Romance\",\"Fantasy\",\"Drama\",\"Romance\",\"Drama\",\"Drama\",\"Comedy\",\"Fantasy\",\"Thriller\",\"Drama\",\"Thriller\",\"Fantasy\",\"Drama\",\"Drama\",\"Sci-fi\",\"Action\",\"Drama\",\"Sci-fi\",\"Slice of life\",\"Drama\",\"Mystery\",\"Historical\",\"Fantasy\",\"Drama\",\"Drama\",\"Slice of life\",\"Drama\",\"Thriller\",\"Action\",\"Mystery\",\"Drama\",\"Drama\",\"Fantasy\",\"Heartwarming\",\"Drama\",\"Thriller\",\"Drama\",\"Drama\",\"Fantasy\",\"Romance\",\"Drama\",\"Drama\",\"Thriller\",\"Romance\",\"Romance\",\"Drama\",\"Supernatural\",\"Drama\",\"Romance\",\"Drama\",\"Romance\",\"Romance\",\"Drama\",\"Drama\",\"Action\",\"Drama\",\"Thriller\",\"Fantasy\",\"Romance\",\"Supernatural\",\"Romance\",\"Drama\",\"Drama\",\"Fantasy\",\"Superhero\",\"Romance\",\"Romance\",\"Fantasy\",\"Drama\",\"Romance\",\"Thriller\",\"Drama\",\"Drama\",\"Drama\",\"Drama\",\"Slice of life\",\"Fantasy\",\"Drama\",\"Romance\",\"Drama\",\"Romance\",\"Romance\",\"Drama\",\"Drama\",\"Drama\",\"Supernatural\",\"Comedy\",\"Fantasy\",\"Fantasy\",\"Drama\",\"Historical\",\"Thriller\",\"Drama\",\"Drama\",\"Supernatural\",\"Romance\",\"Sci-fi\",\"Superhero\",\"Drama\",\"Supernatural\",\"Sci-fi\",\"Superhero\",\"Sci-fi\",\"Superhero\",\"Fantasy\",\"Drama\",\"Drama\",\"Drama\",\"Fantasy\",\"Action\",\"Sci-fi\",\"Drama\",\"Fantasy\",\"Drama\",\"Supernatural\",\"Fantasy\",\"Fantasy\",\"Fantasy\",\"Drama\",\"Drama\",\"Drama\",\"Comedy\",\"Sci-fi\",\"Romance\",\"Fantasy\",\"Sci-fi\",\"Romance\",\"Fantasy\",\"Drama\",\"Drama\",\"Drama\",\"Romance\",\"Romance\",\"Fantasy\",\"Comedy\",\"Romance\",\"Fantasy\",\"Action\",\"Action\",\"Fantasy\",\"Fantasy\",\"Action\",\"Action\",\"Action\",\"Fantasy\",\"Romance\",\"Fantasy\",\"Action\",\"Fantasy\",\"Action\",\"Romance\",\"Fantasy\",\"Action\",\"Fantasy\",\"Action\",\"Action\",\"Romance\",\"Action\",\"Fantasy\",\"Romance\",\"Fantasy\",\"Fantasy\",\"Action\",\"Comedy\",\"Fantasy\",\"Comedy\",\"Fantasy\",\"Action\",\"Comedy\",\"Fantasy\",\"Romance\",\"Action\",\"Fantasy\",\"Fantasy\",\"Fantasy\",\"Action\",\"Fantasy\",\"Action\",\"Fantasy\",\"Action\",\"Fantasy\",\"Action\",\"Fantasy\",\"Fantasy\",\"Fantasy\",\"Fantasy\",\"Fantasy\",\"Mystery\",\"Fantasy\",\"Romance\",\"Fantasy\",\"Fantasy\",\"Fantasy\",\"Romance\",\"Action\",\"Fantasy\",\"Action\",\"Comedy\",\"Action\",\"Romance\",\"Fantasy\",\"Fantasy\",\"Fantasy\",\"Fantasy\",\"Fantasy\",\"Thriller\",\"Fantasy\",\"Fantasy\",\"Action\",\"Comedy\",\"Fantasy\",\"Romance\",\"Fantasy\",\"Fantasy\",\"Fantasy\",\"Comedy\",\"Supernatural\",\"Fantasy\",\"Sci-fi\",\"Sci-fi\",\"Fantasy\",\"Fantasy\",\"Action\",\"Romance\",\"Sci-fi\",\"Romance\",\"Comedy\",\"Action\",\"Romance\",\"Action\",\"Action\",\"Supernatural\",\"Romance\",\"Fantasy\",\"Fantasy\",\"Fantasy\",\"Romance\",\"Fantasy\",\"Fantasy\",\"Comedy\",\"Comedy\",\"Fantasy\",\"Fantasy\",\"Thriller\",\"Fantasy\",\"Fantasy\",\"Fantasy\",\"Slice of life\",\"Sci-fi\",\"Supernatural\",\"Action\",\"Fantasy\",\"Sci-fi\",\"Action\",\"Sci-fi\",\"Fantasy\",\"Action\",\"Action\",\"Fantasy\",\"Fantasy\",\"Fantasy\",\"Fantasy\",\"Fantasy\",\"Sci-fi\",\"Supernatural\",\"Sci-fi\",\"Fantasy\",\"Fantasy\",\"Comedy\",\"Superhero\",\"Sci-fi\",\"Supernatural\",\"Comedy\",\"Fantasy\",\"Fantasy\",\"Fantasy\",\"Fantasy\",\"Supernatural\",\"Supernatural\",\"Slice of life\",\"Comedy\",\"Slice of life\",\"Comedy\",\"Romance\",\"Comedy\",\"Comedy\",\"Romance\",\"Comedy\",\"Romance\",\"Slice of life\",\"Romance\",\"Romance\",\"Comedy\",\"Comedy\",\"Romance\",\"Comedy\",\"Slice of life\",\"Sports\",\"Romance\",\"Comedy\",\"Slice of life\",\"Comedy\",\"Romance\",\"Slice of life\",\"Sports\",\"Comedy\",\"Slice of life\",\"Comedy\",\"Comedy\",\"Comedy\",\"Comedy\",\"Supernatural\",\"Comedy\",\"Sci-fi\",\"Comedy\",\"Slice of life\",\"Comedy\",\"Slice of life\",\"Comedy\",\"Slice of life\",\"Slice of life\",\"Slice of life\",\"Slice of life\",\"Comedy\",\"Slice of life\",\"Comedy\",\"Romance\",\"Slice of life\",\"Slice of life\",\"Sci-fi\",\"Comedy\",\"Supernatural\",\"Comedy\",\"Slice of life\",\"Slice of life\",\"Superhero\",\"Slice of life\",\"Comedy\",\"Comedy\",\"Comedy\",\"Slice of life\",\"Comedy\",\"Sports\",\"Slice of life\",\"Slice of life\",\"Comedy\",\"Comedy\",\"Comedy\",\"Sports\",\"Slice of life\",\"Slice of life\",\"Comedy\",\"Slice of life\",\"Comedy\",\"Comedy\",\"Comedy\",\"Slice of life\",\"Slice of life\",\"Comedy\",\"Superhero\",\"Slice of life\",\"Comedy\",\"Comedy\",\"Sports\",\"Action\",\"Action\",\"Action\",\"Sports\",\"Action\",\"Sports\",\"Sci-fi\",\"Superhero\",\"Sports\",\"Action\",\"Action\",\"Action\",\"Sports\",\"Superhero\",\"Supernatural\",\"Mystery\",\"Sci-fi\",\"Sci-fi\",\"Sci-fi\",\"Supernatural\",\"Sci-fi\",\"Sci-fi\",\"Superhero\",\"Supernatural\",\"Superhero\",\"Superhero\",\"Superhero\",\"Superhero\",\"Superhero\",\"Action\",\"Superhero\",\"Superhero\",\"Sci-fi\",\"Supernatural\",\"Superhero\",\"Action\",\"Superhero\",\"Slice of life\",\"Romance\",\"Slice of life\",\"Slice of life\",\"Romance\",\"Romance\",\"Slice of life\",\"Slice of life\",\"Slice of life\",\"Slice of life\",\"Slice of life\",\"Informative\",\"Slice of life\",\"Slice of life\",\"Slice of life\",\"Slice of life\",\"Slice of life\",\"Slice of life\",\"Slice of life\",\"Slice of life\",\"Slice of life\",\"Informative\",\"Thriller\",\"Thriller\",\"Romance\",\"Romance\",\"Horror\",\"Romance\",\"Romance\",\"Romance\",\"Romance\",\"Romance\",\"Romance\",\"Romance\",\"Romance\",\"Romance\",\"Sci-fi\",\"Romance\",\"Supernatural\",\"Supernatural\",\"Supernatural\",\"Historical\",\"Romance\",\"Sci-fi\",\"Heartwarming\",\"Romance\",\"Romance\",\"Romance\",\"Romance\",\"Supernatural\",\"Sci-fi\",\"Romance\",\"Romance\",\"Romance\",\"Sports\",\"Supernatural\",\"Romance\",\"Romance\",\"Romance\",\"Supernatural\",\"Superhero\",\"Superhero\",\"Superhero\",\"Superhero\",\"Superhero\",\"Superhero\",\"Superhero\",\"Sci-fi\",\"Mystery\",\"Sci-fi\",\"Horror\",\"Sci-fi\",\"Horror\",\"Thriller\",\"Supernatural\",\"Thriller\",\"Thriller\",\"Horror\",\"Horror\",\"Thriller\",\"Horror\",\"Horror\",\"Horror\",\"Thriller\",\"Thriller\",\"Thriller\",\"Thriller\",\"Horror\",\"Horror\",\"Thriller\",\"Thriller\",\"Thriller\",\"Horror\",\"Horror\",\"Horror\",\"Thriller\",\"Thriller\",\"Horror\",\"Thriller\",\"Thriller\",\"Horror\",\"Horror\",\"Horror\",\"Thriller\",\"Horror\",\"Thriller\",\"Thriller\",\"Thriller\",\"Supernatural\",\"Thriller\",\"Mystery\",\"Mystery\",\"Supernatural\",\"Thriller\",\"Supernatural\",\"Horror\",\"Horror\",\"Supernatural\",\"Mystery\",\"Informative\",\"Informative\",\"Informative\"]}],                        {\"template\":{\"data\":{\"bar\":[{\"error_x\":{\"color\":\"#2a3f5f\"},\"error_y\":{\"color\":\"#2a3f5f\"},\"marker\":{\"line\":{\"color\":\"#E5ECF6\",\"width\":0.5},\"pattern\":{\"fillmode\":\"overlay\",\"size\":10,\"solidity\":0.2}},\"type\":\"bar\"}],\"barpolar\":[{\"marker\":{\"line\":{\"color\":\"#E5ECF6\",\"width\":0.5},\"pattern\":{\"fillmode\":\"overlay\",\"size\":10,\"solidity\":0.2}},\"type\":\"barpolar\"}],\"carpet\":[{\"aaxis\":{\"endlinecolor\":\"#2a3f5f\",\"gridcolor\":\"white\",\"linecolor\":\"white\",\"minorgridcolor\":\"white\",\"startlinecolor\":\"#2a3f5f\"},\"baxis\":{\"endlinecolor\":\"#2a3f5f\",\"gridcolor\":\"white\",\"linecolor\":\"white\",\"minorgridcolor\":\"white\",\"startlinecolor\":\"#2a3f5f\"},\"type\":\"carpet\"}],\"choropleth\":[{\"colorbar\":{\"outlinewidth\":0,\"ticks\":\"\"},\"type\":\"choropleth\"}],\"contour\":[{\"colorbar\":{\"outlinewidth\":0,\"ticks\":\"\"},\"colorscale\":[[0.0,\"#0d0887\"],[0.1111111111111111,\"#46039f\"],[0.2222222222222222,\"#7201a8\"],[0.3333333333333333,\"#9c179e\"],[0.4444444444444444,\"#bd3786\"],[0.5555555555555556,\"#d8576b\"],[0.6666666666666666,\"#ed7953\"],[0.7777777777777778,\"#fb9f3a\"],[0.8888888888888888,\"#fdca26\"],[1.0,\"#f0f921\"]],\"type\":\"contour\"}],\"contourcarpet\":[{\"colorbar\":{\"outlinewidth\":0,\"ticks\":\"\"},\"type\":\"contourcarpet\"}],\"heatmap\":[{\"colorbar\":{\"outlinewidth\":0,\"ticks\":\"\"},\"colorscale\":[[0.0,\"#0d0887\"],[0.1111111111111111,\"#46039f\"],[0.2222222222222222,\"#7201a8\"],[0.3333333333333333,\"#9c179e\"],[0.4444444444444444,\"#bd3786\"],[0.5555555555555556,\"#d8576b\"],[0.6666666666666666,\"#ed7953\"],[0.7777777777777778,\"#fb9f3a\"],[0.8888888888888888,\"#fdca26\"],[1.0,\"#f0f921\"]],\"type\":\"heatmap\"}],\"heatmapgl\":[{\"colorbar\":{\"outlinewidth\":0,\"ticks\":\"\"},\"colorscale\":[[0.0,\"#0d0887\"],[0.1111111111111111,\"#46039f\"],[0.2222222222222222,\"#7201a8\"],[0.3333333333333333,\"#9c179e\"],[0.4444444444444444,\"#bd3786\"],[0.5555555555555556,\"#d8576b\"],[0.6666666666666666,\"#ed7953\"],[0.7777777777777778,\"#fb9f3a\"],[0.8888888888888888,\"#fdca26\"],[1.0,\"#f0f921\"]],\"type\":\"heatmapgl\"}],\"histogram\":[{\"marker\":{\"pattern\":{\"fillmode\":\"overlay\",\"size\":10,\"solidity\":0.2}},\"type\":\"histogram\"}],\"histogram2d\":[{\"colorbar\":{\"outlinewidth\":0,\"ticks\":\"\"},\"colorscale\":[[0.0,\"#0d0887\"],[0.1111111111111111,\"#46039f\"],[0.2222222222222222,\"#7201a8\"],[0.3333333333333333,\"#9c179e\"],[0.4444444444444444,\"#bd3786\"],[0.5555555555555556,\"#d8576b\"],[0.6666666666666666,\"#ed7953\"],[0.7777777777777778,\"#fb9f3a\"],[0.8888888888888888,\"#fdca26\"],[1.0,\"#f0f921\"]],\"type\":\"histogram2d\"}],\"histogram2dcontour\":[{\"colorbar\":{\"outlinewidth\":0,\"ticks\":\"\"},\"colorscale\":[[0.0,\"#0d0887\"],[0.1111111111111111,\"#46039f\"],[0.2222222222222222,\"#7201a8\"],[0.3333333333333333,\"#9c179e\"],[0.4444444444444444,\"#bd3786\"],[0.5555555555555556,\"#d8576b\"],[0.6666666666666666,\"#ed7953\"],[0.7777777777777778,\"#fb9f3a\"],[0.8888888888888888,\"#fdca26\"],[1.0,\"#f0f921\"]],\"type\":\"histogram2dcontour\"}],\"mesh3d\":[{\"colorbar\":{\"outlinewidth\":0,\"ticks\":\"\"},\"type\":\"mesh3d\"}],\"parcoords\":[{\"line\":{\"colorbar\":{\"outlinewidth\":0,\"ticks\":\"\"}},\"type\":\"parcoords\"}],\"pie\":[{\"automargin\":true,\"type\":\"pie\"}],\"scatter\":[{\"marker\":{\"colorbar\":{\"outlinewidth\":0,\"ticks\":\"\"}},\"type\":\"scatter\"}],\"scatter3d\":[{\"line\":{\"colorbar\":{\"outlinewidth\":0,\"ticks\":\"\"}},\"marker\":{\"colorbar\":{\"outlinewidth\":0,\"ticks\":\"\"}},\"type\":\"scatter3d\"}],\"scattercarpet\":[{\"marker\":{\"colorbar\":{\"outlinewidth\":0,\"ticks\":\"\"}},\"type\":\"scattercarpet\"}],\"scattergeo\":[{\"marker\":{\"colorbar\":{\"outlinewidth\":0,\"ticks\":\"\"}},\"type\":\"scattergeo\"}],\"scattergl\":[{\"marker\":{\"colorbar\":{\"outlinewidth\":0,\"ticks\":\"\"}},\"type\":\"scattergl\"}],\"scattermapbox\":[{\"marker\":{\"colorbar\":{\"outlinewidth\":0,\"ticks\":\"\"}},\"type\":\"scattermapbox\"}],\"scatterpolar\":[{\"marker\":{\"colorbar\":{\"outlinewidth\":0,\"ticks\":\"\"}},\"type\":\"scatterpolar\"}],\"scatterpolargl\":[{\"marker\":{\"colorbar\":{\"outlinewidth\":0,\"ticks\":\"\"}},\"type\":\"scatterpolargl\"}],\"scatterternary\":[{\"marker\":{\"colorbar\":{\"outlinewidth\":0,\"ticks\":\"\"}},\"type\":\"scatterternary\"}],\"surface\":[{\"colorbar\":{\"outlinewidth\":0,\"ticks\":\"\"},\"colorscale\":[[0.0,\"#0d0887\"],[0.1111111111111111,\"#46039f\"],[0.2222222222222222,\"#7201a8\"],[0.3333333333333333,\"#9c179e\"],[0.4444444444444444,\"#bd3786\"],[0.5555555555555556,\"#d8576b\"],[0.6666666666666666,\"#ed7953\"],[0.7777777777777778,\"#fb9f3a\"],[0.8888888888888888,\"#fdca26\"],[1.0,\"#f0f921\"]],\"type\":\"surface\"}],\"table\":[{\"cells\":{\"fill\":{\"color\":\"#EBF0F8\"},\"line\":{\"color\":\"white\"}},\"header\":{\"fill\":{\"color\":\"#C8D4E3\"},\"line\":{\"color\":\"white\"}},\"type\":\"table\"}]},\"layout\":{\"annotationdefaults\":{\"arrowcolor\":\"#2a3f5f\",\"arrowhead\":0,\"arrowwidth\":1},\"autotypenumbers\":\"strict\",\"coloraxis\":{\"colorbar\":{\"outlinewidth\":0,\"ticks\":\"\"}},\"colorscale\":{\"diverging\":[[0,\"#8e0152\"],[0.1,\"#c51b7d\"],[0.2,\"#de77ae\"],[0.3,\"#f1b6da\"],[0.4,\"#fde0ef\"],[0.5,\"#f7f7f7\"],[0.6,\"#e6f5d0\"],[0.7,\"#b8e186\"],[0.8,\"#7fbc41\"],[0.9,\"#4d9221\"],[1,\"#276419\"]],\"sequential\":[[0.0,\"#0d0887\"],[0.1111111111111111,\"#46039f\"],[0.2222222222222222,\"#7201a8\"],[0.3333333333333333,\"#9c179e\"],[0.4444444444444444,\"#bd3786\"],[0.5555555555555556,\"#d8576b\"],[0.6666666666666666,\"#ed7953\"],[0.7777777777777778,\"#fb9f3a\"],[0.8888888888888888,\"#fdca26\"],[1.0,\"#f0f921\"]],\"sequentialminus\":[[0.0,\"#0d0887\"],[0.1111111111111111,\"#46039f\"],[0.2222222222222222,\"#7201a8\"],[0.3333333333333333,\"#9c179e\"],[0.4444444444444444,\"#bd3786\"],[0.5555555555555556,\"#d8576b\"],[0.6666666666666666,\"#ed7953\"],[0.7777777777777778,\"#fb9f3a\"],[0.8888888888888888,\"#fdca26\"],[1.0,\"#f0f921\"]]},\"colorway\":[\"#636efa\",\"#EF553B\",\"#00cc96\",\"#ab63fa\",\"#FFA15A\",\"#19d3f3\",\"#FF6692\",\"#B6E880\",\"#FF97FF\",\"#FECB52\"],\"font\":{\"color\":\"#2a3f5f\"},\"geo\":{\"bgcolor\":\"white\",\"lakecolor\":\"white\",\"landcolor\":\"#E5ECF6\",\"showlakes\":true,\"showland\":true,\"subunitcolor\":\"white\"},\"hoverlabel\":{\"align\":\"left\"},\"hovermode\":\"closest\",\"mapbox\":{\"style\":\"light\"},\"paper_bgcolor\":\"white\",\"plot_bgcolor\":\"#E5ECF6\",\"polar\":{\"angularaxis\":{\"gridcolor\":\"white\",\"linecolor\":\"white\",\"ticks\":\"\"},\"bgcolor\":\"#E5ECF6\",\"radialaxis\":{\"gridcolor\":\"white\",\"linecolor\":\"white\",\"ticks\":\"\"}},\"scene\":{\"xaxis\":{\"backgroundcolor\":\"#E5ECF6\",\"gridcolor\":\"white\",\"gridwidth\":2,\"linecolor\":\"white\",\"showbackground\":true,\"ticks\":\"\",\"zerolinecolor\":\"white\"},\"yaxis\":{\"backgroundcolor\":\"#E5ECF6\",\"gridcolor\":\"white\",\"gridwidth\":2,\"linecolor\":\"white\",\"showbackground\":true,\"ticks\":\"\",\"zerolinecolor\":\"white\"},\"zaxis\":{\"backgroundcolor\":\"#E5ECF6\",\"gridcolor\":\"white\",\"gridwidth\":2,\"linecolor\":\"white\",\"showbackground\":true,\"ticks\":\"\",\"zerolinecolor\":\"white\"}},\"shapedefaults\":{\"line\":{\"color\":\"#2a3f5f\"}},\"ternary\":{\"aaxis\":{\"gridcolor\":\"white\",\"linecolor\":\"white\",\"ticks\":\"\"},\"baxis\":{\"gridcolor\":\"white\",\"linecolor\":\"white\",\"ticks\":\"\"},\"bgcolor\":\"#E5ECF6\",\"caxis\":{\"gridcolor\":\"white\",\"linecolor\":\"white\",\"ticks\":\"\"}},\"title\":{\"x\":0.05},\"xaxis\":{\"automargin\":true,\"gridcolor\":\"white\",\"linecolor\":\"white\",\"ticks\":\"\",\"title\":{\"standoff\":15},\"zerolinecolor\":\"white\",\"zerolinewidth\":2},\"yaxis\":{\"automargin\":true,\"gridcolor\":\"white\",\"linecolor\":\"white\",\"ticks\":\"\",\"title\":{\"standoff\":15},\"zerolinecolor\":\"white\",\"zerolinewidth\":2}}}},                        {\"responsive\": true}                    ).then(function(){\n",
              "                            \n",
              "var gd = document.getElementById('46dccfc4-bb69-4e28-8a61-52bf64be56c1');\n",
              "var x = new MutationObserver(function (mutations, observer) {{\n",
              "        var display = window.getComputedStyle(gd).display;\n",
              "        if (!display || display === 'none') {{\n",
              "            console.log([gd, 'removed!']);\n",
              "            Plotly.purge(gd);\n",
              "            observer.disconnect();\n",
              "        }}\n",
              "}});\n",
              "\n",
              "// Listen for the removal of the full notebook cells\n",
              "var notebookContainer = gd.closest('#notebook-container');\n",
              "if (notebookContainer) {{\n",
              "    x.observe(notebookContainer, {childList: true});\n",
              "}}\n",
              "\n",
              "// Listen for the clearing of the current output cell\n",
              "var outputEl = gd.closest('.output');\n",
              "if (outputEl) {{\n",
              "    x.observe(outputEl, {childList: true});\n",
              "}}\n",
              "\n",
              "                        })                };                            </script>        </div>\n",
              "</body>\n",
              "</html>"
            ]
          },
          "metadata": {}
        }
      ]
    },
    {
      "cell_type": "markdown",
      "metadata": {
        "id": "AJaw4kIk_g1U"
      },
      "source": [
        "plotly express"
      ]
    },
    {
      "cell_type": "code",
      "metadata": {
        "id": "pbrIKQqnBPZ1"
      },
      "source": [
        "import plotly.express as px"
      ],
      "execution_count": null,
      "outputs": []
    },
    {
      "cell_type": "code",
      "metadata": {
        "id": "S5Rp5nQO_lVu"
      },
      "source": [
        "df = webtoon_df\n",
        "df1 = webtoon_df"
      ],
      "execution_count": null,
      "outputs": []
    },
    {
      "cell_type": "code",
      "metadata": {
        "colab": {
          "base_uri": "https://localhost:8080/",
          "height": 206
        },
        "id": "CN6M4L0sA5oV",
        "outputId": "9ea006f3-e713-40d7-b8dd-7bb11a7eb6e1"
      },
      "source": [
        "df.head()"
      ],
      "execution_count": null,
      "outputs": [
        {
          "output_type": "execute_result",
          "data": {
            "text/html": [
              "<div>\n",
              "<style scoped>\n",
              "    .dataframe tbody tr th:only-of-type {\n",
              "        vertical-align: middle;\n",
              "    }\n",
              "\n",
              "    .dataframe tbody tr th {\n",
              "        vertical-align: top;\n",
              "    }\n",
              "\n",
              "    .dataframe thead th {\n",
              "        text-align: right;\n",
              "    }\n",
              "</style>\n",
              "<table border=\"1\" class=\"dataframe\">\n",
              "  <thead>\n",
              "    <tr style=\"text-align: right;\">\n",
              "      <th></th>\n",
              "      <th>id</th>\n",
              "      <th>Name</th>\n",
              "      <th>Writer</th>\n",
              "      <th>Genre</th>\n",
              "      <th>Rating</th>\n",
              "      <th>Update</th>\n",
              "      <th>Subscribers</th>\n",
              "      <th>Likes</th>\n",
              "    </tr>\n",
              "  </thead>\n",
              "  <tbody>\n",
              "    <tr>\n",
              "      <th>0</th>\n",
              "      <td>0</td>\n",
              "      <td>Let's Play</td>\n",
              "      <td>Leeanne M. Krecic (Mongie)</td>\n",
              "      <td>Romance</td>\n",
              "      <td>9.6</td>\n",
              "      <td>TUESDAY</td>\n",
              "      <td>4200000</td>\n",
              "      <td>30600000</td>\n",
              "    </tr>\n",
              "    <tr>\n",
              "      <th>1</th>\n",
              "      <td>1</td>\n",
              "      <td>True Beauty</td>\n",
              "      <td>Yaongyi</td>\n",
              "      <td>Romance</td>\n",
              "      <td>9.6</td>\n",
              "      <td>WEDNESDAY</td>\n",
              "      <td>6400000</td>\n",
              "      <td>39900000</td>\n",
              "    </tr>\n",
              "    <tr>\n",
              "      <th>2</th>\n",
              "      <td>2</td>\n",
              "      <td>Midnight Poppy Land</td>\n",
              "      <td>Lilydusk</td>\n",
              "      <td>Romance</td>\n",
              "      <td>9.8</td>\n",
              "      <td>SATURDAY</td>\n",
              "      <td>2100000</td>\n",
              "      <td>10400000</td>\n",
              "    </tr>\n",
              "    <tr>\n",
              "      <th>3</th>\n",
              "      <td>3</td>\n",
              "      <td>Age Matters</td>\n",
              "      <td>Enjelicious</td>\n",
              "      <td>Romance</td>\n",
              "      <td>9.8</td>\n",
              "      <td>WEDNESDAY</td>\n",
              "      <td>3500000</td>\n",
              "      <td>25900000</td>\n",
              "    </tr>\n",
              "    <tr>\n",
              "      <th>4</th>\n",
              "      <td>4</td>\n",
              "      <td>Unholy Blood</td>\n",
              "      <td>Lina Im / Jeonghyeon Kim</td>\n",
              "      <td>Supernatural</td>\n",
              "      <td>9.8</td>\n",
              "      <td>THURSDAY</td>\n",
              "      <td>1500000</td>\n",
              "      <td>9900000</td>\n",
              "    </tr>\n",
              "  </tbody>\n",
              "</table>\n",
              "</div>"
            ],
            "text/plain": [
              "   id                 Name                      Writer         Genre  Rating  \\\n",
              "0   0           Let's Play  Leeanne M. Krecic (Mongie)       Romance     9.6   \n",
              "1   1          True Beauty                     Yaongyi       Romance     9.6   \n",
              "2   2  Midnight Poppy Land                    Lilydusk       Romance     9.8   \n",
              "3   3          Age Matters                 Enjelicious       Romance     9.8   \n",
              "4   4         Unholy Blood    Lina Im / Jeonghyeon Kim  Supernatural     9.8   \n",
              "\n",
              "       Update  Subscribers     Likes  \n",
              "0     TUESDAY      4200000  30600000  \n",
              "1   WEDNESDAY      6400000  39900000  \n",
              "2    SATURDAY      2100000  10400000  \n",
              "3   WEDNESDAY      3500000  25900000  \n",
              "4    THURSDAY      1500000   9900000  "
            ]
          },
          "metadata": {},
          "execution_count": 43
        }
      ]
    },
    {
      "cell_type": "code",
      "metadata": {
        "colab": {
          "base_uri": "https://localhost:8080/",
          "height": 1000
        },
        "id": "IiX5rzK9KvBK",
        "outputId": "13f527f1-d46b-40b0-cadc-57d139df18d3"
      },
      "source": [
        "webtoon_df[webtoon_df['Genre']=='Drama'] # 장르가 드라마인 것들만 보기 위함"
      ],
      "execution_count": null,
      "outputs": [
        {
          "output_type": "execute_result",
          "data": {
            "text/html": [
              "<div>\n",
              "<style scoped>\n",
              "    .dataframe tbody tr th:only-of-type {\n",
              "        vertical-align: middle;\n",
              "    }\n",
              "\n",
              "    .dataframe tbody tr th {\n",
              "        vertical-align: top;\n",
              "    }\n",
              "\n",
              "    .dataframe thead th {\n",
              "        text-align: right;\n",
              "    }\n",
              "</style>\n",
              "<table border=\"1\" class=\"dataframe\">\n",
              "  <thead>\n",
              "    <tr style=\"text-align: right;\">\n",
              "      <th></th>\n",
              "      <th>id</th>\n",
              "      <th>Name</th>\n",
              "      <th>Writer</th>\n",
              "      <th>Genre</th>\n",
              "      <th>Rating</th>\n",
              "      <th>Update</th>\n",
              "      <th>Subscribers</th>\n",
              "      <th>Likes</th>\n",
              "    </tr>\n",
              "  </thead>\n",
              "  <tbody>\n",
              "    <tr>\n",
              "      <th>9</th>\n",
              "      <td>9</td>\n",
              "      <td>I Love Yoo</td>\n",
              "      <td>Quimchee</td>\n",
              "      <td>Drama</td>\n",
              "      <td>9.8</td>\n",
              "      <td>FRIDAY</td>\n",
              "      <td>4300000</td>\n",
              "      <td>2900000</td>\n",
              "    </tr>\n",
              "    <tr>\n",
              "      <th>11</th>\n",
              "      <td>11</td>\n",
              "      <td>Acception</td>\n",
              "      <td>Colourbee</td>\n",
              "      <td>Drama</td>\n",
              "      <td>9.1</td>\n",
              "      <td>TUE, FRI</td>\n",
              "      <td>750600</td>\n",
              "      <td>10200000</td>\n",
              "    </tr>\n",
              "    <tr>\n",
              "      <th>12</th>\n",
              "      <td>12</td>\n",
              "      <td>She's Hopeless</td>\n",
              "      <td>Seokwoo</td>\n",
              "      <td>Drama</td>\n",
              "      <td>9.7</td>\n",
              "      <td>SATURDAY</td>\n",
              "      <td>669600</td>\n",
              "      <td>1500000</td>\n",
              "    </tr>\n",
              "    <tr>\n",
              "      <th>21</th>\n",
              "      <td>21</td>\n",
              "      <td>Get Schooled</td>\n",
              "      <td>Yongtaek Chae / GARAM HAN</td>\n",
              "      <td>Drama</td>\n",
              "      <td>9.8</td>\n",
              "      <td>SUNDAY</td>\n",
              "      <td>407700</td>\n",
              "      <td>883687</td>\n",
              "    </tr>\n",
              "    <tr>\n",
              "      <th>22</th>\n",
              "      <td>22</td>\n",
              "      <td>Lookism</td>\n",
              "      <td>Taejun Pak</td>\n",
              "      <td>Drama</td>\n",
              "      <td>9.8</td>\n",
              "      <td>SUNDAY</td>\n",
              "      <td>2200000</td>\n",
              "      <td>33900000</td>\n",
              "    </tr>\n",
              "    <tr>\n",
              "      <th>25</th>\n",
              "      <td>25</td>\n",
              "      <td>Odd Girl Out</td>\n",
              "      <td>Morangji</td>\n",
              "      <td>Drama</td>\n",
              "      <td>9.8</td>\n",
              "      <td>TUESDAY</td>\n",
              "      <td>796400</td>\n",
              "      <td>15800000</td>\n",
              "    </tr>\n",
              "    <tr>\n",
              "      <th>36</th>\n",
              "      <td>36</td>\n",
              "      <td>Lost in Translation</td>\n",
              "      <td>Jjolee</td>\n",
              "      <td>Drama</td>\n",
              "      <td>9.7</td>\n",
              "      <td>FRIDAY</td>\n",
              "      <td>576700</td>\n",
              "      <td>4500000</td>\n",
              "    </tr>\n",
              "    <tr>\n",
              "      <th>37</th>\n",
              "      <td>37</td>\n",
              "      <td>Mom, I'm Sorry</td>\n",
              "      <td>MiTi / GUGU</td>\n",
              "      <td>Drama</td>\n",
              "      <td>9.7</td>\n",
              "      <td>FRIDAY</td>\n",
              "      <td>760500</td>\n",
              "      <td>3900000</td>\n",
              "    </tr>\n",
              "    <tr>\n",
              "      <th>39</th>\n",
              "      <td>39</td>\n",
              "      <td>Back to You</td>\n",
              "      <td>Honey B</td>\n",
              "      <td>Drama</td>\n",
              "      <td>9.7</td>\n",
              "      <td>FRIDAY</td>\n",
              "      <td>648700</td>\n",
              "      <td>3100000</td>\n",
              "    </tr>\n",
              "    <tr>\n",
              "      <th>48</th>\n",
              "      <td>48</td>\n",
              "      <td>Midnight Rain</td>\n",
              "      <td>Pani</td>\n",
              "      <td>Drama</td>\n",
              "      <td>9.1</td>\n",
              "      <td>MONDAY</td>\n",
              "      <td>343200</td>\n",
              "      <td>1300000</td>\n",
              "    </tr>\n",
              "    <tr>\n",
              "      <th>50</th>\n",
              "      <td>50</td>\n",
              "      <td>The Nuna at Our Office</td>\n",
              "      <td>Juin Kim / Taejun Pak Webtoon Company</td>\n",
              "      <td>Drama</td>\n",
              "      <td>9.6</td>\n",
              "      <td>FRIDAY</td>\n",
              "      <td>204900</td>\n",
              "      <td>368698</td>\n",
              "    </tr>\n",
              "    <tr>\n",
              "      <th>51</th>\n",
              "      <td>51</td>\n",
              "      <td>After School Lessonsfor Unripe Apples</td>\n",
              "      <td>WasakBasak / JANE</td>\n",
              "      <td>Drama</td>\n",
              "      <td>9.8</td>\n",
              "      <td>SUNDAY</td>\n",
              "      <td>11000</td>\n",
              "      <td>194208</td>\n",
              "    </tr>\n",
              "    <tr>\n",
              "      <th>55</th>\n",
              "      <td>55</td>\n",
              "      <td>Moonlight Beauty Parlor</td>\n",
              "      <td>Jimena Aranda</td>\n",
              "      <td>Drama</td>\n",
              "      <td>9.7</td>\n",
              "      <td>SATURDAY</td>\n",
              "      <td>155300</td>\n",
              "      <td>1500000</td>\n",
              "    </tr>\n",
              "    <tr>\n",
              "      <th>58</th>\n",
              "      <td>58</td>\n",
              "      <td>Pyramid Game</td>\n",
              "      <td>Dalgonyak</td>\n",
              "      <td>Drama</td>\n",
              "      <td>9.5</td>\n",
              "      <td>THURSDAY</td>\n",
              "      <td>173800</td>\n",
              "      <td>720233</td>\n",
              "    </tr>\n",
              "    <tr>\n",
              "      <th>59</th>\n",
              "      <td>59</td>\n",
              "      <td>Fluidum</td>\n",
              "      <td>GirlsOnFilm / ValeriaM</td>\n",
              "      <td>Drama</td>\n",
              "      <td>9.1</td>\n",
              "      <td>WEDNESDAY</td>\n",
              "      <td>199200</td>\n",
              "      <td>1100000</td>\n",
              "    </tr>\n",
              "    <tr>\n",
              "      <th>62</th>\n",
              "      <td>62</td>\n",
              "      <td>Random Chat</td>\n",
              "      <td>Dongwoo Han / Dohee Lee</td>\n",
              "      <td>Drama</td>\n",
              "      <td>9.6</td>\n",
              "      <td>SATURDAY</td>\n",
              "      <td>311200</td>\n",
              "      <td>366790</td>\n",
              "    </tr>\n",
              "    <tr>\n",
              "      <th>65</th>\n",
              "      <td>65</td>\n",
              "      <td>CODE HELIX</td>\n",
              "      <td>Na-eum So</td>\n",
              "      <td>Drama</td>\n",
              "      <td>9.4</td>\n",
              "      <td>WEDNESDAY</td>\n",
              "      <td>3600</td>\n",
              "      <td>496930</td>\n",
              "    </tr>\n",
              "    <tr>\n",
              "      <th>69</th>\n",
              "      <td>69</td>\n",
              "      <td>Da Yomanville Gang</td>\n",
              "      <td>Jason King</td>\n",
              "      <td>Drama</td>\n",
              "      <td>9.2</td>\n",
              "      <td>TUESDAY</td>\n",
              "      <td>234700</td>\n",
              "      <td>1700000</td>\n",
              "    </tr>\n",
              "    <tr>\n",
              "      <th>70</th>\n",
              "      <td>70</td>\n",
              "      <td>Take Me, I'm Yours</td>\n",
              "      <td>RoseBean / One Punch Rabbit</td>\n",
              "      <td>Drama</td>\n",
              "      <td>9.5</td>\n",
              "      <td>THURSDAY</td>\n",
              "      <td>179800</td>\n",
              "      <td>191969</td>\n",
              "    </tr>\n",
              "    <tr>\n",
              "      <th>72</th>\n",
              "      <td>72</td>\n",
              "      <td>A Man's Man</td>\n",
              "      <td>Dogado / Lucas</td>\n",
              "      <td>Drama</td>\n",
              "      <td>9.8</td>\n",
              "      <td>THURSDAY</td>\n",
              "      <td>88800</td>\n",
              "      <td>144623</td>\n",
              "    </tr>\n",
              "    <tr>\n",
              "      <th>76</th>\n",
              "      <td>76</td>\n",
              "      <td>Beyond Virtual</td>\n",
              "      <td>EGA</td>\n",
              "      <td>Drama</td>\n",
              "      <td>9.2</td>\n",
              "      <td>FRIDAY</td>\n",
              "      <td>154200</td>\n",
              "      <td>294484</td>\n",
              "    </tr>\n",
              "    <tr>\n",
              "      <th>77</th>\n",
              "      <td>77</td>\n",
              "      <td>Maya's World</td>\n",
              "      <td>Tupaikidal</td>\n",
              "      <td>Drama</td>\n",
              "      <td>9.2</td>\n",
              "      <td>WEDNESDAY</td>\n",
              "      <td>91800</td>\n",
              "      <td>82708</td>\n",
              "    </tr>\n",
              "    <tr>\n",
              "      <th>80</th>\n",
              "      <td>80</td>\n",
              "      <td>The Horizon</td>\n",
              "      <td>JH</td>\n",
              "      <td>Drama</td>\n",
              "      <td>9.8</td>\n",
              "      <td>COMPLETED</td>\n",
              "      <td>139800</td>\n",
              "      <td>175864</td>\n",
              "    </tr>\n",
              "    <tr>\n",
              "      <th>82</th>\n",
              "      <td>82</td>\n",
              "      <td>Asterion</td>\n",
              "      <td>NeverDraws</td>\n",
              "      <td>Drama</td>\n",
              "      <td>9.0</td>\n",
              "      <td>SUNDAY</td>\n",
              "      <td>87500</td>\n",
              "      <td>240863</td>\n",
              "    </tr>\n",
              "    <tr>\n",
              "      <th>83</th>\n",
              "      <td>83</td>\n",
              "      <td>My Life as a Loser</td>\n",
              "      <td>kkanaria</td>\n",
              "      <td>Drama</td>\n",
              "      <td>9.8</td>\n",
              "      <td>COMPLETED</td>\n",
              "      <td>111100</td>\n",
              "      <td>5347</td>\n",
              "    </tr>\n",
              "    <tr>\n",
              "      <th>86</th>\n",
              "      <td>86</td>\n",
              "      <td>To Be Ordinary!</td>\n",
              "      <td>Yellow sheep / So-p</td>\n",
              "      <td>Drama</td>\n",
              "      <td>9.1</td>\n",
              "      <td>SATURDAY</td>\n",
              "      <td>18400</td>\n",
              "      <td>949502</td>\n",
              "    </tr>\n",
              "    <tr>\n",
              "      <th>87</th>\n",
              "      <td>87</td>\n",
              "      <td>Dark Mortal</td>\n",
              "      <td>Jeonyeok Lee</td>\n",
              "      <td>Drama</td>\n",
              "      <td>9.8</td>\n",
              "      <td>COMPLETED</td>\n",
              "      <td>209300</td>\n",
              "      <td>100000</td>\n",
              "    </tr>\n",
              "    <tr>\n",
              "      <th>91</th>\n",
              "      <td>91</td>\n",
              "      <td>SAVE ME</td>\n",
              "      <td>Big Hit Ent. / LICO</td>\n",
              "      <td>Drama</td>\n",
              "      <td>9.9</td>\n",
              "      <td>COMPLETED</td>\n",
              "      <td>2100000</td>\n",
              "      <td>3900000</td>\n",
              "    </tr>\n",
              "    <tr>\n",
              "      <th>93</th>\n",
              "      <td>93</td>\n",
              "      <td>Your Letter</td>\n",
              "      <td>Hyeon A Cho</td>\n",
              "      <td>Drama</td>\n",
              "      <td>9.9</td>\n",
              "      <td>COMPLETED</td>\n",
              "      <td>502900</td>\n",
              "      <td>100000</td>\n",
              "    </tr>\n",
              "    <tr>\n",
              "      <th>95</th>\n",
              "      <td>95</td>\n",
              "      <td>Days of Hana</td>\n",
              "      <td>Seokwoo</td>\n",
              "      <td>Drama</td>\n",
              "      <td>9.8</td>\n",
              "      <td>COMPLETED</td>\n",
              "      <td>100000</td>\n",
              "      <td>7100000</td>\n",
              "    </tr>\n",
              "    <tr>\n",
              "      <th>98</th>\n",
              "      <td>98</td>\n",
              "      <td>Death's Game</td>\n",
              "      <td>LEE WONSIK / GGULCHAN</td>\n",
              "      <td>Drama</td>\n",
              "      <td>9.8</td>\n",
              "      <td>COMPLETED</td>\n",
              "      <td>306800</td>\n",
              "      <td>1300000</td>\n",
              "    </tr>\n",
              "    <tr>\n",
              "      <th>99</th>\n",
              "      <td>99</td>\n",
              "      <td>The Golden Spoon</td>\n",
              "      <td>HD3</td>\n",
              "      <td>Drama</td>\n",
              "      <td>9.1</td>\n",
              "      <td>COMPLETED</td>\n",
              "      <td>5200</td>\n",
              "      <td>165712</td>\n",
              "    </tr>\n",
              "    <tr>\n",
              "      <th>101</th>\n",
              "      <td>101</td>\n",
              "      <td>Gourmet Hound</td>\n",
              "      <td>Leehama</td>\n",
              "      <td>Drama</td>\n",
              "      <td>9.8</td>\n",
              "      <td>COMPLETED</td>\n",
              "      <td>845100</td>\n",
              "      <td>11300000</td>\n",
              "    </tr>\n",
              "    <tr>\n",
              "      <th>107</th>\n",
              "      <td>107</td>\n",
              "      <td>Cheese in the Trap</td>\n",
              "      <td>Soonkki</td>\n",
              "      <td>Drama</td>\n",
              "      <td>9.7</td>\n",
              "      <td>COMPLETED</td>\n",
              "      <td>100000</td>\n",
              "      <td>8700000</td>\n",
              "    </tr>\n",
              "    <tr>\n",
              "      <th>108</th>\n",
              "      <td>108</td>\n",
              "      <td>Yuna &amp; Kawachan</td>\n",
              "      <td>Lauren Schmidt</td>\n",
              "      <td>Drama</td>\n",
              "      <td>9.7</td>\n",
              "      <td>COMPLETED</td>\n",
              "      <td>205400</td>\n",
              "      <td>1700000</td>\n",
              "    </tr>\n",
              "    <tr>\n",
              "      <th>114</th>\n",
              "      <td>114</td>\n",
              "      <td>Taste of Illness</td>\n",
              "      <td>Ilkwon Ha</td>\n",
              "      <td>Drama</td>\n",
              "      <td>9.8</td>\n",
              "      <td>COMPLETED</td>\n",
              "      <td>144400</td>\n",
              "      <td>519225</td>\n",
              "    </tr>\n",
              "    <tr>\n",
              "      <th>117</th>\n",
              "      <td>117</td>\n",
              "      <td>Life Outside the Circle</td>\n",
              "      <td>H-P Lehkonen</td>\n",
              "      <td>Drama</td>\n",
              "      <td>9.4</td>\n",
              "      <td>COMPLETED</td>\n",
              "      <td>19900</td>\n",
              "      <td>939184</td>\n",
              "    </tr>\n",
              "    <tr>\n",
              "      <th>118</th>\n",
              "      <td>118</td>\n",
              "      <td>Winter Woods</td>\n",
              "      <td>COSMOS / VAN.J</td>\n",
              "      <td>Drama</td>\n",
              "      <td>9.8</td>\n",
              "      <td>COMPLETED</td>\n",
              "      <td>731300</td>\n",
              "      <td>3600000</td>\n",
              "    </tr>\n",
              "    <tr>\n",
              "      <th>119</th>\n",
              "      <td>119</td>\n",
              "      <td>ShootAround</td>\n",
              "      <td>suspu</td>\n",
              "      <td>Drama</td>\n",
              "      <td>9.7</td>\n",
              "      <td>COMPLETED</td>\n",
              "      <td>155100</td>\n",
              "      <td>1500000</td>\n",
              "    </tr>\n",
              "    <tr>\n",
              "      <th>120</th>\n",
              "      <td>120</td>\n",
              "      <td>Annarasumanara</td>\n",
              "      <td>Ilkwon Ha</td>\n",
              "      <td>Drama</td>\n",
              "      <td>9.7</td>\n",
              "      <td>COMPLETED</td>\n",
              "      <td>277300</td>\n",
              "      <td>753985</td>\n",
              "    </tr>\n",
              "    <tr>\n",
              "      <th>123</th>\n",
              "      <td>123</td>\n",
              "      <td>Ghost Theater</td>\n",
              "      <td>LICO</td>\n",
              "      <td>Drama</td>\n",
              "      <td>9.8</td>\n",
              "      <td>COMPLETED</td>\n",
              "      <td>390500</td>\n",
              "      <td>200000</td>\n",
              "    </tr>\n",
              "    <tr>\n",
              "      <th>125</th>\n",
              "      <td>125</td>\n",
              "      <td>American Road Trip</td>\n",
              "      <td>Patrick Flores-Scott / Little Corvus</td>\n",
              "      <td>Drama</td>\n",
              "      <td>9.6</td>\n",
              "      <td>COMPLETED</td>\n",
              "      <td>10200</td>\n",
              "      <td>326792</td>\n",
              "    </tr>\n",
              "    <tr>\n",
              "      <th>128</th>\n",
              "      <td>128</td>\n",
              "      <td>Kids Are All Right</td>\n",
              "      <td>HP56</td>\n",
              "      <td>Drama</td>\n",
              "      <td>9.7</td>\n",
              "      <td>COMPLETED</td>\n",
              "      <td>76100</td>\n",
              "      <td>338708</td>\n",
              "    </tr>\n",
              "    <tr>\n",
              "      <th>129</th>\n",
              "      <td>129</td>\n",
              "      <td>THE GIRL FROM CLASS</td>\n",
              "      <td>Subong Park</td>\n",
              "      <td>Drama</td>\n",
              "      <td>9.5</td>\n",
              "      <td>COMPLETED</td>\n",
              "      <td>109600</td>\n",
              "      <td>324180</td>\n",
              "    </tr>\n",
              "    <tr>\n",
              "      <th>130</th>\n",
              "      <td>130</td>\n",
              "      <td>Spirit Fingers</td>\n",
              "      <td>han kyoung chal</td>\n",
              "      <td>Drama</td>\n",
              "      <td>9.9</td>\n",
              "      <td>COMPLETED</td>\n",
              "      <td>286200</td>\n",
              "      <td>4800000</td>\n",
              "    </tr>\n",
              "    <tr>\n",
              "      <th>135</th>\n",
              "      <td>135</td>\n",
              "      <td>About Death</td>\n",
              "      <td>Sini / Hyeono</td>\n",
              "      <td>Drama</td>\n",
              "      <td>9.8</td>\n",
              "      <td>COMPLETED</td>\n",
              "      <td>127500</td>\n",
              "      <td>358952</td>\n",
              "    </tr>\n",
              "    <tr>\n",
              "      <th>138</th>\n",
              "      <td>138</td>\n",
              "      <td>Aisopos</td>\n",
              "      <td>Yangsoo Kim / Dogado</td>\n",
              "      <td>Drama</td>\n",
              "      <td>9.7</td>\n",
              "      <td>COMPLETED</td>\n",
              "      <td>55100</td>\n",
              "      <td>260167</td>\n",
              "    </tr>\n",
              "    <tr>\n",
              "      <th>139</th>\n",
              "      <td>139</td>\n",
              "      <td>Subtle Disaster</td>\n",
              "      <td>SUNGHO AN</td>\n",
              "      <td>Drama</td>\n",
              "      <td>9.4</td>\n",
              "      <td>COMPLETED</td>\n",
              "      <td>45200</td>\n",
              "      <td>175363</td>\n",
              "    </tr>\n",
              "    <tr>\n",
              "      <th>144</th>\n",
              "      <td>144</td>\n",
              "      <td>FAMILY MAN</td>\n",
              "      <td>Pillwon Jung</td>\n",
              "      <td>Drama</td>\n",
              "      <td>9.7</td>\n",
              "      <td>COMPLETED</td>\n",
              "      <td>34600</td>\n",
              "      <td>119309</td>\n",
              "    </tr>\n",
              "    <tr>\n",
              "      <th>151</th>\n",
              "      <td>151</td>\n",
              "      <td>New Normal: Class 8</td>\n",
              "      <td>Youngpaka</td>\n",
              "      <td>Drama</td>\n",
              "      <td>9.5</td>\n",
              "      <td>COMPLETED</td>\n",
              "      <td>231900</td>\n",
              "      <td>2700000</td>\n",
              "    </tr>\n",
              "    <tr>\n",
              "      <th>152</th>\n",
              "      <td>152</td>\n",
              "      <td>Westwood Vibrato</td>\n",
              "      <td>Inwan Youn / Sunhee Kim</td>\n",
              "      <td>Drama</td>\n",
              "      <td>9.7</td>\n",
              "      <td>COMPLETED</td>\n",
              "      <td>58100</td>\n",
              "      <td>183174</td>\n",
              "    </tr>\n",
              "    <tr>\n",
              "      <th>153</th>\n",
              "      <td>153</td>\n",
              "      <td>Metaphorical HER</td>\n",
              "      <td>James Maddox / David Stoll</td>\n",
              "      <td>Drama</td>\n",
              "      <td>9.0</td>\n",
              "      <td>COMPLETED</td>\n",
              "      <td>57500</td>\n",
              "      <td>176230</td>\n",
              "    </tr>\n",
              "    <tr>\n",
              "      <th>157</th>\n",
              "      <td>157</td>\n",
              "      <td>All That You Are</td>\n",
              "      <td>Brayden Sato</td>\n",
              "      <td>Drama</td>\n",
              "      <td>9.2</td>\n",
              "      <td>COMPLETED</td>\n",
              "      <td>44800</td>\n",
              "      <td>95069</td>\n",
              "    </tr>\n",
              "    <tr>\n",
              "      <th>159</th>\n",
              "      <td>159</td>\n",
              "      <td>City of Walls</td>\n",
              "      <td>A.K. Lovelace / Shaun Noel</td>\n",
              "      <td>Drama</td>\n",
              "      <td>7.4</td>\n",
              "      <td>COMPLETED</td>\n",
              "      <td>18600</td>\n",
              "      <td>19366</td>\n",
              "    </tr>\n",
              "    <tr>\n",
              "      <th>164</th>\n",
              "      <td>164</td>\n",
              "      <td>The Shadow Prophet</td>\n",
              "      <td>Anne Delseit / Marissa Delbressine</td>\n",
              "      <td>Drama</td>\n",
              "      <td>9.5</td>\n",
              "      <td>SUNDAY</td>\n",
              "      <td>9100</td>\n",
              "      <td>296332</td>\n",
              "    </tr>\n",
              "    <tr>\n",
              "      <th>165</th>\n",
              "      <td>165</td>\n",
              "      <td>The Four of Them</td>\n",
              "      <td>Mai Hirschfeld_</td>\n",
              "      <td>Drama</td>\n",
              "      <td>9.6</td>\n",
              "      <td>MONDAY</td>\n",
              "      <td>994900</td>\n",
              "      <td>5900000</td>\n",
              "    </tr>\n",
              "    <tr>\n",
              "      <th>166</th>\n",
              "      <td>166</td>\n",
              "      <td>Heir's Game</td>\n",
              "      <td>suspu</td>\n",
              "      <td>Drama</td>\n",
              "      <td>9.7</td>\n",
              "      <td>MONDAY</td>\n",
              "      <td>285100</td>\n",
              "      <td>3500000</td>\n",
              "    </tr>\n",
              "    <tr>\n",
              "      <th>174</th>\n",
              "      <td>174</td>\n",
              "      <td>Version Day and Night</td>\n",
              "      <td>dewkneelight</td>\n",
              "      <td>Drama</td>\n",
              "      <td>9.5</td>\n",
              "      <td>FRIDAY</td>\n",
              "      <td>477400</td>\n",
              "      <td>1100000</td>\n",
              "    </tr>\n",
              "    <tr>\n",
              "      <th>175</th>\n",
              "      <td>175</td>\n",
              "      <td>#Blessed</td>\n",
              "      <td>M. Victoria Robado</td>\n",
              "      <td>Drama</td>\n",
              "      <td>9.2</td>\n",
              "      <td>FRIDAY</td>\n",
              "      <td>424800</td>\n",
              "      <td>1700000</td>\n",
              "    </tr>\n",
              "    <tr>\n",
              "      <th>176</th>\n",
              "      <td>176</td>\n",
              "      <td>The Devil is a Handsome Man</td>\n",
              "      <td>Hellothisisangle</td>\n",
              "      <td>Drama</td>\n",
              "      <td>9.6</td>\n",
              "      <td>WEDNESDAY</td>\n",
              "      <td>755600</td>\n",
              "      <td>2300000</td>\n",
              "    </tr>\n",
              "  </tbody>\n",
              "</table>\n",
              "</div>"
            ],
            "text/plain": [
              "      id                                   Name  \\\n",
              "9      9                             I Love Yoo   \n",
              "11    11                              Acception   \n",
              "12    12                         She's Hopeless   \n",
              "21    21                           Get Schooled   \n",
              "22    22                                Lookism   \n",
              "25    25                           Odd Girl Out   \n",
              "36    36                    Lost in Translation   \n",
              "37    37                         Mom, I'm Sorry   \n",
              "39    39                            Back to You   \n",
              "48    48                          Midnight Rain   \n",
              "50    50                 The Nuna at Our Office   \n",
              "51    51  After School Lessonsfor Unripe Apples   \n",
              "55    55                Moonlight Beauty Parlor   \n",
              "58    58                           Pyramid Game   \n",
              "59    59                                Fluidum   \n",
              "62    62                            Random Chat   \n",
              "65    65                             CODE HELIX   \n",
              "69    69                     Da Yomanville Gang   \n",
              "70    70                     Take Me, I'm Yours   \n",
              "72    72                            A Man's Man   \n",
              "76    76                         Beyond Virtual   \n",
              "77    77                           Maya's World   \n",
              "80    80                            The Horizon   \n",
              "82    82                               Asterion   \n",
              "83    83                     My Life as a Loser   \n",
              "86    86                        To Be Ordinary!   \n",
              "87    87                            Dark Mortal   \n",
              "91    91                                SAVE ME   \n",
              "93    93                            Your Letter   \n",
              "95    95                           Days of Hana   \n",
              "98    98                           Death's Game   \n",
              "99    99                       The Golden Spoon   \n",
              "101  101                          Gourmet Hound   \n",
              "107  107                     Cheese in the Trap   \n",
              "108  108                        Yuna & Kawachan   \n",
              "114  114                       Taste of Illness   \n",
              "117  117                Life Outside the Circle   \n",
              "118  118                           Winter Woods   \n",
              "119  119                            ShootAround   \n",
              "120  120                         Annarasumanara   \n",
              "123  123                          Ghost Theater   \n",
              "125  125                     American Road Trip   \n",
              "128  128                     Kids Are All Right   \n",
              "129  129                    THE GIRL FROM CLASS   \n",
              "130  130                         Spirit Fingers   \n",
              "135  135                            About Death   \n",
              "138  138                                Aisopos   \n",
              "139  139                        Subtle Disaster   \n",
              "144  144                             FAMILY MAN   \n",
              "151  151                    New Normal: Class 8   \n",
              "152  152                       Westwood Vibrato   \n",
              "153  153                       Metaphorical HER   \n",
              "157  157                       All That You Are   \n",
              "159  159                          City of Walls   \n",
              "164  164                     The Shadow Prophet   \n",
              "165  165                       The Four of Them   \n",
              "166  166                            Heir's Game   \n",
              "174  174                  Version Day and Night   \n",
              "175  175                               #Blessed   \n",
              "176  176            The Devil is a Handsome Man   \n",
              "\n",
              "                                    Writer  Genre  Rating      Update  \\\n",
              "9                                 Quimchee  Drama     9.8      FRIDAY   \n",
              "11                               Colourbee  Drama     9.1    TUE, FRI   \n",
              "12                                 Seokwoo  Drama     9.7    SATURDAY   \n",
              "21               Yongtaek Chae / GARAM HAN  Drama     9.8      SUNDAY   \n",
              "22                              Taejun Pak  Drama     9.8      SUNDAY   \n",
              "25                                Morangji  Drama     9.8     TUESDAY   \n",
              "36                                  Jjolee  Drama     9.7      FRIDAY   \n",
              "37                             MiTi / GUGU  Drama     9.7      FRIDAY   \n",
              "39                                 Honey B  Drama     9.7      FRIDAY   \n",
              "48                                    Pani  Drama     9.1      MONDAY   \n",
              "50   Juin Kim / Taejun Pak Webtoon Company  Drama     9.6      FRIDAY   \n",
              "51                       WasakBasak / JANE  Drama     9.8      SUNDAY   \n",
              "55                           Jimena Aranda  Drama     9.7    SATURDAY   \n",
              "58                               Dalgonyak  Drama     9.5    THURSDAY   \n",
              "59                  GirlsOnFilm / ValeriaM  Drama     9.1   WEDNESDAY   \n",
              "62                 Dongwoo Han / Dohee Lee  Drama     9.6    SATURDAY   \n",
              "65                               Na-eum So  Drama     9.4   WEDNESDAY   \n",
              "69                              Jason King  Drama     9.2     TUESDAY   \n",
              "70             RoseBean / One Punch Rabbit  Drama     9.5    THURSDAY   \n",
              "72                          Dogado / Lucas  Drama     9.8    THURSDAY   \n",
              "76                                     EGA  Drama     9.2      FRIDAY   \n",
              "77                              Tupaikidal  Drama     9.2   WEDNESDAY   \n",
              "80                                      JH  Drama     9.8   COMPLETED   \n",
              "82                              NeverDraws  Drama     9.0      SUNDAY   \n",
              "83                                kkanaria  Drama     9.8   COMPLETED   \n",
              "86                     Yellow sheep / So-p  Drama     9.1    SATURDAY   \n",
              "87                            Jeonyeok Lee  Drama     9.8   COMPLETED   \n",
              "91                     Big Hit Ent. / LICO  Drama     9.9   COMPLETED   \n",
              "93                             Hyeon A Cho  Drama     9.9   COMPLETED   \n",
              "95                                 Seokwoo  Drama     9.8   COMPLETED   \n",
              "98                   LEE WONSIK / GGULCHAN  Drama     9.8   COMPLETED   \n",
              "99                                     HD3  Drama     9.1   COMPLETED   \n",
              "101                                Leehama  Drama     9.8   COMPLETED   \n",
              "107                                Soonkki  Drama     9.7   COMPLETED   \n",
              "108                         Lauren Schmidt  Drama     9.7   COMPLETED   \n",
              "114                              Ilkwon Ha  Drama     9.8   COMPLETED   \n",
              "117                           H-P Lehkonen  Drama     9.4   COMPLETED   \n",
              "118                         COSMOS / VAN.J  Drama     9.8   COMPLETED   \n",
              "119                                  suspu  Drama     9.7   COMPLETED   \n",
              "120                              Ilkwon Ha  Drama     9.7   COMPLETED   \n",
              "123                                   LICO  Drama     9.8   COMPLETED   \n",
              "125   Patrick Flores-Scott / Little Corvus  Drama     9.6   COMPLETED   \n",
              "128                                   HP56  Drama     9.7   COMPLETED   \n",
              "129                            Subong Park  Drama     9.5   COMPLETED   \n",
              "130                        han kyoung chal  Drama     9.9   COMPLETED   \n",
              "135                          Sini / Hyeono  Drama     9.8   COMPLETED   \n",
              "138                   Yangsoo Kim / Dogado  Drama     9.7   COMPLETED   \n",
              "139                              SUNGHO AN  Drama     9.4   COMPLETED   \n",
              "144                           Pillwon Jung  Drama     9.7   COMPLETED   \n",
              "151                              Youngpaka  Drama     9.5   COMPLETED   \n",
              "152                Inwan Youn / Sunhee Kim  Drama     9.7   COMPLETED   \n",
              "153             James Maddox / David Stoll  Drama     9.0   COMPLETED   \n",
              "157                           Brayden Sato  Drama     9.2   COMPLETED   \n",
              "159             A.K. Lovelace / Shaun Noel  Drama     7.4   COMPLETED   \n",
              "164     Anne Delseit / Marissa Delbressine  Drama     9.5      SUNDAY   \n",
              "165                        Mai Hirschfeld_  Drama     9.6      MONDAY   \n",
              "166                                  suspu  Drama     9.7      MONDAY   \n",
              "174                           dewkneelight  Drama     9.5      FRIDAY   \n",
              "175                     M. Victoria Robado  Drama     9.2      FRIDAY   \n",
              "176                       Hellothisisangle  Drama     9.6   WEDNESDAY   \n",
              "\n",
              "     Subscribers     Likes  \n",
              "9        4300000   2900000  \n",
              "11        750600  10200000  \n",
              "12        669600   1500000  \n",
              "21        407700    883687  \n",
              "22       2200000  33900000  \n",
              "25        796400  15800000  \n",
              "36        576700   4500000  \n",
              "37        760500   3900000  \n",
              "39        648700   3100000  \n",
              "48        343200   1300000  \n",
              "50        204900    368698  \n",
              "51         11000    194208  \n",
              "55        155300   1500000  \n",
              "58        173800    720233  \n",
              "59        199200   1100000  \n",
              "62        311200    366790  \n",
              "65          3600    496930  \n",
              "69        234700   1700000  \n",
              "70        179800    191969  \n",
              "72         88800    144623  \n",
              "76        154200    294484  \n",
              "77         91800     82708  \n",
              "80        139800    175864  \n",
              "82         87500    240863  \n",
              "83        111100      5347  \n",
              "86         18400    949502  \n",
              "87        209300    100000  \n",
              "91       2100000   3900000  \n",
              "93        502900    100000  \n",
              "95        100000   7100000  \n",
              "98        306800   1300000  \n",
              "99          5200    165712  \n",
              "101       845100  11300000  \n",
              "107       100000   8700000  \n",
              "108       205400   1700000  \n",
              "114       144400    519225  \n",
              "117        19900    939184  \n",
              "118       731300   3600000  \n",
              "119       155100   1500000  \n",
              "120       277300    753985  \n",
              "123       390500    200000  \n",
              "125        10200    326792  \n",
              "128        76100    338708  \n",
              "129       109600    324180  \n",
              "130       286200   4800000  \n",
              "135       127500    358952  \n",
              "138        55100    260167  \n",
              "139        45200    175363  \n",
              "144        34600    119309  \n",
              "151       231900   2700000  \n",
              "152        58100    183174  \n",
              "153        57500    176230  \n",
              "157        44800     95069  \n",
              "159        18600     19366  \n",
              "164         9100    296332  \n",
              "165       994900   5900000  \n",
              "166       285100   3500000  \n",
              "174       477400   1100000  \n",
              "175       424800   1700000  \n",
              "176       755600   2300000  "
            ]
          },
          "metadata": {},
          "execution_count": 44
        }
      ]
    },
    {
      "cell_type": "code",
      "metadata": {
        "colab": {
          "base_uri": "https://localhost:8080/",
          "height": 1000
        },
        "id": "CXwxe_0eGg4k",
        "outputId": "8f95d023-c61f-4dd0-f7cc-c21f7e7b4f31"
      },
      "source": [
        "webtoon_df[webtoon_df['Update'].str.contains('TUESDAY')]  # 화요일 마다 갱신되는 왭툰 보기 위함 "
      ],
      "execution_count": null,
      "outputs": [
        {
          "output_type": "execute_result",
          "data": {
            "text/html": [
              "<div>\n",
              "<style scoped>\n",
              "    .dataframe tbody tr th:only-of-type {\n",
              "        vertical-align: middle;\n",
              "    }\n",
              "\n",
              "    .dataframe tbody tr th {\n",
              "        vertical-align: top;\n",
              "    }\n",
              "\n",
              "    .dataframe thead th {\n",
              "        text-align: right;\n",
              "    }\n",
              "</style>\n",
              "<table border=\"1\" class=\"dataframe\">\n",
              "  <thead>\n",
              "    <tr style=\"text-align: right;\">\n",
              "      <th></th>\n",
              "      <th>id</th>\n",
              "      <th>Name</th>\n",
              "      <th>Writer</th>\n",
              "      <th>Genre</th>\n",
              "      <th>Rating</th>\n",
              "      <th>Update</th>\n",
              "      <th>Subscribers</th>\n",
              "      <th>Likes</th>\n",
              "    </tr>\n",
              "  </thead>\n",
              "  <tbody>\n",
              "    <tr>\n",
              "      <th>0</th>\n",
              "      <td>0</td>\n",
              "      <td>Let's Play</td>\n",
              "      <td>Leeanne M. Krecic (Mongie)</td>\n",
              "      <td>Romance</td>\n",
              "      <td>9.6</td>\n",
              "      <td>TUESDAY</td>\n",
              "      <td>4200000</td>\n",
              "      <td>30600000</td>\n",
              "    </tr>\n",
              "    <tr>\n",
              "      <th>24</th>\n",
              "      <td>24</td>\n",
              "      <td>Purple Hyacinth</td>\n",
              "      <td>Ephemerys / Sophism</td>\n",
              "      <td>Mystery</td>\n",
              "      <td>9.9</td>\n",
              "      <td>TUESDAY</td>\n",
              "      <td>1300000</td>\n",
              "      <td>9500000</td>\n",
              "    </tr>\n",
              "    <tr>\n",
              "      <th>25</th>\n",
              "      <td>25</td>\n",
              "      <td>Odd Girl Out</td>\n",
              "      <td>Morangji</td>\n",
              "      <td>Drama</td>\n",
              "      <td>9.8</td>\n",
              "      <td>TUESDAY</td>\n",
              "      <td>796400</td>\n",
              "      <td>15800000</td>\n",
              "    </tr>\n",
              "    <tr>\n",
              "      <th>26</th>\n",
              "      <td>26</td>\n",
              "      <td>Unwritten Death</td>\n",
              "      <td>MaracuyasArt</td>\n",
              "      <td>Romance</td>\n",
              "      <td>9.7</td>\n",
              "      <td>TUESDAY</td>\n",
              "      <td>181800</td>\n",
              "      <td>158001</td>\n",
              "    </tr>\n",
              "    <tr>\n",
              "      <th>33</th>\n",
              "      <td>33</td>\n",
              "      <td>Viral Hit</td>\n",
              "      <td>the gom (happybooks2u) / jungmi</td>\n",
              "      <td>Action</td>\n",
              "      <td>9.8</td>\n",
              "      <td>TUESDAY</td>\n",
              "      <td>395900</td>\n",
              "      <td>60620</td>\n",
              "    </tr>\n",
              "    <tr>\n",
              "      <th>56</th>\n",
              "      <td>56</td>\n",
              "      <td>Money Game</td>\n",
              "      <td>Bae Jin-Soo</td>\n",
              "      <td>Thriller</td>\n",
              "      <td>8.5</td>\n",
              "      <td>TUESDAY</td>\n",
              "      <td>51800</td>\n",
              "      <td>33873</td>\n",
              "    </tr>\n",
              "    <tr>\n",
              "      <th>60</th>\n",
              "      <td>60</td>\n",
              "      <td>The Sound of Another</td>\n",
              "      <td>Eun Hyuk Park</td>\n",
              "      <td>Sci-fi</td>\n",
              "      <td>8.8</td>\n",
              "      <td>TUESDAY</td>\n",
              "      <td>187600</td>\n",
              "      <td>2100000</td>\n",
              "    </tr>\n",
              "    <tr>\n",
              "      <th>68</th>\n",
              "      <td>68</td>\n",
              "      <td>From Morning to Night</td>\n",
              "      <td>JiEun Son</td>\n",
              "      <td>Fantasy</td>\n",
              "      <td>9.3</td>\n",
              "      <td>TUESDAY</td>\n",
              "      <td>115800</td>\n",
              "      <td>66773</td>\n",
              "    </tr>\n",
              "    <tr>\n",
              "      <th>69</th>\n",
              "      <td>69</td>\n",
              "      <td>Da Yomanville Gang</td>\n",
              "      <td>Jason King</td>\n",
              "      <td>Drama</td>\n",
              "      <td>9.2</td>\n",
              "      <td>TUESDAY</td>\n",
              "      <td>234700</td>\n",
              "      <td>1700000</td>\n",
              "    </tr>\n",
              "    <tr>\n",
              "      <th>81</th>\n",
              "      <td>81</td>\n",
              "      <td>The Savior's Time</td>\n",
              "      <td>Song Geukjang</td>\n",
              "      <td>Thriller</td>\n",
              "      <td>9.6</td>\n",
              "      <td>TUESDAY</td>\n",
              "      <td>123600</td>\n",
              "      <td>237221</td>\n",
              "    </tr>\n",
              "    <tr>\n",
              "      <th>170</th>\n",
              "      <td>170</td>\n",
              "      <td>Watermelon</td>\n",
              "      <td>Rorita</td>\n",
              "      <td>Fantasy</td>\n",
              "      <td>9.8</td>\n",
              "      <td>TUESDAY</td>\n",
              "      <td>719600</td>\n",
              "      <td>5200000</td>\n",
              "    </tr>\n",
              "    <tr>\n",
              "      <th>173</th>\n",
              "      <td>173</td>\n",
              "      <td>Luggage</td>\n",
              "      <td>zealforart</td>\n",
              "      <td>Fantasy</td>\n",
              "      <td>8.4</td>\n",
              "      <td>TUESDAY</td>\n",
              "      <td>76100</td>\n",
              "      <td>235099</td>\n",
              "    </tr>\n",
              "    <tr>\n",
              "      <th>184</th>\n",
              "      <td>184</td>\n",
              "      <td>The Advanced Player ofthe Tutorial Tower</td>\n",
              "      <td>Bangguseok Gimssi / Omagam</td>\n",
              "      <td>Action</td>\n",
              "      <td>9.5</td>\n",
              "      <td>TUESDAY</td>\n",
              "      <td>979700</td>\n",
              "      <td>300000</td>\n",
              "    </tr>\n",
              "    <tr>\n",
              "      <th>189</th>\n",
              "      <td>189</td>\n",
              "      <td>Villain to Kill</td>\n",
              "      <td>Fupin / Eunji</td>\n",
              "      <td>Action</td>\n",
              "      <td>9.8</td>\n",
              "      <td>TUESDAY</td>\n",
              "      <td>672200</td>\n",
              "      <td>988273</td>\n",
              "    </tr>\n",
              "    <tr>\n",
              "      <th>195</th>\n",
              "      <td>195</td>\n",
              "      <td>Eleceed</td>\n",
              "      <td>Jeho Son / ZHENA</td>\n",
              "      <td>Action</td>\n",
              "      <td>9.9</td>\n",
              "      <td>TUESDAY</td>\n",
              "      <td>975800</td>\n",
              "      <td>10300000</td>\n",
              "    </tr>\n",
              "    <tr>\n",
              "      <th>203</th>\n",
              "      <td>203</td>\n",
              "      <td>Hero Killer</td>\n",
              "      <td>Kkulbeol / Beolkkul</td>\n",
              "      <td>Action</td>\n",
              "      <td>9.7</td>\n",
              "      <td>TUESDAY</td>\n",
              "      <td>501500</td>\n",
              "      <td>1100000</td>\n",
              "    </tr>\n",
              "    <tr>\n",
              "      <th>204</th>\n",
              "      <td>204</td>\n",
              "      <td>The Wrath &amp; the Dawn</td>\n",
              "      <td>RenÃ©e Ahdieh / SilvesterVitale</td>\n",
              "      <td>Fantasy</td>\n",
              "      <td>9.5</td>\n",
              "      <td>TUESDAY</td>\n",
              "      <td>989100</td>\n",
              "      <td>4500000</td>\n",
              "    </tr>\n",
              "    <tr>\n",
              "      <th>233</th>\n",
              "      <td>233</td>\n",
              "      <td>The Wolfman of Wulvershire</td>\n",
              "      <td>Hwandaeng</td>\n",
              "      <td>Mystery</td>\n",
              "      <td>9.6</td>\n",
              "      <td>TUESDAY</td>\n",
              "      <td>336800</td>\n",
              "      <td>231355</td>\n",
              "    </tr>\n",
              "    <tr>\n",
              "      <th>236</th>\n",
              "      <td>236</td>\n",
              "      <td>Neolithic Girl</td>\n",
              "      <td>JAEAH / GARAM HAN</td>\n",
              "      <td>Fantasy</td>\n",
              "      <td>9.4</td>\n",
              "      <td>TUESDAY</td>\n",
              "      <td>251900</td>\n",
              "      <td>315157</td>\n",
              "    </tr>\n",
              "    <tr>\n",
              "      <th>252</th>\n",
              "      <td>252</td>\n",
              "      <td>Nothing Special</td>\n",
              "      <td>kiki / E-um</td>\n",
              "      <td>Fantasy</td>\n",
              "      <td>9.6</td>\n",
              "      <td>TUESDAY</td>\n",
              "      <td>403200</td>\n",
              "      <td>189800</td>\n",
              "    </tr>\n",
              "    <tr>\n",
              "      <th>260</th>\n",
              "      <td>260</td>\n",
              "      <td>Zero Game</td>\n",
              "      <td>zelbasen</td>\n",
              "      <td>Fantasy</td>\n",
              "      <td>9.7</td>\n",
              "      <td>TUESDAY</td>\n",
              "      <td>509600</td>\n",
              "      <td>2100000</td>\n",
              "    </tr>\n",
              "    <tr>\n",
              "      <th>319</th>\n",
              "      <td>319</td>\n",
              "      <td>Little Matcha Girl</td>\n",
              "      <td>mame Â´ï½¥Ï‰ï½¥`</td>\n",
              "      <td>Fantasy</td>\n",
              "      <td>9.8</td>\n",
              "      <td>TUESDAY</td>\n",
              "      <td>320600</td>\n",
              "      <td>1200000</td>\n",
              "    </tr>\n",
              "    <tr>\n",
              "      <th>322</th>\n",
              "      <td>322</td>\n",
              "      <td>Skye</td>\n",
              "      <td>Cynthia J.S.</td>\n",
              "      <td>Fantasy</td>\n",
              "      <td>9.6</td>\n",
              "      <td>TUESDAY</td>\n",
              "      <td>17600</td>\n",
              "      <td>375582</td>\n",
              "    </tr>\n",
              "    <tr>\n",
              "      <th>331</th>\n",
              "      <td>331</td>\n",
              "      <td>Not So Shoujo Love Story</td>\n",
              "      <td>Curryuku</td>\n",
              "      <td>Comedy</td>\n",
              "      <td>9.6</td>\n",
              "      <td>TUESDAY</td>\n",
              "      <td>546200</td>\n",
              "      <td>300000</td>\n",
              "    </tr>\n",
              "    <tr>\n",
              "      <th>337</th>\n",
              "      <td>337</td>\n",
              "      <td>My Younger Brother's Friend</td>\n",
              "      <td>Nimni</td>\n",
              "      <td>Romance</td>\n",
              "      <td>9.3</td>\n",
              "      <td>TUESDAY</td>\n",
              "      <td>202500</td>\n",
              "      <td>203729</td>\n",
              "    </tr>\n",
              "    <tr>\n",
              "      <th>340</th>\n",
              "      <td>340</td>\n",
              "      <td>Match Made in Hell</td>\n",
              "      <td>keitalia</td>\n",
              "      <td>Romance</td>\n",
              "      <td>9.4</td>\n",
              "      <td>TUESDAY</td>\n",
              "      <td>102300</td>\n",
              "      <td>52234</td>\n",
              "    </tr>\n",
              "    <tr>\n",
              "      <th>344</th>\n",
              "      <td>344</td>\n",
              "      <td>Her Mannequin</td>\n",
              "      <td>Steak / Sang beom</td>\n",
              "      <td>Romance</td>\n",
              "      <td>9.3</td>\n",
              "      <td>TUESDAY</td>\n",
              "      <td>22900</td>\n",
              "      <td>28458</td>\n",
              "    </tr>\n",
              "    <tr>\n",
              "      <th>345</th>\n",
              "      <td>345</td>\n",
              "      <td>The Hip Guy</td>\n",
              "      <td>ST</td>\n",
              "      <td>Comedy</td>\n",
              "      <td>9.2</td>\n",
              "      <td>TUESDAY</td>\n",
              "      <td>208300</td>\n",
              "      <td>377178</td>\n",
              "    </tr>\n",
              "    <tr>\n",
              "      <th>420</th>\n",
              "      <td>420</td>\n",
              "      <td>REAWAKENED MAN</td>\n",
              "      <td>Yongtaek Chae / Jaehan Kim</td>\n",
              "      <td>Action</td>\n",
              "      <td>9.4</td>\n",
              "      <td>TUESDAY</td>\n",
              "      <td>145800</td>\n",
              "      <td>103691</td>\n",
              "    </tr>\n",
              "    <tr>\n",
              "      <th>422</th>\n",
              "      <td>422</td>\n",
              "      <td>Taekwondo Kid</td>\n",
              "      <td>Justin Jordan / John Amor</td>\n",
              "      <td>Sports</td>\n",
              "      <td>9.5</td>\n",
              "      <td>TUESDAY</td>\n",
              "      <td>4500</td>\n",
              "      <td>2400000</td>\n",
              "    </tr>\n",
              "    <tr>\n",
              "      <th>439</th>\n",
              "      <td>439</td>\n",
              "      <td>Pound</td>\n",
              "      <td>Tony Karnowski / Orlando Caicedo</td>\n",
              "      <td>Action</td>\n",
              "      <td>9.2</td>\n",
              "      <td>TUESDAY</td>\n",
              "      <td>91800</td>\n",
              "      <td>325758</td>\n",
              "    </tr>\n",
              "    <tr>\n",
              "      <th>440</th>\n",
              "      <td>440</td>\n",
              "      <td>Supersonic Girl</td>\n",
              "      <td>Sandra Diaz</td>\n",
              "      <td>Superhero</td>\n",
              "      <td>9.1</td>\n",
              "      <td>TUESDAY</td>\n",
              "      <td>208100</td>\n",
              "      <td>624588</td>\n",
              "    </tr>\n",
              "    <tr>\n",
              "      <th>450</th>\n",
              "      <td>450</td>\n",
              "      <td>The Dog Diaries</td>\n",
              "      <td>yee seon</td>\n",
              "      <td>Slice of life</td>\n",
              "      <td>9.7</td>\n",
              "      <td>TUESDAY</td>\n",
              "      <td>81300</td>\n",
              "      <td>142360</td>\n",
              "    </tr>\n",
              "    <tr>\n",
              "      <th>469</th>\n",
              "      <td>469</td>\n",
              "      <td>My Deepest Secret</td>\n",
              "      <td>Hanza Art</td>\n",
              "      <td>Thriller</td>\n",
              "      <td>9.7</td>\n",
              "      <td>TUESDAY</td>\n",
              "      <td>2400000</td>\n",
              "      <td>13400000</td>\n",
              "    </tr>\n",
              "    <tr>\n",
              "      <th>476</th>\n",
              "      <td>476</td>\n",
              "      <td>Flawless</td>\n",
              "      <td>Shinshinhye</td>\n",
              "      <td>Romance</td>\n",
              "      <td>9.7</td>\n",
              "      <td>TUESDAY</td>\n",
              "      <td>144100</td>\n",
              "      <td>87165</td>\n",
              "    </tr>\n",
              "    <tr>\n",
              "      <th>490</th>\n",
              "      <td>490</td>\n",
              "      <td>It Was All You</td>\n",
              "      <td>Dalbong</td>\n",
              "      <td>Sci-fi</td>\n",
              "      <td>9.5</td>\n",
              "      <td>TUESDAY</td>\n",
              "      <td>205900</td>\n",
              "      <td>32228</td>\n",
              "    </tr>\n",
              "    <tr>\n",
              "      <th>504</th>\n",
              "      <td>504</td>\n",
              "      <td>Down To Earth</td>\n",
              "      <td>Pookie Senpai</td>\n",
              "      <td>Romance</td>\n",
              "      <td>9.8</td>\n",
              "      <td>TUESDAY</td>\n",
              "      <td>2100000</td>\n",
              "      <td>9800000</td>\n",
              "    </tr>\n",
              "    <tr>\n",
              "      <th>507</th>\n",
              "      <td>507</td>\n",
              "      <td>Lavender Jack</td>\n",
              "      <td>Dan Schkade</td>\n",
              "      <td>Superhero</td>\n",
              "      <td>9.5</td>\n",
              "      <td>TUESDAY</td>\n",
              "      <td>109800</td>\n",
              "      <td>577031</td>\n",
              "    </tr>\n",
              "    <tr>\n",
              "      <th>522</th>\n",
              "      <td>522</td>\n",
              "      <td>Homesick</td>\n",
              "      <td>Ms. Freaky</td>\n",
              "      <td>Thriller</td>\n",
              "      <td>9.8</td>\n",
              "      <td>TUESDAY</td>\n",
              "      <td>321900</td>\n",
              "      <td>642346</td>\n",
              "    </tr>\n",
              "    <tr>\n",
              "      <th>562</th>\n",
              "      <td>562</td>\n",
              "      <td>Stagtown</td>\n",
              "      <td>Punko</td>\n",
              "      <td>Horror</td>\n",
              "      <td>9.8</td>\n",
              "      <td>TUESDAY</td>\n",
              "      <td>164300</td>\n",
              "      <td>876729</td>\n",
              "    </tr>\n",
              "  </tbody>\n",
              "</table>\n",
              "</div>"
            ],
            "text/plain": [
              "      id                                      Name  \\\n",
              "0      0                                Let's Play   \n",
              "24    24                           Purple Hyacinth   \n",
              "25    25                              Odd Girl Out   \n",
              "26    26                           Unwritten Death   \n",
              "33    33                                 Viral Hit   \n",
              "56    56                                Money Game   \n",
              "60    60                      The Sound of Another   \n",
              "68    68                     From Morning to Night   \n",
              "69    69                        Da Yomanville Gang   \n",
              "81    81                         The Savior's Time   \n",
              "170  170                                Watermelon   \n",
              "173  173                                   Luggage   \n",
              "184  184  The Advanced Player ofthe Tutorial Tower   \n",
              "189  189                           Villain to Kill   \n",
              "195  195                                   Eleceed   \n",
              "203  203                               Hero Killer   \n",
              "204  204                      The Wrath & the Dawn   \n",
              "233  233                The Wolfman of Wulvershire   \n",
              "236  236                            Neolithic Girl   \n",
              "252  252                           Nothing Special   \n",
              "260  260                                 Zero Game   \n",
              "319  319                        Little Matcha Girl   \n",
              "322  322                                      Skye   \n",
              "331  331                  Not So Shoujo Love Story   \n",
              "337  337               My Younger Brother's Friend   \n",
              "340  340                        Match Made in Hell   \n",
              "344  344                             Her Mannequin   \n",
              "345  345                               The Hip Guy   \n",
              "420  420                            REAWAKENED MAN   \n",
              "422  422                             Taekwondo Kid   \n",
              "439  439                                     Pound   \n",
              "440  440                           Supersonic Girl   \n",
              "450  450                           The Dog Diaries   \n",
              "469  469                         My Deepest Secret   \n",
              "476  476                                  Flawless   \n",
              "490  490                            It Was All You   \n",
              "504  504                             Down To Earth   \n",
              "507  507                             Lavender Jack   \n",
              "522  522                                  Homesick   \n",
              "562  562                                  Stagtown   \n",
              "\n",
              "                               Writer          Genre  Rating    Update  \\\n",
              "0          Leeanne M. Krecic (Mongie)        Romance     9.6   TUESDAY   \n",
              "24                Ephemerys / Sophism        Mystery     9.9   TUESDAY   \n",
              "25                           Morangji          Drama     9.8   TUESDAY   \n",
              "26                       MaracuyasArt        Romance     9.7   TUESDAY   \n",
              "33    the gom (happybooks2u) / jungmi         Action     9.8   TUESDAY   \n",
              "56                        Bae Jin-Soo       Thriller     8.5   TUESDAY   \n",
              "60                      Eun Hyuk Park         Sci-fi     8.8   TUESDAY   \n",
              "68                          JiEun Son        Fantasy     9.3   TUESDAY   \n",
              "69                         Jason King          Drama     9.2   TUESDAY   \n",
              "81                      Song Geukjang       Thriller     9.6   TUESDAY   \n",
              "170                            Rorita        Fantasy     9.8   TUESDAY   \n",
              "173                        zealforart        Fantasy     8.4   TUESDAY   \n",
              "184        Bangguseok Gimssi / Omagam         Action     9.5   TUESDAY   \n",
              "189                     Fupin / Eunji         Action     9.8   TUESDAY   \n",
              "195                  Jeho Son / ZHENA         Action     9.9   TUESDAY   \n",
              "203               Kkulbeol / Beolkkul         Action     9.7   TUESDAY   \n",
              "204   RenÃ©e Ahdieh / SilvesterVitale        Fantasy     9.5   TUESDAY   \n",
              "233                         Hwandaeng        Mystery     9.6   TUESDAY   \n",
              "236                 JAEAH / GARAM HAN        Fantasy     9.4   TUESDAY   \n",
              "252                       kiki / E-um        Fantasy     9.6   TUESDAY   \n",
              "260                          zelbasen        Fantasy     9.7   TUESDAY   \n",
              "319                  mame Â´ï½¥Ï‰ï½¥`        Fantasy     9.8   TUESDAY   \n",
              "322                      Cynthia J.S.        Fantasy     9.6   TUESDAY   \n",
              "331                          Curryuku         Comedy     9.6   TUESDAY   \n",
              "337                             Nimni        Romance     9.3   TUESDAY   \n",
              "340                          keitalia        Romance     9.4   TUESDAY   \n",
              "344                 Steak / Sang beom        Romance     9.3   TUESDAY   \n",
              "345                                ST         Comedy     9.2   TUESDAY   \n",
              "420        Yongtaek Chae / Jaehan Kim         Action     9.4   TUESDAY   \n",
              "422         Justin Jordan / John Amor         Sports     9.5   TUESDAY   \n",
              "439  Tony Karnowski / Orlando Caicedo         Action     9.2   TUESDAY   \n",
              "440                       Sandra Diaz      Superhero     9.1   TUESDAY   \n",
              "450                          yee seon  Slice of life     9.7   TUESDAY   \n",
              "469                         Hanza Art       Thriller     9.7   TUESDAY   \n",
              "476                       Shinshinhye        Romance     9.7   TUESDAY   \n",
              "490                           Dalbong         Sci-fi     9.5   TUESDAY   \n",
              "504                     Pookie Senpai        Romance     9.8   TUESDAY   \n",
              "507                       Dan Schkade      Superhero     9.5   TUESDAY   \n",
              "522                        Ms. Freaky       Thriller     9.8   TUESDAY   \n",
              "562                             Punko         Horror     9.8   TUESDAY   \n",
              "\n",
              "     Subscribers     Likes  \n",
              "0        4200000  30600000  \n",
              "24       1300000   9500000  \n",
              "25        796400  15800000  \n",
              "26        181800    158001  \n",
              "33        395900     60620  \n",
              "56         51800     33873  \n",
              "60        187600   2100000  \n",
              "68        115800     66773  \n",
              "69        234700   1700000  \n",
              "81        123600    237221  \n",
              "170       719600   5200000  \n",
              "173        76100    235099  \n",
              "184       979700    300000  \n",
              "189       672200    988273  \n",
              "195       975800  10300000  \n",
              "203       501500   1100000  \n",
              "204       989100   4500000  \n",
              "233       336800    231355  \n",
              "236       251900    315157  \n",
              "252       403200    189800  \n",
              "260       509600   2100000  \n",
              "319       320600   1200000  \n",
              "322        17600    375582  \n",
              "331       546200    300000  \n",
              "337       202500    203729  \n",
              "340       102300     52234  \n",
              "344        22900     28458  \n",
              "345       208300    377178  \n",
              "420       145800    103691  \n",
              "422         4500   2400000  \n",
              "439        91800    325758  \n",
              "440       208100    624588  \n",
              "450        81300    142360  \n",
              "469      2400000  13400000  \n",
              "476       144100     87165  \n",
              "490       205900     32228  \n",
              "504      2100000   9800000  \n",
              "507       109800    577031  \n",
              "522       321900    642346  \n",
              "562       164300    876729  "
            ]
          },
          "metadata": {},
          "execution_count": 45
        }
      ]
    },
    {
      "cell_type": "code",
      "metadata": {
        "colab": {
          "base_uri": "https://localhost:8080/",
          "height": 542
        },
        "id": "L3B1zRViApXL",
        "outputId": "c844a605-a635-4737-d434-d83b35912244"
      },
      "source": [
        "df = webtoon_df[webtoon_df['Genre']== 'Romance']  # 로맨스 장르 웹툰   (각 로맨스 웹툰의 갱신 요일 별 구독자수)\n",
        "fig = px.scatter(df,\n",
        "    x='Subscribers',                             # 구독자 수\n",
        "    y='Rating',                                  # 평점\n",
        "    hover_name='Name',                          # 호버 시 이름 뜨드록\n",
        "    color='Update',                             #  update 날짜별로 색 구분\n",
        "    size='Subscribers',                        # 구독자 수가 사이즈\n",
        "    size_max=60,\n",
        "    facet_col='Update')                      # update 날짜별로 구분\n",
        "fig.show()"
      ],
      "execution_count": null,
      "outputs": [
        {
          "output_type": "display_data",
          "data": {
            "text/html": [
              "<html>\n",
              "<head><meta charset=\"utf-8\" /></head>\n",
              "<body>\n",
              "    <div>            <script src=\"https://cdnjs.cloudflare.com/ajax/libs/mathjax/2.7.5/MathJax.js?config=TeX-AMS-MML_SVG\"></script><script type=\"text/javascript\">if (window.MathJax) {MathJax.Hub.Config({SVG: {font: \"STIX-Web\"}});}</script>                <script type=\"text/javascript\">window.PlotlyConfig = {MathJaxConfig: 'local'};</script>\n",
              "        <script src=\"https://cdn.plot.ly/plotly-2.4.2.min.js\"></script>                <div id=\"e9fa64fc-ada7-467f-9043-ac7154ca82bf\" class=\"plotly-graph-div\" style=\"height:525px; width:100%;\"></div>            <script type=\"text/javascript\">                                    window.PLOTLYENV=window.PLOTLYENV || {};                                    if (document.getElementById(\"e9fa64fc-ada7-467f-9043-ac7154ca82bf\")) {                    Plotly.newPlot(                        \"e9fa64fc-ada7-467f-9043-ac7154ca82bf\",                        [{\"hovertemplate\":\"<b>%{hovertext}</b><br><br>Update= TUESDAY<br>Subscribers=%{marker.size}<br>Rating=%{y}<extra></extra>\",\"hovertext\":[\"Let's Play\",\"Unwritten Death\",\"My Younger Brother's Friend\",\"Match Made in Hell\",\"Her Mannequin\",\"Flawless\",\"Down To Earth\"],\"legendgroup\":\" TUESDAY\",\"marker\":{\"color\":\"#636efa\",\"size\":[4200000,181800,202500,102300,22900,144100,2100000],\"sizemode\":\"area\",\"sizeref\":1777.7777777777778,\"symbol\":\"circle\"},\"mode\":\"markers\",\"name\":\" TUESDAY\",\"orientation\":\"v\",\"showlegend\":true,\"type\":\"scatter\",\"x\":[4200000,181800,202500,102300,22900,144100,2100000],\"xaxis\":\"x\",\"y\":[9.6,9.7,9.3,9.4,9.3,9.7,9.8],\"yaxis\":\"y\"},{\"hovertemplate\":\"<b>%{hovertext}</b><br><br>Update= WEDNESDAY<br>Subscribers=%{marker.size}<br>Rating=%{y}<extra></extra>\",\"hovertext\":[\"True Beauty\",\"Age Matters\",\"Love Me Knot\",\"Date First, Love Later\",\"The Girl Downstairs\",\"A Summer Night's Dream\",\"Love Falls Like Rain\",\"Phase\",\"Swimming Lessons for a Mermaid\",\"The Prince of Southland\"],\"legendgroup\":\" WEDNESDAY\",\"marker\":{\"color\":\"#EF553B\",\"size\":[6400000,3500000,838800,141500,528700,252400,145300,901900,711700,233300],\"sizemode\":\"area\",\"sizeref\":1777.7777777777778,\"symbol\":\"circle\"},\"mode\":\"markers\",\"name\":\" WEDNESDAY\",\"orientation\":\"v\",\"showlegend\":true,\"type\":\"scatter\",\"x\":[6400000,3500000,838800,141500,528700,252400,145300,901900,711700,233300],\"xaxis\":\"x2\",\"y\":[9.6,9.8,9.4,9.5,9.6,7.6,9.6,9.6,9.7,9.6],\"yaxis\":\"y2\"},{\"hovertemplate\":\"<b>%{hovertext}</b><br><br>Update= SATURDAY<br>Subscribers=%{marker.size}<br>Rating=%{y}<extra></extra>\",\"hovertext\":[\"Midnight Poppy Land\",\"Sixth Sense Kiss\",\"Death of a Pop Star\",\"CinnamonRoll\",\"The Kiss Bet\"],\"legendgroup\":\" SATURDAY\",\"marker\":{\"color\":\"#00cc96\",\"size\":[2100000,485100,542400,291200,1100000],\"sizemode\":\"area\",\"sizeref\":1777.7777777777778,\"symbol\":\"circle\"},\"mode\":\"markers\",\"name\":\" SATURDAY\",\"orientation\":\"v\",\"showlegend\":true,\"type\":\"scatter\",\"x\":[2100000,485100,542400,291200,1100000],\"xaxis\":\"x3\",\"y\":[9.8,9.7,9.3,8.8,9.7],\"yaxis\":\"y3\"},{\"hovertemplate\":\"<b>%{hovertext}</b><br><br>Update= MONDAY<br>Subscribers=%{marker.size}<br>Rating=%{y}<extra></extra>\",\"hovertext\":[\"Nice To Meet You\",\"To Love Your Enemy\",\"No Longer A Heroine!\",\"Let Me Stay Over Tonight!\",\"To You Who Swallowed a Star\",\"Edith\",\"SubZero\",\"The Male Lead's Girl Friend\",\"Your Smile is a Trap\",\"Daily JoJo\",\"Marry Me!\",\"The Doctors are Out\"],\"legendgroup\":\" MONDAY\",\"marker\":{\"color\":\"#ab63fa\",\"size\":[1100000,1700000,396300,272400,321900,1200000,2600000,128300,788300,89300,261500,453600],\"sizemode\":\"area\",\"sizeref\":1777.7777777777778,\"symbol\":\"circle\"},\"mode\":\"markers\",\"name\":\" MONDAY\",\"orientation\":\"v\",\"showlegend\":true,\"type\":\"scatter\",\"x\":[1100000,1700000,396300,272400,321900,1200000,2600000,128300,788300,89300,261500,453600],\"xaxis\":\"x4\",\"y\":[9.8,9.7,9.4,9.4,9.5,9.7,9.8,9.3,9.8,9.7,9.8,9.6],\"yaxis\":\"y4\"},{\"hovertemplate\":\"<b>%{hovertext}</b><br><br>Update= TUE, FRI<br>Subscribers=%{marker.size}<br>Rating=%{y}<extra></extra>\",\"hovertext\":[\"The Makeup Remover\",\"Romance 101\"],\"legendgroup\":\" TUE, FRI\",\"marker\":{\"color\":\"#FFA15A\",\"size\":[100000,422100],\"sizemode\":\"area\",\"sizeref\":1777.7777777777778,\"symbol\":\"circle\"},\"mode\":\"markers\",\"name\":\" TUE, FRI\",\"orientation\":\"v\",\"showlegend\":true,\"type\":\"scatter\",\"x\":[100000,422100],\"xaxis\":\"x5\",\"y\":[9.7,9.8],\"yaxis\":\"y5\"},{\"hovertemplate\":\"<b>%{hovertext}</b><br><br>Update= FRIDAY<br>Subscribers=%{marker.size}<br>Rating=%{y}<extra></extra>\",\"hovertext\":[\"Secret Playlist\",\"So I Married the Anti-Fan\",\"Dating With a Tail\",\"Brimstone and Roses\",\"Choco Latte\",\"Little Rain\"],\"legendgroup\":\" FRIDAY\",\"marker\":{\"color\":\"#19d3f3\",\"size\":[560600,486300,531200,469200,658600,295200],\"sizemode\":\"area\",\"sizeref\":1777.7777777777778,\"symbol\":\"circle\"},\"mode\":\"markers\",\"name\":\" FRIDAY\",\"orientation\":\"v\",\"showlegend\":true,\"type\":\"scatter\",\"x\":[560600,486300,531200,469200,658600,295200],\"xaxis\":\"x6\",\"y\":[9.7,9.4,9.5,9.4,9.8,9.8],\"yaxis\":\"y6\"},{\"hovertemplate\":\"<b>%{hovertext}</b><br><br>Update= TUE, SAT<br>Subscribers=%{marker.size}<br>Rating=%{y}<extra></extra>\",\"hovertext\":[\"Seasons of Blossom\",\"My Roommate is a Gumiho\"],\"legendgroup\":\" TUE, SAT\",\"marker\":{\"color\":\"#FF6692\",\"size\":[584900,257300],\"sizemode\":\"area\",\"sizeref\":1777.7777777777778,\"symbol\":\"circle\"},\"mode\":\"markers\",\"name\":\" TUE, SAT\",\"orientation\":\"v\",\"showlegend\":true,\"type\":\"scatter\",\"x\":[584900,257300],\"xaxis\":\"x7\",\"y\":[9.9,9.6],\"yaxis\":\"y7\"},{\"hovertemplate\":\"<b>%{hovertext}</b><br><br>Update= SUNDAY<br>Subscribers=%{marker.size}<br>Rating=%{y}<extra></extra>\",\"hovertext\":[\"Before We Knew It\",\"There's Love Hidden in Lies\",\"Lore Olympus\",\"My Gently Raised Beast\",\"The Newlywed Diaryof a Witch and a Dragon\",\"There Must Be Happy Endings\",\"Blades of Furry\",\"Half-Ghost\"],\"legendgroup\":\" SUNDAY\",\"marker\":{\"color\":\"#B6E880\",\"size\":[69900,260500,5200000,804700,672100,326100,386800,257100],\"sizemode\":\"area\",\"sizeref\":1777.7777777777778,\"symbol\":\"circle\"},\"mode\":\"markers\",\"name\":\" SUNDAY\",\"orientation\":\"v\",\"showlegend\":true,\"type\":\"scatter\",\"x\":[69900,260500,5200000,804700,672100,326100,386800,257100],\"xaxis\":\"x8\",\"y\":[8.8,8.8,9.7,9.8,9.3,9.8,9.6,9.7],\"yaxis\":\"y8\"},{\"hovertemplate\":\"<b>%{hovertext}</b><br><br>Update= THURSDAY<br>Subscribers=%{marker.size}<br>Rating=%{y}<extra></extra>\",\"hovertext\":[\"She Would Never Know\",\"Unlovable Replacement\",\"See You in My 19th Life\",\"Act Like You Love Me!\",\"Threads of Love\",\"AntiSTALKER\",\"Shadow Bride\",\"Kind of Confidential\",\"Brass & Sass\"],\"legendgroup\":\" THURSDAY\",\"marker\":{\"color\":\"#FF97FF\",\"size\":[36000,1400000,945200,620700,93300,588900,331200,919500,610300],\"sizemode\":\"area\",\"sizeref\":1777.7777777777778,\"symbol\":\"circle\"},\"mode\":\"markers\",\"name\":\" THURSDAY\",\"orientation\":\"v\",\"showlegend\":true,\"type\":\"scatter\",\"x\":[36000,1400000,945200,620700,93300,588900,331200,919500,610300],\"xaxis\":\"x9\",\"y\":[9.1,9.8,9.9,9.8,9.7,9.7,9.7,9.3,9.7],\"yaxis\":\"y9\"},{\"hovertemplate\":\"<b>%{hovertext}</b><br><br>Update=COMPLETED<br>Subscribers=%{marker.size}<br>Rating=%{y}<extra></extra>\",\"hovertext\":[\"Her Bucket List\",\"Behind the Curtain\",\"A Good Day to be a Dog\",\"LUFF\",\"Where Tangents Meet\",\"My Dear Cold-Blooded King\",\"Oh! Holy\",\"Late Bloomer\",\"Assassin Roommate\",\"Scorching Romance\",\"Cherry Blossoms\",\"Big Jo\",\"Salty Studio\",\"The Stories of Those Around Me\",\"Cupid's Arrows\",\"Super Secret\",\"ORANGE MARMALADE\",\"Siren's Lament\",\"Crumbs\",\"For the Sake of Sita\",\"Warning Label\",\"Nevertheless\",\"Kind of Love\",\"Freaking Romance\",\"Ghost Wife\",\"Always Human\",\"unTouchable\",\"Love Doesn't Talk\",\"Miss Abbott and the Doctor\"],\"legendgroup\":\"COMPLETED\",\"marker\":{\"color\":\"#FECB52\",\"size\":[308600,99400,1200000,1200000,1100000,1900000,1500000,31900,869300,589700,149400,553300,316100,239100,93300,1700000,987300,300000,290200,247600,130700,464400,653300,3100000,1300000,613500,1200000,400400,717500],\"sizemode\":\"area\",\"sizeref\":1777.7777777777778,\"symbol\":\"circle\"},\"mode\":\"markers\",\"name\":\"COMPLETED\",\"orientation\":\"v\",\"showlegend\":true,\"type\":\"scatter\",\"x\":[308600,99400,1200000,1200000,1100000,1900000,1500000,31900,869300,589700,149400,553300,316100,239100,93300,1700000,987300,300000,290200,247600,130700,464400,653300,3100000,1300000,613500,1200000,400400,717500],\"xaxis\":\"x10\",\"y\":[9.7,8.4,9.8,9.3,9.7,9.7,9.7,9.3,9.3,9.7,9.2,9.2,9.7,9.7,9.3,9.8,9.7,9.8,9.7,9.5,9.0,9.4,9.6,9.8,9.7,9.5,9.7,9.6,9.8],\"yaxis\":\"y10\"}],                        {\"annotations\":[{\"font\":{},\"showarrow\":false,\"text\":\"Update= TUESDAY\",\"x\":0.04100000000000001,\"xanchor\":\"center\",\"xref\":\"paper\",\"y\":1.0,\"yanchor\":\"bottom\",\"yref\":\"paper\"},{\"font\":{},\"showarrow\":false,\"text\":\"Update= WEDNESDAY\",\"x\":0.14300000000000004,\"xanchor\":\"center\",\"xref\":\"paper\",\"y\":1.0,\"yanchor\":\"bottom\",\"yref\":\"paper\"},{\"font\":{},\"showarrow\":false,\"text\":\"Update= SATURDAY\",\"x\":0.24500000000000005,\"xanchor\":\"center\",\"xref\":\"paper\",\"y\":1.0,\"yanchor\":\"bottom\",\"yref\":\"paper\"},{\"font\":{},\"showarrow\":false,\"text\":\"Update= MONDAY\",\"x\":0.3470000000000001,\"xanchor\":\"center\",\"xref\":\"paper\",\"y\":1.0,\"yanchor\":\"bottom\",\"yref\":\"paper\"},{\"font\":{},\"showarrow\":false,\"text\":\"Update= TUE, FRI\",\"x\":0.44900000000000007,\"xanchor\":\"center\",\"xref\":\"paper\",\"y\":1.0,\"yanchor\":\"bottom\",\"yref\":\"paper\"},{\"font\":{},\"showarrow\":false,\"text\":\"Update= FRIDAY\",\"x\":0.5510000000000002,\"xanchor\":\"center\",\"xref\":\"paper\",\"y\":1.0,\"yanchor\":\"bottom\",\"yref\":\"paper\"},{\"font\":{},\"showarrow\":false,\"text\":\"Update= TUE, SAT\",\"x\":0.6530000000000001,\"xanchor\":\"center\",\"xref\":\"paper\",\"y\":1.0,\"yanchor\":\"bottom\",\"yref\":\"paper\"},{\"font\":{},\"showarrow\":false,\"text\":\"Update= SUNDAY\",\"x\":0.7550000000000001,\"xanchor\":\"center\",\"xref\":\"paper\",\"y\":1.0,\"yanchor\":\"bottom\",\"yref\":\"paper\"},{\"font\":{},\"showarrow\":false,\"text\":\"Update= THURSDAY\",\"x\":0.8570000000000002,\"xanchor\":\"center\",\"xref\":\"paper\",\"y\":1.0,\"yanchor\":\"bottom\",\"yref\":\"paper\"},{\"font\":{},\"showarrow\":false,\"text\":\"Update=COMPLETED\",\"x\":0.9590000000000002,\"xanchor\":\"center\",\"xref\":\"paper\",\"y\":1.0,\"yanchor\":\"bottom\",\"yref\":\"paper\"}],\"legend\":{\"itemsizing\":\"constant\",\"title\":{\"text\":\"Update\"},\"tracegroupgap\":0},\"margin\":{\"t\":60},\"template\":{\"data\":{\"bar\":[{\"error_x\":{\"color\":\"#2a3f5f\"},\"error_y\":{\"color\":\"#2a3f5f\"},\"marker\":{\"line\":{\"color\":\"#E5ECF6\",\"width\":0.5},\"pattern\":{\"fillmode\":\"overlay\",\"size\":10,\"solidity\":0.2}},\"type\":\"bar\"}],\"barpolar\":[{\"marker\":{\"line\":{\"color\":\"#E5ECF6\",\"width\":0.5},\"pattern\":{\"fillmode\":\"overlay\",\"size\":10,\"solidity\":0.2}},\"type\":\"barpolar\"}],\"carpet\":[{\"aaxis\":{\"endlinecolor\":\"#2a3f5f\",\"gridcolor\":\"white\",\"linecolor\":\"white\",\"minorgridcolor\":\"white\",\"startlinecolor\":\"#2a3f5f\"},\"baxis\":{\"endlinecolor\":\"#2a3f5f\",\"gridcolor\":\"white\",\"linecolor\":\"white\",\"minorgridcolor\":\"white\",\"startlinecolor\":\"#2a3f5f\"},\"type\":\"carpet\"}],\"choropleth\":[{\"colorbar\":{\"outlinewidth\":0,\"ticks\":\"\"},\"type\":\"choropleth\"}],\"contour\":[{\"colorbar\":{\"outlinewidth\":0,\"ticks\":\"\"},\"colorscale\":[[0.0,\"#0d0887\"],[0.1111111111111111,\"#46039f\"],[0.2222222222222222,\"#7201a8\"],[0.3333333333333333,\"#9c179e\"],[0.4444444444444444,\"#bd3786\"],[0.5555555555555556,\"#d8576b\"],[0.6666666666666666,\"#ed7953\"],[0.7777777777777778,\"#fb9f3a\"],[0.8888888888888888,\"#fdca26\"],[1.0,\"#f0f921\"]],\"type\":\"contour\"}],\"contourcarpet\":[{\"colorbar\":{\"outlinewidth\":0,\"ticks\":\"\"},\"type\":\"contourcarpet\"}],\"heatmap\":[{\"colorbar\":{\"outlinewidth\":0,\"ticks\":\"\"},\"colorscale\":[[0.0,\"#0d0887\"],[0.1111111111111111,\"#46039f\"],[0.2222222222222222,\"#7201a8\"],[0.3333333333333333,\"#9c179e\"],[0.4444444444444444,\"#bd3786\"],[0.5555555555555556,\"#d8576b\"],[0.6666666666666666,\"#ed7953\"],[0.7777777777777778,\"#fb9f3a\"],[0.8888888888888888,\"#fdca26\"],[1.0,\"#f0f921\"]],\"type\":\"heatmap\"}],\"heatmapgl\":[{\"colorbar\":{\"outlinewidth\":0,\"ticks\":\"\"},\"colorscale\":[[0.0,\"#0d0887\"],[0.1111111111111111,\"#46039f\"],[0.2222222222222222,\"#7201a8\"],[0.3333333333333333,\"#9c179e\"],[0.4444444444444444,\"#bd3786\"],[0.5555555555555556,\"#d8576b\"],[0.6666666666666666,\"#ed7953\"],[0.7777777777777778,\"#fb9f3a\"],[0.8888888888888888,\"#fdca26\"],[1.0,\"#f0f921\"]],\"type\":\"heatmapgl\"}],\"histogram\":[{\"marker\":{\"pattern\":{\"fillmode\":\"overlay\",\"size\":10,\"solidity\":0.2}},\"type\":\"histogram\"}],\"histogram2d\":[{\"colorbar\":{\"outlinewidth\":0,\"ticks\":\"\"},\"colorscale\":[[0.0,\"#0d0887\"],[0.1111111111111111,\"#46039f\"],[0.2222222222222222,\"#7201a8\"],[0.3333333333333333,\"#9c179e\"],[0.4444444444444444,\"#bd3786\"],[0.5555555555555556,\"#d8576b\"],[0.6666666666666666,\"#ed7953\"],[0.7777777777777778,\"#fb9f3a\"],[0.8888888888888888,\"#fdca26\"],[1.0,\"#f0f921\"]],\"type\":\"histogram2d\"}],\"histogram2dcontour\":[{\"colorbar\":{\"outlinewidth\":0,\"ticks\":\"\"},\"colorscale\":[[0.0,\"#0d0887\"],[0.1111111111111111,\"#46039f\"],[0.2222222222222222,\"#7201a8\"],[0.3333333333333333,\"#9c179e\"],[0.4444444444444444,\"#bd3786\"],[0.5555555555555556,\"#d8576b\"],[0.6666666666666666,\"#ed7953\"],[0.7777777777777778,\"#fb9f3a\"],[0.8888888888888888,\"#fdca26\"],[1.0,\"#f0f921\"]],\"type\":\"histogram2dcontour\"}],\"mesh3d\":[{\"colorbar\":{\"outlinewidth\":0,\"ticks\":\"\"},\"type\":\"mesh3d\"}],\"parcoords\":[{\"line\":{\"colorbar\":{\"outlinewidth\":0,\"ticks\":\"\"}},\"type\":\"parcoords\"}],\"pie\":[{\"automargin\":true,\"type\":\"pie\"}],\"scatter\":[{\"marker\":{\"colorbar\":{\"outlinewidth\":0,\"ticks\":\"\"}},\"type\":\"scatter\"}],\"scatter3d\":[{\"line\":{\"colorbar\":{\"outlinewidth\":0,\"ticks\":\"\"}},\"marker\":{\"colorbar\":{\"outlinewidth\":0,\"ticks\":\"\"}},\"type\":\"scatter3d\"}],\"scattercarpet\":[{\"marker\":{\"colorbar\":{\"outlinewidth\":0,\"ticks\":\"\"}},\"type\":\"scattercarpet\"}],\"scattergeo\":[{\"marker\":{\"colorbar\":{\"outlinewidth\":0,\"ticks\":\"\"}},\"type\":\"scattergeo\"}],\"scattergl\":[{\"marker\":{\"colorbar\":{\"outlinewidth\":0,\"ticks\":\"\"}},\"type\":\"scattergl\"}],\"scattermapbox\":[{\"marker\":{\"colorbar\":{\"outlinewidth\":0,\"ticks\":\"\"}},\"type\":\"scattermapbox\"}],\"scatterpolar\":[{\"marker\":{\"colorbar\":{\"outlinewidth\":0,\"ticks\":\"\"}},\"type\":\"scatterpolar\"}],\"scatterpolargl\":[{\"marker\":{\"colorbar\":{\"outlinewidth\":0,\"ticks\":\"\"}},\"type\":\"scatterpolargl\"}],\"scatterternary\":[{\"marker\":{\"colorbar\":{\"outlinewidth\":0,\"ticks\":\"\"}},\"type\":\"scatterternary\"}],\"surface\":[{\"colorbar\":{\"outlinewidth\":0,\"ticks\":\"\"},\"colorscale\":[[0.0,\"#0d0887\"],[0.1111111111111111,\"#46039f\"],[0.2222222222222222,\"#7201a8\"],[0.3333333333333333,\"#9c179e\"],[0.4444444444444444,\"#bd3786\"],[0.5555555555555556,\"#d8576b\"],[0.6666666666666666,\"#ed7953\"],[0.7777777777777778,\"#fb9f3a\"],[0.8888888888888888,\"#fdca26\"],[1.0,\"#f0f921\"]],\"type\":\"surface\"}],\"table\":[{\"cells\":{\"fill\":{\"color\":\"#EBF0F8\"},\"line\":{\"color\":\"white\"}},\"header\":{\"fill\":{\"color\":\"#C8D4E3\"},\"line\":{\"color\":\"white\"}},\"type\":\"table\"}]},\"layout\":{\"annotationdefaults\":{\"arrowcolor\":\"#2a3f5f\",\"arrowhead\":0,\"arrowwidth\":1},\"autotypenumbers\":\"strict\",\"coloraxis\":{\"colorbar\":{\"outlinewidth\":0,\"ticks\":\"\"}},\"colorscale\":{\"diverging\":[[0,\"#8e0152\"],[0.1,\"#c51b7d\"],[0.2,\"#de77ae\"],[0.3,\"#f1b6da\"],[0.4,\"#fde0ef\"],[0.5,\"#f7f7f7\"],[0.6,\"#e6f5d0\"],[0.7,\"#b8e186\"],[0.8,\"#7fbc41\"],[0.9,\"#4d9221\"],[1,\"#276419\"]],\"sequential\":[[0.0,\"#0d0887\"],[0.1111111111111111,\"#46039f\"],[0.2222222222222222,\"#7201a8\"],[0.3333333333333333,\"#9c179e\"],[0.4444444444444444,\"#bd3786\"],[0.5555555555555556,\"#d8576b\"],[0.6666666666666666,\"#ed7953\"],[0.7777777777777778,\"#fb9f3a\"],[0.8888888888888888,\"#fdca26\"],[1.0,\"#f0f921\"]],\"sequentialminus\":[[0.0,\"#0d0887\"],[0.1111111111111111,\"#46039f\"],[0.2222222222222222,\"#7201a8\"],[0.3333333333333333,\"#9c179e\"],[0.4444444444444444,\"#bd3786\"],[0.5555555555555556,\"#d8576b\"],[0.6666666666666666,\"#ed7953\"],[0.7777777777777778,\"#fb9f3a\"],[0.8888888888888888,\"#fdca26\"],[1.0,\"#f0f921\"]]},\"colorway\":[\"#636efa\",\"#EF553B\",\"#00cc96\",\"#ab63fa\",\"#FFA15A\",\"#19d3f3\",\"#FF6692\",\"#B6E880\",\"#FF97FF\",\"#FECB52\"],\"font\":{\"color\":\"#2a3f5f\"},\"geo\":{\"bgcolor\":\"white\",\"lakecolor\":\"white\",\"landcolor\":\"#E5ECF6\",\"showlakes\":true,\"showland\":true,\"subunitcolor\":\"white\"},\"hoverlabel\":{\"align\":\"left\"},\"hovermode\":\"closest\",\"mapbox\":{\"style\":\"light\"},\"paper_bgcolor\":\"white\",\"plot_bgcolor\":\"#E5ECF6\",\"polar\":{\"angularaxis\":{\"gridcolor\":\"white\",\"linecolor\":\"white\",\"ticks\":\"\"},\"bgcolor\":\"#E5ECF6\",\"radialaxis\":{\"gridcolor\":\"white\",\"linecolor\":\"white\",\"ticks\":\"\"}},\"scene\":{\"xaxis\":{\"backgroundcolor\":\"#E5ECF6\",\"gridcolor\":\"white\",\"gridwidth\":2,\"linecolor\":\"white\",\"showbackground\":true,\"ticks\":\"\",\"zerolinecolor\":\"white\"},\"yaxis\":{\"backgroundcolor\":\"#E5ECF6\",\"gridcolor\":\"white\",\"gridwidth\":2,\"linecolor\":\"white\",\"showbackground\":true,\"ticks\":\"\",\"zerolinecolor\":\"white\"},\"zaxis\":{\"backgroundcolor\":\"#E5ECF6\",\"gridcolor\":\"white\",\"gridwidth\":2,\"linecolor\":\"white\",\"showbackground\":true,\"ticks\":\"\",\"zerolinecolor\":\"white\"}},\"shapedefaults\":{\"line\":{\"color\":\"#2a3f5f\"}},\"ternary\":{\"aaxis\":{\"gridcolor\":\"white\",\"linecolor\":\"white\",\"ticks\":\"\"},\"baxis\":{\"gridcolor\":\"white\",\"linecolor\":\"white\",\"ticks\":\"\"},\"bgcolor\":\"#E5ECF6\",\"caxis\":{\"gridcolor\":\"white\",\"linecolor\":\"white\",\"ticks\":\"\"}},\"title\":{\"x\":0.05},\"xaxis\":{\"automargin\":true,\"gridcolor\":\"white\",\"linecolor\":\"white\",\"ticks\":\"\",\"title\":{\"standoff\":15},\"zerolinecolor\":\"white\",\"zerolinewidth\":2},\"yaxis\":{\"automargin\":true,\"gridcolor\":\"white\",\"linecolor\":\"white\",\"ticks\":\"\",\"title\":{\"standoff\":15},\"zerolinecolor\":\"white\",\"zerolinewidth\":2}}},\"xaxis\":{\"anchor\":\"y\",\"domain\":[0.0,0.08200000000000002],\"title\":{\"text\":\"Subscribers\"}},\"xaxis10\":{\"anchor\":\"y10\",\"domain\":[0.9180000000000001,1.0],\"matches\":\"x\",\"title\":{\"text\":\"Subscribers\"}},\"xaxis2\":{\"anchor\":\"y2\",\"domain\":[0.10200000000000002,0.18400000000000005],\"matches\":\"x\",\"title\":{\"text\":\"Subscribers\"}},\"xaxis3\":{\"anchor\":\"y3\",\"domain\":[0.20400000000000004,0.28600000000000003],\"matches\":\"x\",\"title\":{\"text\":\"Subscribers\"}},\"xaxis4\":{\"anchor\":\"y4\",\"domain\":[0.30600000000000005,0.38800000000000007],\"matches\":\"x\",\"title\":{\"text\":\"Subscribers\"}},\"xaxis5\":{\"anchor\":\"y5\",\"domain\":[0.4080000000000001,0.4900000000000001],\"matches\":\"x\",\"title\":{\"text\":\"Subscribers\"}},\"xaxis6\":{\"anchor\":\"y6\",\"domain\":[0.5100000000000001,0.5920000000000001],\"matches\":\"x\",\"title\":{\"text\":\"Subscribers\"}},\"xaxis7\":{\"anchor\":\"y7\",\"domain\":[0.6120000000000001,0.6940000000000002],\"matches\":\"x\",\"title\":{\"text\":\"Subscribers\"}},\"xaxis8\":{\"anchor\":\"y8\",\"domain\":[0.7140000000000001,0.796],\"matches\":\"x\",\"title\":{\"text\":\"Subscribers\"}},\"xaxis9\":{\"anchor\":\"y9\",\"domain\":[0.8160000000000002,0.8980000000000001],\"matches\":\"x\",\"title\":{\"text\":\"Subscribers\"}},\"yaxis\":{\"anchor\":\"x\",\"domain\":[0.0,1.0],\"title\":{\"text\":\"Rating\"}},\"yaxis10\":{\"anchor\":\"x10\",\"domain\":[0.0,1.0],\"matches\":\"y\",\"showticklabels\":false},\"yaxis2\":{\"anchor\":\"x2\",\"domain\":[0.0,1.0],\"matches\":\"y\",\"showticklabels\":false},\"yaxis3\":{\"anchor\":\"x3\",\"domain\":[0.0,1.0],\"matches\":\"y\",\"showticklabels\":false},\"yaxis4\":{\"anchor\":\"x4\",\"domain\":[0.0,1.0],\"matches\":\"y\",\"showticklabels\":false},\"yaxis5\":{\"anchor\":\"x5\",\"domain\":[0.0,1.0],\"matches\":\"y\",\"showticklabels\":false},\"yaxis6\":{\"anchor\":\"x6\",\"domain\":[0.0,1.0],\"matches\":\"y\",\"showticklabels\":false},\"yaxis7\":{\"anchor\":\"x7\",\"domain\":[0.0,1.0],\"matches\":\"y\",\"showticklabels\":false},\"yaxis8\":{\"anchor\":\"x8\",\"domain\":[0.0,1.0],\"matches\":\"y\",\"showticklabels\":false},\"yaxis9\":{\"anchor\":\"x9\",\"domain\":[0.0,1.0],\"matches\":\"y\",\"showticklabels\":false}},                        {\"responsive\": true}                    ).then(function(){\n",
              "                            \n",
              "var gd = document.getElementById('e9fa64fc-ada7-467f-9043-ac7154ca82bf');\n",
              "var x = new MutationObserver(function (mutations, observer) {{\n",
              "        var display = window.getComputedStyle(gd).display;\n",
              "        if (!display || display === 'none') {{\n",
              "            console.log([gd, 'removed!']);\n",
              "            Plotly.purge(gd);\n",
              "            observer.disconnect();\n",
              "        }}\n",
              "}});\n",
              "\n",
              "// Listen for the removal of the full notebook cells\n",
              "var notebookContainer = gd.closest('#notebook-container');\n",
              "if (notebookContainer) {{\n",
              "    x.observe(notebookContainer, {childList: true});\n",
              "}}\n",
              "\n",
              "// Listen for the clearing of the current output cell\n",
              "var outputEl = gd.closest('.output');\n",
              "if (outputEl) {{\n",
              "    x.observe(outputEl, {childList: true});\n",
              "}}\n",
              "\n",
              "                        })                };                            </script>        </div>\n",
              "</body>\n",
              "</html>"
            ]
          },
          "metadata": {}
        }
      ]
    },
    {
      "cell_type": "code",
      "metadata": {
        "colab": {
          "base_uri": "https://localhost:8080/"
        },
        "id": "-0HqaUeAH-JK",
        "outputId": "1213d9fd-29a4-4eb7-ba05-b5e723b0503a"
      },
      "source": [
        "#!pip install --upgrade plotly"
      ],
      "execution_count": null,
      "outputs": [
        {
          "output_type": "stream",
          "name": "stdout",
          "text": [
            "Requirement already satisfied: plotly in /usr/local/lib/python3.7/dist-packages (5.4.0)\n",
            "Requirement already satisfied: tenacity>=6.2.0 in /usr/local/lib/python3.7/dist-packages (from plotly) (8.0.1)\n",
            "Requirement already satisfied: six in /usr/local/lib/python3.7/dist-packages (from plotly) (1.15.0)\n"
          ]
        }
      ]
    },
    {
      "cell_type": "code",
      "source": [
        "!pip install plotly==5.3.1"
      ],
      "metadata": {
        "colab": {
          "base_uri": "https://localhost:8080/",
          "height": 330
        },
        "id": "P9xCUAffHg5F",
        "outputId": "3453096c-32f6-453e-f048-154deeac205f"
      },
      "execution_count": null,
      "outputs": [
        {
          "output_type": "stream",
          "name": "stdout",
          "text": [
            "Collecting plotly==5.3.1\n",
            "  Downloading plotly-5.3.1-py2.py3-none-any.whl (23.9 MB)\n",
            "\u001b[K     |████████████████████████████████| 23.9 MB 1.5 MB/s \n",
            "\u001b[?25hCollecting tenacity>=6.2.0\n",
            "  Downloading tenacity-8.0.1-py3-none-any.whl (24 kB)\n",
            "Requirement already satisfied: six in /usr/local/lib/python3.7/dist-packages (from plotly==5.3.1) (1.15.0)\n",
            "Installing collected packages: tenacity, plotly\n",
            "  Attempting uninstall: plotly\n",
            "    Found existing installation: plotly 4.4.1\n",
            "    Uninstalling plotly-4.4.1:\n",
            "      Successfully uninstalled plotly-4.4.1\n",
            "Successfully installed plotly-5.3.1 tenacity-8.0.1\n"
          ]
        },
        {
          "output_type": "display_data",
          "data": {
            "application/vnd.colab-display-data+json": {
              "pip_warning": {
                "packages": [
                  "_plotly_utils",
                  "plotly"
                ]
              }
            }
          },
          "metadata": {}
        }
      ]
    },
    {
      "cell_type": "code",
      "source": [
        "#!pip install plotly==4.14.3"
      ],
      "metadata": {
        "colab": {
          "base_uri": "https://localhost:8080/"
        },
        "id": "m3T_xrp7BwlH",
        "outputId": "2eb637ee-725e-4af3-be1a-5a5481dd3820"
      },
      "execution_count": null,
      "outputs": [
        {
          "output_type": "stream",
          "name": "stdout",
          "text": [
            "Requirement already satisfied: plotly==4.14.3 in /usr/local/lib/python3.7/dist-packages (4.14.3)\n",
            "Requirement already satisfied: six in /usr/local/lib/python3.7/dist-packages (from plotly==4.14.3) (1.15.0)\n",
            "Requirement already satisfied: retrying>=1.3.3 in /usr/local/lib/python3.7/dist-packages (from plotly==4.14.3) (1.3.3)\n"
          ]
        }
      ]
    },
    {
      "cell_type": "code",
      "metadata": {
        "colab": {
          "base_uri": "https://localhost:8080/",
          "height": 542
        },
        "id": "ITw4a29KHYOO",
        "outputId": "0ea61be4-04c5-4842-95da-78d94d8621b6"
      },
      "source": [
        "df = webtoon_df[webtoon_df['Update'].str.contains('TUESDAY')]   # 화요일 웹툰 중 선버스트\n",
        "fig = px.sunburst(df,\n",
        "                path=['Genre', 'Name'],           # 장르, 이름 으로 구분\n",
        "                values='Subscribers',            # 구독자 수\n",
        "                color='Subscribers')             # 구독자 수로 색 구분\n",
        "fig.show()"
      ],
      "execution_count": null,
      "outputs": [
        {
          "output_type": "display_data",
          "data": {
            "text/html": [
              "<html>\n",
              "<head><meta charset=\"utf-8\" /></head>\n",
              "<body>\n",
              "    <div>            <script src=\"https://cdnjs.cloudflare.com/ajax/libs/mathjax/2.7.5/MathJax.js?config=TeX-AMS-MML_SVG\"></script><script type=\"text/javascript\">if (window.MathJax) {MathJax.Hub.Config({SVG: {font: \"STIX-Web\"}});}</script>                <script type=\"text/javascript\">window.PlotlyConfig = {MathJaxConfig: 'local'};</script>\n",
              "        <script src=\"https://cdn.plot.ly/plotly-2.4.2.min.js\"></script>                <div id=\"598427cc-0ec5-40a9-87d0-df38474a7e37\" class=\"plotly-graph-div\" style=\"height:525px; width:100%;\"></div>            <script type=\"text/javascript\">                                    window.PLOTLYENV=window.PLOTLYENV || {};                                    if (document.getElementById(\"598427cc-0ec5-40a9-87d0-df38474a7e37\")) {                    Plotly.newPlot(                        \"598427cc-0ec5-40a9-87d0-df38474a7e37\",                        [{\"branchvalues\":\"total\",\"customdata\":[[234700.0],[2100000.0],[975800.0],[144100.0],[115800.0],[22900.0],[501500.0],[321900.0],[205900.0],[109800.0],[4200000.0],[320600.0],[76100.0],[102300.0],[51800.0],[2400000.0],[202500.0],[251900.0],[546200.0],[403200.0],[796400.0],[91800.0],[1300000.0],[145800.0],[17600.0],[164300.0],[208100.0],[4500.0],[979700.0],[81300.0],[208300.0],[123600.0],[187600.0],[336800.0],[989100.0],[181800.0],[672200.0],[395900.0],[719600.0],[509600.0],[744618.0960480506],[452913.6249171637],[668545.2914363302],[618232.3931247245],[164300.0],[1101804.8875855329],[3186236.194201565],[197175.52731893267],[81300.0],[4500.0],[174148.00251651462],[2030020.9885065407]],\"domain\":{\"x\":[0.0,1.0],\"y\":[0.0,1.0]},\"hovertemplate\":\"labels=%{label}<br>Subscribers_sum=%{value}<br>parent=%{parent}<br>id=%{id}<br>Subscribers=%{color}<extra></extra>\",\"ids\":[\"Drama/Da Yomanville Gang\",\"Romance/Down To Earth\",\"Action/Eleceed\",\"Romance/Flawless\",\"Fantasy/From Morning to Night\",\"Romance/Her Mannequin\",\"Action/Hero Killer\",\"Thriller/Homesick\",\"Sci-fi/It Was All You\",\"Superhero/Lavender Jack\",\"Romance/Let's Play\",\"Fantasy/Little Matcha Girl\",\"Fantasy/Luggage\",\"Romance/Match Made in Hell\",\"Thriller/Money Game\",\"Thriller/My Deepest Secret\",\"Romance/My Younger Brother's Friend\",\"Fantasy/Neolithic Girl\",\"Comedy/Not So Shoujo Love Story\",\"Fantasy/Nothing Special\",\"Drama/Odd Girl Out\",\"Action/Pound\",\"Mystery/Purple Hyacinth\",\"Action/REAWAKENED MAN\",\"Fantasy/Skye\",\"Horror/Stagtown\",\"Superhero/Supersonic Girl\",\"Sports/Taekwondo Kid\",\"Action/The Advanced Player ofthe Tutorial Tower\",\"Slice of life/The Dog Diaries\",\"Comedy/The Hip Guy\",\"Thriller/The Savior's Time\",\"Sci-fi/The Sound of Another\",\"Mystery/The Wolfman of Wulvershire\",\"Fantasy/The Wrath & the Dawn\",\"Romance/Unwritten Death\",\"Action/Villain to Kill\",\"Action/Viral Hit\",\"Fantasy/Watermelon\",\"Fantasy/Zero Game\",\"Action\",\"Comedy\",\"Drama\",\"Fantasy\",\"Horror\",\"Mystery\",\"Romance\",\"Sci-fi\",\"Slice of life\",\"Sports\",\"Superhero\",\"Thriller\"],\"labels\":[\"Da Yomanville Gang\",\"Down To Earth\",\"Eleceed\",\"Flawless\",\"From Morning to Night\",\"Her Mannequin\",\"Hero Killer\",\"Homesick\",\"It Was All You\",\"Lavender Jack\",\"Let's Play\",\"Little Matcha Girl\",\"Luggage\",\"Match Made in Hell\",\"Money Game\",\"My Deepest Secret\",\"My Younger Brother's Friend\",\"Neolithic Girl\",\"Not So Shoujo Love Story\",\"Nothing Special\",\"Odd Girl Out\",\"Pound\",\"Purple Hyacinth\",\"REAWAKENED MAN\",\"Skye\",\"Stagtown\",\"Supersonic Girl\",\"Taekwondo Kid\",\"The Advanced Player ofthe Tutorial Tower\",\"The Dog Diaries\",\"The Hip Guy\",\"The Savior's Time\",\"The Sound of Another\",\"The Wolfman of Wulvershire\",\"The Wrath & the Dawn\",\"Unwritten Death\",\"Villain to Kill\",\"Viral Hit\",\"Watermelon\",\"Zero Game\",\"Action\",\"Comedy\",\"Drama\",\"Fantasy\",\"Horror\",\"Mystery\",\"Romance\",\"Sci-fi\",\"Slice of life\",\"Sports\",\"Superhero\",\"Thriller\"],\"marker\":{\"coloraxis\":\"coloraxis\",\"colors\":[234700.0,2100000.0,975800.0,144100.0,115800.0,22900.0,501500.0,321900.0,205900.0,109800.0,4200000.0,320600.0,76100.0,102300.0,51800.0,2400000.0,202500.0,251900.0,546200.0,403200.0,796400.0,91800.0,1300000.0,145800.0,17600.0,164300.0,208100.0,4500.0,979700.0,81300.0,208300.0,123600.0,187600.0,336800.0,989100.0,181800.0,672200.0,395900.0,719600.0,509600.0,744618.0960480506,452913.6249171637,668545.2914363302,618232.3931247245,164300.0,1101804.8875855329,3186236.194201565,197175.52731893267,81300.0,4500.0,174148.00251651462,2030020.9885065407]},\"name\":\"\",\"parents\":[\"Drama\",\"Romance\",\"Action\",\"Romance\",\"Fantasy\",\"Romance\",\"Action\",\"Thriller\",\"Sci-fi\",\"Superhero\",\"Romance\",\"Fantasy\",\"Fantasy\",\"Romance\",\"Thriller\",\"Thriller\",\"Romance\",\"Fantasy\",\"Comedy\",\"Fantasy\",\"Drama\",\"Action\",\"Mystery\",\"Action\",\"Fantasy\",\"Horror\",\"Superhero\",\"Sports\",\"Action\",\"Slice of life\",\"Comedy\",\"Thriller\",\"Sci-fi\",\"Mystery\",\"Fantasy\",\"Romance\",\"Action\",\"Action\",\"Fantasy\",\"Fantasy\",\"\",\"\",\"\",\"\",\"\",\"\",\"\",\"\",\"\",\"\",\"\",\"\"],\"type\":\"sunburst\",\"values\":[234700,2100000,975800,144100,115800,22900,501500,321900,205900,109800,4200000,320600,76100,102300,51800,2400000,202500,251900,546200,403200,796400,91800,1300000,145800,17600,164300,208100,4500,979700,81300,208300,123600,187600,336800,989100,181800,672200,395900,719600,509600,3762700,754500,1031100,3403500,164300,1636800,6953600,393500,81300,4500,317900,2897300]}],                        {\"coloraxis\":{\"colorbar\":{\"title\":{\"text\":\"Subscribers\"}},\"colorscale\":[[0.0,\"#0d0887\"],[0.1111111111111111,\"#46039f\"],[0.2222222222222222,\"#7201a8\"],[0.3333333333333333,\"#9c179e\"],[0.4444444444444444,\"#bd3786\"],[0.5555555555555556,\"#d8576b\"],[0.6666666666666666,\"#ed7953\"],[0.7777777777777778,\"#fb9f3a\"],[0.8888888888888888,\"#fdca26\"],[1.0,\"#f0f921\"]]},\"legend\":{\"tracegroupgap\":0},\"margin\":{\"t\":60},\"template\":{\"data\":{\"bar\":[{\"error_x\":{\"color\":\"#2a3f5f\"},\"error_y\":{\"color\":\"#2a3f5f\"},\"marker\":{\"line\":{\"color\":\"#E5ECF6\",\"width\":0.5},\"pattern\":{\"fillmode\":\"overlay\",\"size\":10,\"solidity\":0.2}},\"type\":\"bar\"}],\"barpolar\":[{\"marker\":{\"line\":{\"color\":\"#E5ECF6\",\"width\":0.5},\"pattern\":{\"fillmode\":\"overlay\",\"size\":10,\"solidity\":0.2}},\"type\":\"barpolar\"}],\"carpet\":[{\"aaxis\":{\"endlinecolor\":\"#2a3f5f\",\"gridcolor\":\"white\",\"linecolor\":\"white\",\"minorgridcolor\":\"white\",\"startlinecolor\":\"#2a3f5f\"},\"baxis\":{\"endlinecolor\":\"#2a3f5f\",\"gridcolor\":\"white\",\"linecolor\":\"white\",\"minorgridcolor\":\"white\",\"startlinecolor\":\"#2a3f5f\"},\"type\":\"carpet\"}],\"choropleth\":[{\"colorbar\":{\"outlinewidth\":0,\"ticks\":\"\"},\"type\":\"choropleth\"}],\"contour\":[{\"colorbar\":{\"outlinewidth\":0,\"ticks\":\"\"},\"colorscale\":[[0.0,\"#0d0887\"],[0.1111111111111111,\"#46039f\"],[0.2222222222222222,\"#7201a8\"],[0.3333333333333333,\"#9c179e\"],[0.4444444444444444,\"#bd3786\"],[0.5555555555555556,\"#d8576b\"],[0.6666666666666666,\"#ed7953\"],[0.7777777777777778,\"#fb9f3a\"],[0.8888888888888888,\"#fdca26\"],[1.0,\"#f0f921\"]],\"type\":\"contour\"}],\"contourcarpet\":[{\"colorbar\":{\"outlinewidth\":0,\"ticks\":\"\"},\"type\":\"contourcarpet\"}],\"heatmap\":[{\"colorbar\":{\"outlinewidth\":0,\"ticks\":\"\"},\"colorscale\":[[0.0,\"#0d0887\"],[0.1111111111111111,\"#46039f\"],[0.2222222222222222,\"#7201a8\"],[0.3333333333333333,\"#9c179e\"],[0.4444444444444444,\"#bd3786\"],[0.5555555555555556,\"#d8576b\"],[0.6666666666666666,\"#ed7953\"],[0.7777777777777778,\"#fb9f3a\"],[0.8888888888888888,\"#fdca26\"],[1.0,\"#f0f921\"]],\"type\":\"heatmap\"}],\"heatmapgl\":[{\"colorbar\":{\"outlinewidth\":0,\"ticks\":\"\"},\"colorscale\":[[0.0,\"#0d0887\"],[0.1111111111111111,\"#46039f\"],[0.2222222222222222,\"#7201a8\"],[0.3333333333333333,\"#9c179e\"],[0.4444444444444444,\"#bd3786\"],[0.5555555555555556,\"#d8576b\"],[0.6666666666666666,\"#ed7953\"],[0.7777777777777778,\"#fb9f3a\"],[0.8888888888888888,\"#fdca26\"],[1.0,\"#f0f921\"]],\"type\":\"heatmapgl\"}],\"histogram\":[{\"marker\":{\"pattern\":{\"fillmode\":\"overlay\",\"size\":10,\"solidity\":0.2}},\"type\":\"histogram\"}],\"histogram2d\":[{\"colorbar\":{\"outlinewidth\":0,\"ticks\":\"\"},\"colorscale\":[[0.0,\"#0d0887\"],[0.1111111111111111,\"#46039f\"],[0.2222222222222222,\"#7201a8\"],[0.3333333333333333,\"#9c179e\"],[0.4444444444444444,\"#bd3786\"],[0.5555555555555556,\"#d8576b\"],[0.6666666666666666,\"#ed7953\"],[0.7777777777777778,\"#fb9f3a\"],[0.8888888888888888,\"#fdca26\"],[1.0,\"#f0f921\"]],\"type\":\"histogram2d\"}],\"histogram2dcontour\":[{\"colorbar\":{\"outlinewidth\":0,\"ticks\":\"\"},\"colorscale\":[[0.0,\"#0d0887\"],[0.1111111111111111,\"#46039f\"],[0.2222222222222222,\"#7201a8\"],[0.3333333333333333,\"#9c179e\"],[0.4444444444444444,\"#bd3786\"],[0.5555555555555556,\"#d8576b\"],[0.6666666666666666,\"#ed7953\"],[0.7777777777777778,\"#fb9f3a\"],[0.8888888888888888,\"#fdca26\"],[1.0,\"#f0f921\"]],\"type\":\"histogram2dcontour\"}],\"mesh3d\":[{\"colorbar\":{\"outlinewidth\":0,\"ticks\":\"\"},\"type\":\"mesh3d\"}],\"parcoords\":[{\"line\":{\"colorbar\":{\"outlinewidth\":0,\"ticks\":\"\"}},\"type\":\"parcoords\"}],\"pie\":[{\"automargin\":true,\"type\":\"pie\"}],\"scatter\":[{\"marker\":{\"colorbar\":{\"outlinewidth\":0,\"ticks\":\"\"}},\"type\":\"scatter\"}],\"scatter3d\":[{\"line\":{\"colorbar\":{\"outlinewidth\":0,\"ticks\":\"\"}},\"marker\":{\"colorbar\":{\"outlinewidth\":0,\"ticks\":\"\"}},\"type\":\"scatter3d\"}],\"scattercarpet\":[{\"marker\":{\"colorbar\":{\"outlinewidth\":0,\"ticks\":\"\"}},\"type\":\"scattercarpet\"}],\"scattergeo\":[{\"marker\":{\"colorbar\":{\"outlinewidth\":0,\"ticks\":\"\"}},\"type\":\"scattergeo\"}],\"scattergl\":[{\"marker\":{\"colorbar\":{\"outlinewidth\":0,\"ticks\":\"\"}},\"type\":\"scattergl\"}],\"scattermapbox\":[{\"marker\":{\"colorbar\":{\"outlinewidth\":0,\"ticks\":\"\"}},\"type\":\"scattermapbox\"}],\"scatterpolar\":[{\"marker\":{\"colorbar\":{\"outlinewidth\":0,\"ticks\":\"\"}},\"type\":\"scatterpolar\"}],\"scatterpolargl\":[{\"marker\":{\"colorbar\":{\"outlinewidth\":0,\"ticks\":\"\"}},\"type\":\"scatterpolargl\"}],\"scatterternary\":[{\"marker\":{\"colorbar\":{\"outlinewidth\":0,\"ticks\":\"\"}},\"type\":\"scatterternary\"}],\"surface\":[{\"colorbar\":{\"outlinewidth\":0,\"ticks\":\"\"},\"colorscale\":[[0.0,\"#0d0887\"],[0.1111111111111111,\"#46039f\"],[0.2222222222222222,\"#7201a8\"],[0.3333333333333333,\"#9c179e\"],[0.4444444444444444,\"#bd3786\"],[0.5555555555555556,\"#d8576b\"],[0.6666666666666666,\"#ed7953\"],[0.7777777777777778,\"#fb9f3a\"],[0.8888888888888888,\"#fdca26\"],[1.0,\"#f0f921\"]],\"type\":\"surface\"}],\"table\":[{\"cells\":{\"fill\":{\"color\":\"#EBF0F8\"},\"line\":{\"color\":\"white\"}},\"header\":{\"fill\":{\"color\":\"#C8D4E3\"},\"line\":{\"color\":\"white\"}},\"type\":\"table\"}]},\"layout\":{\"annotationdefaults\":{\"arrowcolor\":\"#2a3f5f\",\"arrowhead\":0,\"arrowwidth\":1},\"autotypenumbers\":\"strict\",\"coloraxis\":{\"colorbar\":{\"outlinewidth\":0,\"ticks\":\"\"}},\"colorscale\":{\"diverging\":[[0,\"#8e0152\"],[0.1,\"#c51b7d\"],[0.2,\"#de77ae\"],[0.3,\"#f1b6da\"],[0.4,\"#fde0ef\"],[0.5,\"#f7f7f7\"],[0.6,\"#e6f5d0\"],[0.7,\"#b8e186\"],[0.8,\"#7fbc41\"],[0.9,\"#4d9221\"],[1,\"#276419\"]],\"sequential\":[[0.0,\"#0d0887\"],[0.1111111111111111,\"#46039f\"],[0.2222222222222222,\"#7201a8\"],[0.3333333333333333,\"#9c179e\"],[0.4444444444444444,\"#bd3786\"],[0.5555555555555556,\"#d8576b\"],[0.6666666666666666,\"#ed7953\"],[0.7777777777777778,\"#fb9f3a\"],[0.8888888888888888,\"#fdca26\"],[1.0,\"#f0f921\"]],\"sequentialminus\":[[0.0,\"#0d0887\"],[0.1111111111111111,\"#46039f\"],[0.2222222222222222,\"#7201a8\"],[0.3333333333333333,\"#9c179e\"],[0.4444444444444444,\"#bd3786\"],[0.5555555555555556,\"#d8576b\"],[0.6666666666666666,\"#ed7953\"],[0.7777777777777778,\"#fb9f3a\"],[0.8888888888888888,\"#fdca26\"],[1.0,\"#f0f921\"]]},\"colorway\":[\"#636efa\",\"#EF553B\",\"#00cc96\",\"#ab63fa\",\"#FFA15A\",\"#19d3f3\",\"#FF6692\",\"#B6E880\",\"#FF97FF\",\"#FECB52\"],\"font\":{\"color\":\"#2a3f5f\"},\"geo\":{\"bgcolor\":\"white\",\"lakecolor\":\"white\",\"landcolor\":\"#E5ECF6\",\"showlakes\":true,\"showland\":true,\"subunitcolor\":\"white\"},\"hoverlabel\":{\"align\":\"left\"},\"hovermode\":\"closest\",\"mapbox\":{\"style\":\"light\"},\"paper_bgcolor\":\"white\",\"plot_bgcolor\":\"#E5ECF6\",\"polar\":{\"angularaxis\":{\"gridcolor\":\"white\",\"linecolor\":\"white\",\"ticks\":\"\"},\"bgcolor\":\"#E5ECF6\",\"radialaxis\":{\"gridcolor\":\"white\",\"linecolor\":\"white\",\"ticks\":\"\"}},\"scene\":{\"xaxis\":{\"backgroundcolor\":\"#E5ECF6\",\"gridcolor\":\"white\",\"gridwidth\":2,\"linecolor\":\"white\",\"showbackground\":true,\"ticks\":\"\",\"zerolinecolor\":\"white\"},\"yaxis\":{\"backgroundcolor\":\"#E5ECF6\",\"gridcolor\":\"white\",\"gridwidth\":2,\"linecolor\":\"white\",\"showbackground\":true,\"ticks\":\"\",\"zerolinecolor\":\"white\"},\"zaxis\":{\"backgroundcolor\":\"#E5ECF6\",\"gridcolor\":\"white\",\"gridwidth\":2,\"linecolor\":\"white\",\"showbackground\":true,\"ticks\":\"\",\"zerolinecolor\":\"white\"}},\"shapedefaults\":{\"line\":{\"color\":\"#2a3f5f\"}},\"ternary\":{\"aaxis\":{\"gridcolor\":\"white\",\"linecolor\":\"white\",\"ticks\":\"\"},\"baxis\":{\"gridcolor\":\"white\",\"linecolor\":\"white\",\"ticks\":\"\"},\"bgcolor\":\"#E5ECF6\",\"caxis\":{\"gridcolor\":\"white\",\"linecolor\":\"white\",\"ticks\":\"\"}},\"title\":{\"x\":0.05},\"xaxis\":{\"automargin\":true,\"gridcolor\":\"white\",\"linecolor\":\"white\",\"ticks\":\"\",\"title\":{\"standoff\":15},\"zerolinecolor\":\"white\",\"zerolinewidth\":2},\"yaxis\":{\"automargin\":true,\"gridcolor\":\"white\",\"linecolor\":\"white\",\"ticks\":\"\",\"title\":{\"standoff\":15},\"zerolinecolor\":\"white\",\"zerolinewidth\":2}}}},                        {\"responsive\": true}                    ).then(function(){\n",
              "                            \n",
              "var gd = document.getElementById('598427cc-0ec5-40a9-87d0-df38474a7e37');\n",
              "var x = new MutationObserver(function (mutations, observer) {{\n",
              "        var display = window.getComputedStyle(gd).display;\n",
              "        if (!display || display === 'none') {{\n",
              "            console.log([gd, 'removed!']);\n",
              "            Plotly.purge(gd);\n",
              "            observer.disconnect();\n",
              "        }}\n",
              "}});\n",
              "\n",
              "// Listen for the removal of the full notebook cells\n",
              "var notebookContainer = gd.closest('#notebook-container');\n",
              "if (notebookContainer) {{\n",
              "    x.observe(notebookContainer, {childList: true});\n",
              "}}\n",
              "\n",
              "// Listen for the clearing of the current output cell\n",
              "var outputEl = gd.closest('.output');\n",
              "if (outputEl) {{\n",
              "    x.observe(outputEl, {childList: true});\n",
              "}}\n",
              "\n",
              "                        })                };                            </script>        </div>\n",
              "</body>\n",
              "</html>"
            ]
          },
          "metadata": {}
        }
      ]
    },
    {
      "cell_type": "code",
      "metadata": {
        "colab": {
          "base_uri": "https://localhost:8080/",
          "height": 542
        },
        "id": "66lygI_QIxHi",
        "outputId": "e563bc2d-79a5-4b1a-b490-c95d0dd5a34f"
      },
      "source": [
        "df = webtoon_df[webtoon_df['Update'].str.contains('TUESDAY')]   # 화요일 웹툰의 장르와 이름을 구독자 별로 구분해서 보기 위한 트리맵\n",
        "fig = px.treemap(df,                                     \n",
        "    path=['Genre', 'Name'],                               # 장르, 이름\n",
        "    values='Subscribers',                                  # 구독자 수\n",
        "    color='Subscribers')                                  # 구독자 수 색 구분 으로 이번에는 트리맵\n",
        "fig.show()"
      ],
      "execution_count": null,
      "outputs": [
        {
          "output_type": "display_data",
          "data": {
            "text/html": [
              "<html>\n",
              "<head><meta charset=\"utf-8\" /></head>\n",
              "<body>\n",
              "    <div>            <script src=\"https://cdnjs.cloudflare.com/ajax/libs/mathjax/2.7.5/MathJax.js?config=TeX-AMS-MML_SVG\"></script><script type=\"text/javascript\">if (window.MathJax) {MathJax.Hub.Config({SVG: {font: \"STIX-Web\"}});}</script>                <script type=\"text/javascript\">window.PlotlyConfig = {MathJaxConfig: 'local'};</script>\n",
              "        <script src=\"https://cdn.plot.ly/plotly-2.4.2.min.js\"></script>                <div id=\"40a9c797-bc5b-487f-b130-f34499318dd7\" class=\"plotly-graph-div\" style=\"height:525px; width:100%;\"></div>            <script type=\"text/javascript\">                                    window.PLOTLYENV=window.PLOTLYENV || {};                                    if (document.getElementById(\"40a9c797-bc5b-487f-b130-f34499318dd7\")) {                    Plotly.newPlot(                        \"40a9c797-bc5b-487f-b130-f34499318dd7\",                        [{\"branchvalues\":\"total\",\"customdata\":[[234700.0],[2100000.0],[975800.0],[144100.0],[115800.0],[22900.0],[501500.0],[321900.0],[205900.0],[109800.0],[4200000.0],[320600.0],[76100.0],[102300.0],[51800.0],[2400000.0],[202500.0],[251900.0],[546200.0],[403200.0],[796400.0],[91800.0],[1300000.0],[145800.0],[17600.0],[164300.0],[208100.0],[4500.0],[979700.0],[81300.0],[208300.0],[123600.0],[187600.0],[336800.0],[989100.0],[181800.0],[672200.0],[395900.0],[719600.0],[509600.0],[744618.0960480506],[452913.6249171637],[668545.2914363302],[618232.3931247245],[164300.0],[1101804.8875855329],[3186236.194201565],[197175.52731893267],[81300.0],[4500.0],[174148.00251651462],[2030020.9885065407]],\"domain\":{\"x\":[0.0,1.0],\"y\":[0.0,1.0]},\"hovertemplate\":\"labels=%{label}<br>Subscribers_sum=%{value}<br>parent=%{parent}<br>id=%{id}<br>Subscribers=%{color}<extra></extra>\",\"ids\":[\"Drama/Da Yomanville Gang\",\"Romance/Down To Earth\",\"Action/Eleceed\",\"Romance/Flawless\",\"Fantasy/From Morning to Night\",\"Romance/Her Mannequin\",\"Action/Hero Killer\",\"Thriller/Homesick\",\"Sci-fi/It Was All You\",\"Superhero/Lavender Jack\",\"Romance/Let's Play\",\"Fantasy/Little Matcha Girl\",\"Fantasy/Luggage\",\"Romance/Match Made in Hell\",\"Thriller/Money Game\",\"Thriller/My Deepest Secret\",\"Romance/My Younger Brother's Friend\",\"Fantasy/Neolithic Girl\",\"Comedy/Not So Shoujo Love Story\",\"Fantasy/Nothing Special\",\"Drama/Odd Girl Out\",\"Action/Pound\",\"Mystery/Purple Hyacinth\",\"Action/REAWAKENED MAN\",\"Fantasy/Skye\",\"Horror/Stagtown\",\"Superhero/Supersonic Girl\",\"Sports/Taekwondo Kid\",\"Action/The Advanced Player ofthe Tutorial Tower\",\"Slice of life/The Dog Diaries\",\"Comedy/The Hip Guy\",\"Thriller/The Savior's Time\",\"Sci-fi/The Sound of Another\",\"Mystery/The Wolfman of Wulvershire\",\"Fantasy/The Wrath & the Dawn\",\"Romance/Unwritten Death\",\"Action/Villain to Kill\",\"Action/Viral Hit\",\"Fantasy/Watermelon\",\"Fantasy/Zero Game\",\"Action\",\"Comedy\",\"Drama\",\"Fantasy\",\"Horror\",\"Mystery\",\"Romance\",\"Sci-fi\",\"Slice of life\",\"Sports\",\"Superhero\",\"Thriller\"],\"labels\":[\"Da Yomanville Gang\",\"Down To Earth\",\"Eleceed\",\"Flawless\",\"From Morning to Night\",\"Her Mannequin\",\"Hero Killer\",\"Homesick\",\"It Was All You\",\"Lavender Jack\",\"Let's Play\",\"Little Matcha Girl\",\"Luggage\",\"Match Made in Hell\",\"Money Game\",\"My Deepest Secret\",\"My Younger Brother's Friend\",\"Neolithic Girl\",\"Not So Shoujo Love Story\",\"Nothing Special\",\"Odd Girl Out\",\"Pound\",\"Purple Hyacinth\",\"REAWAKENED MAN\",\"Skye\",\"Stagtown\",\"Supersonic Girl\",\"Taekwondo Kid\",\"The Advanced Player ofthe Tutorial Tower\",\"The Dog Diaries\",\"The Hip Guy\",\"The Savior's Time\",\"The Sound of Another\",\"The Wolfman of Wulvershire\",\"The Wrath & the Dawn\",\"Unwritten Death\",\"Villain to Kill\",\"Viral Hit\",\"Watermelon\",\"Zero Game\",\"Action\",\"Comedy\",\"Drama\",\"Fantasy\",\"Horror\",\"Mystery\",\"Romance\",\"Sci-fi\",\"Slice of life\",\"Sports\",\"Superhero\",\"Thriller\"],\"marker\":{\"coloraxis\":\"coloraxis\",\"colors\":[234700.0,2100000.0,975800.0,144100.0,115800.0,22900.0,501500.0,321900.0,205900.0,109800.0,4200000.0,320600.0,76100.0,102300.0,51800.0,2400000.0,202500.0,251900.0,546200.0,403200.0,796400.0,91800.0,1300000.0,145800.0,17600.0,164300.0,208100.0,4500.0,979700.0,81300.0,208300.0,123600.0,187600.0,336800.0,989100.0,181800.0,672200.0,395900.0,719600.0,509600.0,744618.0960480506,452913.6249171637,668545.2914363302,618232.3931247245,164300.0,1101804.8875855329,3186236.194201565,197175.52731893267,81300.0,4500.0,174148.00251651462,2030020.9885065407]},\"name\":\"\",\"parents\":[\"Drama\",\"Romance\",\"Action\",\"Romance\",\"Fantasy\",\"Romance\",\"Action\",\"Thriller\",\"Sci-fi\",\"Superhero\",\"Romance\",\"Fantasy\",\"Fantasy\",\"Romance\",\"Thriller\",\"Thriller\",\"Romance\",\"Fantasy\",\"Comedy\",\"Fantasy\",\"Drama\",\"Action\",\"Mystery\",\"Action\",\"Fantasy\",\"Horror\",\"Superhero\",\"Sports\",\"Action\",\"Slice of life\",\"Comedy\",\"Thriller\",\"Sci-fi\",\"Mystery\",\"Fantasy\",\"Romance\",\"Action\",\"Action\",\"Fantasy\",\"Fantasy\",\"\",\"\",\"\",\"\",\"\",\"\",\"\",\"\",\"\",\"\",\"\",\"\"],\"type\":\"treemap\",\"values\":[234700,2100000,975800,144100,115800,22900,501500,321900,205900,109800,4200000,320600,76100,102300,51800,2400000,202500,251900,546200,403200,796400,91800,1300000,145800,17600,164300,208100,4500,979700,81300,208300,123600,187600,336800,989100,181800,672200,395900,719600,509600,3762700,754500,1031100,3403500,164300,1636800,6953600,393500,81300,4500,317900,2897300]}],                        {\"coloraxis\":{\"colorbar\":{\"title\":{\"text\":\"Subscribers\"}},\"colorscale\":[[0.0,\"#0d0887\"],[0.1111111111111111,\"#46039f\"],[0.2222222222222222,\"#7201a8\"],[0.3333333333333333,\"#9c179e\"],[0.4444444444444444,\"#bd3786\"],[0.5555555555555556,\"#d8576b\"],[0.6666666666666666,\"#ed7953\"],[0.7777777777777778,\"#fb9f3a\"],[0.8888888888888888,\"#fdca26\"],[1.0,\"#f0f921\"]]},\"legend\":{\"tracegroupgap\":0},\"margin\":{\"t\":60},\"template\":{\"data\":{\"bar\":[{\"error_x\":{\"color\":\"#2a3f5f\"},\"error_y\":{\"color\":\"#2a3f5f\"},\"marker\":{\"line\":{\"color\":\"#E5ECF6\",\"width\":0.5},\"pattern\":{\"fillmode\":\"overlay\",\"size\":10,\"solidity\":0.2}},\"type\":\"bar\"}],\"barpolar\":[{\"marker\":{\"line\":{\"color\":\"#E5ECF6\",\"width\":0.5},\"pattern\":{\"fillmode\":\"overlay\",\"size\":10,\"solidity\":0.2}},\"type\":\"barpolar\"}],\"carpet\":[{\"aaxis\":{\"endlinecolor\":\"#2a3f5f\",\"gridcolor\":\"white\",\"linecolor\":\"white\",\"minorgridcolor\":\"white\",\"startlinecolor\":\"#2a3f5f\"},\"baxis\":{\"endlinecolor\":\"#2a3f5f\",\"gridcolor\":\"white\",\"linecolor\":\"white\",\"minorgridcolor\":\"white\",\"startlinecolor\":\"#2a3f5f\"},\"type\":\"carpet\"}],\"choropleth\":[{\"colorbar\":{\"outlinewidth\":0,\"ticks\":\"\"},\"type\":\"choropleth\"}],\"contour\":[{\"colorbar\":{\"outlinewidth\":0,\"ticks\":\"\"},\"colorscale\":[[0.0,\"#0d0887\"],[0.1111111111111111,\"#46039f\"],[0.2222222222222222,\"#7201a8\"],[0.3333333333333333,\"#9c179e\"],[0.4444444444444444,\"#bd3786\"],[0.5555555555555556,\"#d8576b\"],[0.6666666666666666,\"#ed7953\"],[0.7777777777777778,\"#fb9f3a\"],[0.8888888888888888,\"#fdca26\"],[1.0,\"#f0f921\"]],\"type\":\"contour\"}],\"contourcarpet\":[{\"colorbar\":{\"outlinewidth\":0,\"ticks\":\"\"},\"type\":\"contourcarpet\"}],\"heatmap\":[{\"colorbar\":{\"outlinewidth\":0,\"ticks\":\"\"},\"colorscale\":[[0.0,\"#0d0887\"],[0.1111111111111111,\"#46039f\"],[0.2222222222222222,\"#7201a8\"],[0.3333333333333333,\"#9c179e\"],[0.4444444444444444,\"#bd3786\"],[0.5555555555555556,\"#d8576b\"],[0.6666666666666666,\"#ed7953\"],[0.7777777777777778,\"#fb9f3a\"],[0.8888888888888888,\"#fdca26\"],[1.0,\"#f0f921\"]],\"type\":\"heatmap\"}],\"heatmapgl\":[{\"colorbar\":{\"outlinewidth\":0,\"ticks\":\"\"},\"colorscale\":[[0.0,\"#0d0887\"],[0.1111111111111111,\"#46039f\"],[0.2222222222222222,\"#7201a8\"],[0.3333333333333333,\"#9c179e\"],[0.4444444444444444,\"#bd3786\"],[0.5555555555555556,\"#d8576b\"],[0.6666666666666666,\"#ed7953\"],[0.7777777777777778,\"#fb9f3a\"],[0.8888888888888888,\"#fdca26\"],[1.0,\"#f0f921\"]],\"type\":\"heatmapgl\"}],\"histogram\":[{\"marker\":{\"pattern\":{\"fillmode\":\"overlay\",\"size\":10,\"solidity\":0.2}},\"type\":\"histogram\"}],\"histogram2d\":[{\"colorbar\":{\"outlinewidth\":0,\"ticks\":\"\"},\"colorscale\":[[0.0,\"#0d0887\"],[0.1111111111111111,\"#46039f\"],[0.2222222222222222,\"#7201a8\"],[0.3333333333333333,\"#9c179e\"],[0.4444444444444444,\"#bd3786\"],[0.5555555555555556,\"#d8576b\"],[0.6666666666666666,\"#ed7953\"],[0.7777777777777778,\"#fb9f3a\"],[0.8888888888888888,\"#fdca26\"],[1.0,\"#f0f921\"]],\"type\":\"histogram2d\"}],\"histogram2dcontour\":[{\"colorbar\":{\"outlinewidth\":0,\"ticks\":\"\"},\"colorscale\":[[0.0,\"#0d0887\"],[0.1111111111111111,\"#46039f\"],[0.2222222222222222,\"#7201a8\"],[0.3333333333333333,\"#9c179e\"],[0.4444444444444444,\"#bd3786\"],[0.5555555555555556,\"#d8576b\"],[0.6666666666666666,\"#ed7953\"],[0.7777777777777778,\"#fb9f3a\"],[0.8888888888888888,\"#fdca26\"],[1.0,\"#f0f921\"]],\"type\":\"histogram2dcontour\"}],\"mesh3d\":[{\"colorbar\":{\"outlinewidth\":0,\"ticks\":\"\"},\"type\":\"mesh3d\"}],\"parcoords\":[{\"line\":{\"colorbar\":{\"outlinewidth\":0,\"ticks\":\"\"}},\"type\":\"parcoords\"}],\"pie\":[{\"automargin\":true,\"type\":\"pie\"}],\"scatter\":[{\"marker\":{\"colorbar\":{\"outlinewidth\":0,\"ticks\":\"\"}},\"type\":\"scatter\"}],\"scatter3d\":[{\"line\":{\"colorbar\":{\"outlinewidth\":0,\"ticks\":\"\"}},\"marker\":{\"colorbar\":{\"outlinewidth\":0,\"ticks\":\"\"}},\"type\":\"scatter3d\"}],\"scattercarpet\":[{\"marker\":{\"colorbar\":{\"outlinewidth\":0,\"ticks\":\"\"}},\"type\":\"scattercarpet\"}],\"scattergeo\":[{\"marker\":{\"colorbar\":{\"outlinewidth\":0,\"ticks\":\"\"}},\"type\":\"scattergeo\"}],\"scattergl\":[{\"marker\":{\"colorbar\":{\"outlinewidth\":0,\"ticks\":\"\"}},\"type\":\"scattergl\"}],\"scattermapbox\":[{\"marker\":{\"colorbar\":{\"outlinewidth\":0,\"ticks\":\"\"}},\"type\":\"scattermapbox\"}],\"scatterpolar\":[{\"marker\":{\"colorbar\":{\"outlinewidth\":0,\"ticks\":\"\"}},\"type\":\"scatterpolar\"}],\"scatterpolargl\":[{\"marker\":{\"colorbar\":{\"outlinewidth\":0,\"ticks\":\"\"}},\"type\":\"scatterpolargl\"}],\"scatterternary\":[{\"marker\":{\"colorbar\":{\"outlinewidth\":0,\"ticks\":\"\"}},\"type\":\"scatterternary\"}],\"surface\":[{\"colorbar\":{\"outlinewidth\":0,\"ticks\":\"\"},\"colorscale\":[[0.0,\"#0d0887\"],[0.1111111111111111,\"#46039f\"],[0.2222222222222222,\"#7201a8\"],[0.3333333333333333,\"#9c179e\"],[0.4444444444444444,\"#bd3786\"],[0.5555555555555556,\"#d8576b\"],[0.6666666666666666,\"#ed7953\"],[0.7777777777777778,\"#fb9f3a\"],[0.8888888888888888,\"#fdca26\"],[1.0,\"#f0f921\"]],\"type\":\"surface\"}],\"table\":[{\"cells\":{\"fill\":{\"color\":\"#EBF0F8\"},\"line\":{\"color\":\"white\"}},\"header\":{\"fill\":{\"color\":\"#C8D4E3\"},\"line\":{\"color\":\"white\"}},\"type\":\"table\"}]},\"layout\":{\"annotationdefaults\":{\"arrowcolor\":\"#2a3f5f\",\"arrowhead\":0,\"arrowwidth\":1},\"autotypenumbers\":\"strict\",\"coloraxis\":{\"colorbar\":{\"outlinewidth\":0,\"ticks\":\"\"}},\"colorscale\":{\"diverging\":[[0,\"#8e0152\"],[0.1,\"#c51b7d\"],[0.2,\"#de77ae\"],[0.3,\"#f1b6da\"],[0.4,\"#fde0ef\"],[0.5,\"#f7f7f7\"],[0.6,\"#e6f5d0\"],[0.7,\"#b8e186\"],[0.8,\"#7fbc41\"],[0.9,\"#4d9221\"],[1,\"#276419\"]],\"sequential\":[[0.0,\"#0d0887\"],[0.1111111111111111,\"#46039f\"],[0.2222222222222222,\"#7201a8\"],[0.3333333333333333,\"#9c179e\"],[0.4444444444444444,\"#bd3786\"],[0.5555555555555556,\"#d8576b\"],[0.6666666666666666,\"#ed7953\"],[0.7777777777777778,\"#fb9f3a\"],[0.8888888888888888,\"#fdca26\"],[1.0,\"#f0f921\"]],\"sequentialminus\":[[0.0,\"#0d0887\"],[0.1111111111111111,\"#46039f\"],[0.2222222222222222,\"#7201a8\"],[0.3333333333333333,\"#9c179e\"],[0.4444444444444444,\"#bd3786\"],[0.5555555555555556,\"#d8576b\"],[0.6666666666666666,\"#ed7953\"],[0.7777777777777778,\"#fb9f3a\"],[0.8888888888888888,\"#fdca26\"],[1.0,\"#f0f921\"]]},\"colorway\":[\"#636efa\",\"#EF553B\",\"#00cc96\",\"#ab63fa\",\"#FFA15A\",\"#19d3f3\",\"#FF6692\",\"#B6E880\",\"#FF97FF\",\"#FECB52\"],\"font\":{\"color\":\"#2a3f5f\"},\"geo\":{\"bgcolor\":\"white\",\"lakecolor\":\"white\",\"landcolor\":\"#E5ECF6\",\"showlakes\":true,\"showland\":true,\"subunitcolor\":\"white\"},\"hoverlabel\":{\"align\":\"left\"},\"hovermode\":\"closest\",\"mapbox\":{\"style\":\"light\"},\"paper_bgcolor\":\"white\",\"plot_bgcolor\":\"#E5ECF6\",\"polar\":{\"angularaxis\":{\"gridcolor\":\"white\",\"linecolor\":\"white\",\"ticks\":\"\"},\"bgcolor\":\"#E5ECF6\",\"radialaxis\":{\"gridcolor\":\"white\",\"linecolor\":\"white\",\"ticks\":\"\"}},\"scene\":{\"xaxis\":{\"backgroundcolor\":\"#E5ECF6\",\"gridcolor\":\"white\",\"gridwidth\":2,\"linecolor\":\"white\",\"showbackground\":true,\"ticks\":\"\",\"zerolinecolor\":\"white\"},\"yaxis\":{\"backgroundcolor\":\"#E5ECF6\",\"gridcolor\":\"white\",\"gridwidth\":2,\"linecolor\":\"white\",\"showbackground\":true,\"ticks\":\"\",\"zerolinecolor\":\"white\"},\"zaxis\":{\"backgroundcolor\":\"#E5ECF6\",\"gridcolor\":\"white\",\"gridwidth\":2,\"linecolor\":\"white\",\"showbackground\":true,\"ticks\":\"\",\"zerolinecolor\":\"white\"}},\"shapedefaults\":{\"line\":{\"color\":\"#2a3f5f\"}},\"ternary\":{\"aaxis\":{\"gridcolor\":\"white\",\"linecolor\":\"white\",\"ticks\":\"\"},\"baxis\":{\"gridcolor\":\"white\",\"linecolor\":\"white\",\"ticks\":\"\"},\"bgcolor\":\"#E5ECF6\",\"caxis\":{\"gridcolor\":\"white\",\"linecolor\":\"white\",\"ticks\":\"\"}},\"title\":{\"x\":0.05},\"xaxis\":{\"automargin\":true,\"gridcolor\":\"white\",\"linecolor\":\"white\",\"ticks\":\"\",\"title\":{\"standoff\":15},\"zerolinecolor\":\"white\",\"zerolinewidth\":2},\"yaxis\":{\"automargin\":true,\"gridcolor\":\"white\",\"linecolor\":\"white\",\"ticks\":\"\",\"title\":{\"standoff\":15},\"zerolinecolor\":\"white\",\"zerolinewidth\":2}}}},                        {\"responsive\": true}                    ).then(function(){\n",
              "                            \n",
              "var gd = document.getElementById('40a9c797-bc5b-487f-b130-f34499318dd7');\n",
              "var x = new MutationObserver(function (mutations, observer) {{\n",
              "        var display = window.getComputedStyle(gd).display;\n",
              "        if (!display || display === 'none') {{\n",
              "            console.log([gd, 'removed!']);\n",
              "            Plotly.purge(gd);\n",
              "            observer.disconnect();\n",
              "        }}\n",
              "}});\n",
              "\n",
              "// Listen for the removal of the full notebook cells\n",
              "var notebookContainer = gd.closest('#notebook-container');\n",
              "if (notebookContainer) {{\n",
              "    x.observe(notebookContainer, {childList: true});\n",
              "}}\n",
              "\n",
              "// Listen for the clearing of the current output cell\n",
              "var outputEl = gd.closest('.output');\n",
              "if (outputEl) {{\n",
              "    x.observe(outputEl, {childList: true});\n",
              "}}\n",
              "\n",
              "                        })                };                            </script>        </div>\n",
              "</body>\n",
              "</html>"
            ]
          },
          "metadata": {}
        }
      ]
    },
    {
      "cell_type": "code",
      "metadata": {
        "colab": {
          "base_uri": "https://localhost:8080/",
          "height": 542
        },
        "id": "RBoooT3lJgR6",
        "outputId": "80940632-d501-4e29-a335-223e4ebf1c57"
      },
      "source": [
        "df = webtoon_df[webtoon_df['Genre']=='Horror']  # 공포장르 영화의 이름, 장르, 등급, 갱신일을 구독자 수 별로 구분해서 보기 위한 parallel_cetegories\n",
        "fig = px.parallel_categories(df,\n",
        "    dimensions=['Name', 'Genre', 'Rating','Update'],                         \n",
        "    color=\"Subscribers\",\n",
        "    color_continuous_scale=\n",
        "    px.colors.sequential.Inferno)\n",
        "fig.show()"
      ],
      "execution_count": null,
      "outputs": [
        {
          "output_type": "display_data",
          "data": {
            "text/html": [
              "<html>\n",
              "<head><meta charset=\"utf-8\" /></head>\n",
              "<body>\n",
              "    <div>            <script src=\"https://cdnjs.cloudflare.com/ajax/libs/mathjax/2.7.5/MathJax.js?config=TeX-AMS-MML_SVG\"></script><script type=\"text/javascript\">if (window.MathJax) {MathJax.Hub.Config({SVG: {font: \"STIX-Web\"}});}</script>                <script type=\"text/javascript\">window.PlotlyConfig = {MathJaxConfig: 'local'};</script>\n",
              "        <script src=\"https://cdn.plot.ly/plotly-2.4.2.min.js\"></script>                <div id=\"578e3922-1b4e-4a3b-8d12-a096f7a6e2e8\" class=\"plotly-graph-div\" style=\"height:525px; width:100%;\"></div>            <script type=\"text/javascript\">                                    window.PLOTLYENV=window.PLOTLYENV || {};                                    if (document.getElementById(\"578e3922-1b4e-4a3b-8d12-a096f7a6e2e8\")) {                    Plotly.newPlot(                        \"578e3922-1b4e-4a3b-8d12-a096f7a6e2e8\",                        [{\"dimensions\":[{\"label\":\"Name\",\"values\":[\"Surviving Romance\",\"BRAIN Anthology\",\"Everything is Fine\",\"Uriah\",\"Tales of the Unusual\",\"Witch Creek Road\",\"Distant Sky\",\"Beetle Hands\",\"The Red Book\",\"GremoryLand\",\"Horang's Nightmare\",\"The Vault of Horror: A Collection of Nightmares\",\"Melvina's Therapy\",\"Have You Any Fear?\",\"Rot & Ruin\",\"Elena\",\"Ghost Teller\",\"DEAD DAYS\",\"Stagtown\",\"Wolfsbane\"]},{\"label\":\"Genre\",\"values\":[\"Horror\",\"Horror\",\"Horror\",\"Horror\",\"Horror\",\"Horror\",\"Horror\",\"Horror\",\"Horror\",\"Horror\",\"Horror\",\"Horror\",\"Horror\",\"Horror\",\"Horror\",\"Horror\",\"Horror\",\"Horror\",\"Horror\",\"Horror\"]},{\"label\":\"Rating\",\"values\":[9.8,9.4,9.7,9.8,9.6,9.4,9.6,9.7,8.9,9.5,9.6,8.9,9.7,8.6,9.6,9.5,9.9,9.7,9.8,9.7]},{\"label\":\"Update\",\"values\":[\" THURSDAY\",\" MON, TUE, WED, THU, SUN\",\" MONDAY\",\" SATURDAY\",\" SUNDAY\",\" SATURDAY\",\" FRIDAY\",\" THURSDAY\",\"COMPLETED\",\"COMPLETED\",\"COMPLETED\",\"COMPLETED\",\"COMPLETED\",\"COMPLETED\",\"COMPLETED\",\"COMPLETED\",\"COMPLETED\",\"COMPLETED\",\" TUESDAY\",\"COMPLETED\"]}],\"domain\":{\"x\":[0.0,1.0],\"y\":[0.0,1.0]},\"line\":{\"color\":[484100,139100,527700,39600,710500,445700,321500,108800,190500,379500,223600,187300,396500,20200,361800,97700,96600,200700,164300,66300],\"coloraxis\":\"coloraxis\"},\"name\":\"\",\"type\":\"parcats\"}],                        {\"coloraxis\":{\"colorbar\":{\"title\":{\"text\":\"Subscribers\"}},\"colorscale\":[[0.0,\"#000004\"],[0.1111111111111111,\"#1b0c41\"],[0.2222222222222222,\"#4a0c6b\"],[0.3333333333333333,\"#781c6d\"],[0.4444444444444444,\"#a52c60\"],[0.5555555555555556,\"#cf4446\"],[0.6666666666666666,\"#ed6925\"],[0.7777777777777778,\"#fb9b06\"],[0.8888888888888888,\"#f7d13d\"],[1.0,\"#fcffa4\"]]},\"legend\":{\"tracegroupgap\":0},\"margin\":{\"t\":60},\"template\":{\"data\":{\"bar\":[{\"error_x\":{\"color\":\"#2a3f5f\"},\"error_y\":{\"color\":\"#2a3f5f\"},\"marker\":{\"line\":{\"color\":\"#E5ECF6\",\"width\":0.5},\"pattern\":{\"fillmode\":\"overlay\",\"size\":10,\"solidity\":0.2}},\"type\":\"bar\"}],\"barpolar\":[{\"marker\":{\"line\":{\"color\":\"#E5ECF6\",\"width\":0.5},\"pattern\":{\"fillmode\":\"overlay\",\"size\":10,\"solidity\":0.2}},\"type\":\"barpolar\"}],\"carpet\":[{\"aaxis\":{\"endlinecolor\":\"#2a3f5f\",\"gridcolor\":\"white\",\"linecolor\":\"white\",\"minorgridcolor\":\"white\",\"startlinecolor\":\"#2a3f5f\"},\"baxis\":{\"endlinecolor\":\"#2a3f5f\",\"gridcolor\":\"white\",\"linecolor\":\"white\",\"minorgridcolor\":\"white\",\"startlinecolor\":\"#2a3f5f\"},\"type\":\"carpet\"}],\"choropleth\":[{\"colorbar\":{\"outlinewidth\":0,\"ticks\":\"\"},\"type\":\"choropleth\"}],\"contour\":[{\"colorbar\":{\"outlinewidth\":0,\"ticks\":\"\"},\"colorscale\":[[0.0,\"#0d0887\"],[0.1111111111111111,\"#46039f\"],[0.2222222222222222,\"#7201a8\"],[0.3333333333333333,\"#9c179e\"],[0.4444444444444444,\"#bd3786\"],[0.5555555555555556,\"#d8576b\"],[0.6666666666666666,\"#ed7953\"],[0.7777777777777778,\"#fb9f3a\"],[0.8888888888888888,\"#fdca26\"],[1.0,\"#f0f921\"]],\"type\":\"contour\"}],\"contourcarpet\":[{\"colorbar\":{\"outlinewidth\":0,\"ticks\":\"\"},\"type\":\"contourcarpet\"}],\"heatmap\":[{\"colorbar\":{\"outlinewidth\":0,\"ticks\":\"\"},\"colorscale\":[[0.0,\"#0d0887\"],[0.1111111111111111,\"#46039f\"],[0.2222222222222222,\"#7201a8\"],[0.3333333333333333,\"#9c179e\"],[0.4444444444444444,\"#bd3786\"],[0.5555555555555556,\"#d8576b\"],[0.6666666666666666,\"#ed7953\"],[0.7777777777777778,\"#fb9f3a\"],[0.8888888888888888,\"#fdca26\"],[1.0,\"#f0f921\"]],\"type\":\"heatmap\"}],\"heatmapgl\":[{\"colorbar\":{\"outlinewidth\":0,\"ticks\":\"\"},\"colorscale\":[[0.0,\"#0d0887\"],[0.1111111111111111,\"#46039f\"],[0.2222222222222222,\"#7201a8\"],[0.3333333333333333,\"#9c179e\"],[0.4444444444444444,\"#bd3786\"],[0.5555555555555556,\"#d8576b\"],[0.6666666666666666,\"#ed7953\"],[0.7777777777777778,\"#fb9f3a\"],[0.8888888888888888,\"#fdca26\"],[1.0,\"#f0f921\"]],\"type\":\"heatmapgl\"}],\"histogram\":[{\"marker\":{\"pattern\":{\"fillmode\":\"overlay\",\"size\":10,\"solidity\":0.2}},\"type\":\"histogram\"}],\"histogram2d\":[{\"colorbar\":{\"outlinewidth\":0,\"ticks\":\"\"},\"colorscale\":[[0.0,\"#0d0887\"],[0.1111111111111111,\"#46039f\"],[0.2222222222222222,\"#7201a8\"],[0.3333333333333333,\"#9c179e\"],[0.4444444444444444,\"#bd3786\"],[0.5555555555555556,\"#d8576b\"],[0.6666666666666666,\"#ed7953\"],[0.7777777777777778,\"#fb9f3a\"],[0.8888888888888888,\"#fdca26\"],[1.0,\"#f0f921\"]],\"type\":\"histogram2d\"}],\"histogram2dcontour\":[{\"colorbar\":{\"outlinewidth\":0,\"ticks\":\"\"},\"colorscale\":[[0.0,\"#0d0887\"],[0.1111111111111111,\"#46039f\"],[0.2222222222222222,\"#7201a8\"],[0.3333333333333333,\"#9c179e\"],[0.4444444444444444,\"#bd3786\"],[0.5555555555555556,\"#d8576b\"],[0.6666666666666666,\"#ed7953\"],[0.7777777777777778,\"#fb9f3a\"],[0.8888888888888888,\"#fdca26\"],[1.0,\"#f0f921\"]],\"type\":\"histogram2dcontour\"}],\"mesh3d\":[{\"colorbar\":{\"outlinewidth\":0,\"ticks\":\"\"},\"type\":\"mesh3d\"}],\"parcoords\":[{\"line\":{\"colorbar\":{\"outlinewidth\":0,\"ticks\":\"\"}},\"type\":\"parcoords\"}],\"pie\":[{\"automargin\":true,\"type\":\"pie\"}],\"scatter\":[{\"marker\":{\"colorbar\":{\"outlinewidth\":0,\"ticks\":\"\"}},\"type\":\"scatter\"}],\"scatter3d\":[{\"line\":{\"colorbar\":{\"outlinewidth\":0,\"ticks\":\"\"}},\"marker\":{\"colorbar\":{\"outlinewidth\":0,\"ticks\":\"\"}},\"type\":\"scatter3d\"}],\"scattercarpet\":[{\"marker\":{\"colorbar\":{\"outlinewidth\":0,\"ticks\":\"\"}},\"type\":\"scattercarpet\"}],\"scattergeo\":[{\"marker\":{\"colorbar\":{\"outlinewidth\":0,\"ticks\":\"\"}},\"type\":\"scattergeo\"}],\"scattergl\":[{\"marker\":{\"colorbar\":{\"outlinewidth\":0,\"ticks\":\"\"}},\"type\":\"scattergl\"}],\"scattermapbox\":[{\"marker\":{\"colorbar\":{\"outlinewidth\":0,\"ticks\":\"\"}},\"type\":\"scattermapbox\"}],\"scatterpolar\":[{\"marker\":{\"colorbar\":{\"outlinewidth\":0,\"ticks\":\"\"}},\"type\":\"scatterpolar\"}],\"scatterpolargl\":[{\"marker\":{\"colorbar\":{\"outlinewidth\":0,\"ticks\":\"\"}},\"type\":\"scatterpolargl\"}],\"scatterternary\":[{\"marker\":{\"colorbar\":{\"outlinewidth\":0,\"ticks\":\"\"}},\"type\":\"scatterternary\"}],\"surface\":[{\"colorbar\":{\"outlinewidth\":0,\"ticks\":\"\"},\"colorscale\":[[0.0,\"#0d0887\"],[0.1111111111111111,\"#46039f\"],[0.2222222222222222,\"#7201a8\"],[0.3333333333333333,\"#9c179e\"],[0.4444444444444444,\"#bd3786\"],[0.5555555555555556,\"#d8576b\"],[0.6666666666666666,\"#ed7953\"],[0.7777777777777778,\"#fb9f3a\"],[0.8888888888888888,\"#fdca26\"],[1.0,\"#f0f921\"]],\"type\":\"surface\"}],\"table\":[{\"cells\":{\"fill\":{\"color\":\"#EBF0F8\"},\"line\":{\"color\":\"white\"}},\"header\":{\"fill\":{\"color\":\"#C8D4E3\"},\"line\":{\"color\":\"white\"}},\"type\":\"table\"}]},\"layout\":{\"annotationdefaults\":{\"arrowcolor\":\"#2a3f5f\",\"arrowhead\":0,\"arrowwidth\":1},\"autotypenumbers\":\"strict\",\"coloraxis\":{\"colorbar\":{\"outlinewidth\":0,\"ticks\":\"\"}},\"colorscale\":{\"diverging\":[[0,\"#8e0152\"],[0.1,\"#c51b7d\"],[0.2,\"#de77ae\"],[0.3,\"#f1b6da\"],[0.4,\"#fde0ef\"],[0.5,\"#f7f7f7\"],[0.6,\"#e6f5d0\"],[0.7,\"#b8e186\"],[0.8,\"#7fbc41\"],[0.9,\"#4d9221\"],[1,\"#276419\"]],\"sequential\":[[0.0,\"#0d0887\"],[0.1111111111111111,\"#46039f\"],[0.2222222222222222,\"#7201a8\"],[0.3333333333333333,\"#9c179e\"],[0.4444444444444444,\"#bd3786\"],[0.5555555555555556,\"#d8576b\"],[0.6666666666666666,\"#ed7953\"],[0.7777777777777778,\"#fb9f3a\"],[0.8888888888888888,\"#fdca26\"],[1.0,\"#f0f921\"]],\"sequentialminus\":[[0.0,\"#0d0887\"],[0.1111111111111111,\"#46039f\"],[0.2222222222222222,\"#7201a8\"],[0.3333333333333333,\"#9c179e\"],[0.4444444444444444,\"#bd3786\"],[0.5555555555555556,\"#d8576b\"],[0.6666666666666666,\"#ed7953\"],[0.7777777777777778,\"#fb9f3a\"],[0.8888888888888888,\"#fdca26\"],[1.0,\"#f0f921\"]]},\"colorway\":[\"#636efa\",\"#EF553B\",\"#00cc96\",\"#ab63fa\",\"#FFA15A\",\"#19d3f3\",\"#FF6692\",\"#B6E880\",\"#FF97FF\",\"#FECB52\"],\"font\":{\"color\":\"#2a3f5f\"},\"geo\":{\"bgcolor\":\"white\",\"lakecolor\":\"white\",\"landcolor\":\"#E5ECF6\",\"showlakes\":true,\"showland\":true,\"subunitcolor\":\"white\"},\"hoverlabel\":{\"align\":\"left\"},\"hovermode\":\"closest\",\"mapbox\":{\"style\":\"light\"},\"paper_bgcolor\":\"white\",\"plot_bgcolor\":\"#E5ECF6\",\"polar\":{\"angularaxis\":{\"gridcolor\":\"white\",\"linecolor\":\"white\",\"ticks\":\"\"},\"bgcolor\":\"#E5ECF6\",\"radialaxis\":{\"gridcolor\":\"white\",\"linecolor\":\"white\",\"ticks\":\"\"}},\"scene\":{\"xaxis\":{\"backgroundcolor\":\"#E5ECF6\",\"gridcolor\":\"white\",\"gridwidth\":2,\"linecolor\":\"white\",\"showbackground\":true,\"ticks\":\"\",\"zerolinecolor\":\"white\"},\"yaxis\":{\"backgroundcolor\":\"#E5ECF6\",\"gridcolor\":\"white\",\"gridwidth\":2,\"linecolor\":\"white\",\"showbackground\":true,\"ticks\":\"\",\"zerolinecolor\":\"white\"},\"zaxis\":{\"backgroundcolor\":\"#E5ECF6\",\"gridcolor\":\"white\",\"gridwidth\":2,\"linecolor\":\"white\",\"showbackground\":true,\"ticks\":\"\",\"zerolinecolor\":\"white\"}},\"shapedefaults\":{\"line\":{\"color\":\"#2a3f5f\"}},\"ternary\":{\"aaxis\":{\"gridcolor\":\"white\",\"linecolor\":\"white\",\"ticks\":\"\"},\"baxis\":{\"gridcolor\":\"white\",\"linecolor\":\"white\",\"ticks\":\"\"},\"bgcolor\":\"#E5ECF6\",\"caxis\":{\"gridcolor\":\"white\",\"linecolor\":\"white\",\"ticks\":\"\"}},\"title\":{\"x\":0.05},\"xaxis\":{\"automargin\":true,\"gridcolor\":\"white\",\"linecolor\":\"white\",\"ticks\":\"\",\"title\":{\"standoff\":15},\"zerolinecolor\":\"white\",\"zerolinewidth\":2},\"yaxis\":{\"automargin\":true,\"gridcolor\":\"white\",\"linecolor\":\"white\",\"ticks\":\"\",\"title\":{\"standoff\":15},\"zerolinecolor\":\"white\",\"zerolinewidth\":2}}}},                        {\"responsive\": true}                    ).then(function(){\n",
              "                            \n",
              "var gd = document.getElementById('578e3922-1b4e-4a3b-8d12-a096f7a6e2e8');\n",
              "var x = new MutationObserver(function (mutations, observer) {{\n",
              "        var display = window.getComputedStyle(gd).display;\n",
              "        if (!display || display === 'none') {{\n",
              "            console.log([gd, 'removed!']);\n",
              "            Plotly.purge(gd);\n",
              "            observer.disconnect();\n",
              "        }}\n",
              "}});\n",
              "\n",
              "// Listen for the removal of the full notebook cells\n",
              "var notebookContainer = gd.closest('#notebook-container');\n",
              "if (notebookContainer) {{\n",
              "    x.observe(notebookContainer, {childList: true});\n",
              "}}\n",
              "\n",
              "// Listen for the clearing of the current output cell\n",
              "var outputEl = gd.closest('.output');\n",
              "if (outputEl) {{\n",
              "    x.observe(outputEl, {childList: true});\n",
              "}}\n",
              "\n",
              "                        })                };                            </script>        </div>\n",
              "</body>\n",
              "</html>"
            ]
          },
          "metadata": {}
        }
      ]
    },
    {
      "cell_type": "code",
      "metadata": {
        "id": "6yKV8qhaJgG6"
      },
      "source": [
        "import seaborn as sns"
      ],
      "execution_count": null,
      "outputs": []
    },
    {
      "cell_type": "code",
      "metadata": {
        "colab": {
          "base_uri": "https://localhost:8080/",
          "height": 397
        },
        "id": "Gh0NSdViCaKI",
        "outputId": "d0933f03-efb6-4def-93a9-4f0efd027219"
      },
      "source": [
        "sns.catplot( x = \"Genre\", hue = \"Update\",\n",
        "            kind = \"count\", data = webtoon_df) # 장르별로 어떤 요일에 갱신되는 웹툰이 많은지 보기 위한 catplot"
      ],
      "execution_count": null,
      "outputs": [
        {
          "output_type": "execute_result",
          "data": {
            "text/plain": [
              "<seaborn.axisgrid.FacetGrid at 0x7f90fa1f6ad0>"
            ]
          },
          "metadata": {},
          "execution_count": 51
        },
        {
          "output_type": "display_data",
          "data": {
            "image/png": "[encoded data removed]",
            "text/plain": [
              "<Figure size 533.5x360 with 1 Axes>"
            ]
          },
          "metadata": {
            "needs_background": "light"
          }
        }
      ]
    },
    {
      "cell_type": "code",
      "metadata": {
        "colab": {
          "base_uri": "https://localhost:8080/",
          "height": 281
        },
        "id": "tjqydLvKC_W9",
        "outputId": "cf523690-9550-413f-f21c-c743596593a2"
      },
      "source": [
        "sns.boxplot(y = webtoon_df['Subscribers'])   # 구독자수 중 다른 값에 비해 혼자 동떨어져 있는 값을 이상치로 보기 위한 boxplot"
      ],
      "execution_count": null,
      "outputs": [
        {
          "output_type": "execute_result",
          "data": {
            "text/plain": [
              "<matplotlib.axes._subplots.AxesSubplot at 0x7f90ed900d50>"
            ]
          },
          "metadata": {},
          "execution_count": 52
        },
        {
          "output_type": "display_data",
          "data": {
            "image/png": "[encoded data removed]",
            "text/plain": [
              "<Figure size 432x288 with 1 Axes>"
            ]
          },
          "metadata": {
            "needs_background": "light"
          }
        }
      ]
    },
    {
      "cell_type": "code",
      "metadata": {
        "colab": {
          "base_uri": "https://localhost:8080/",
          "height": 281
        },
        "id": "ZJtbxAjaDocb",
        "outputId": "80878f47-a8ce-4fd6-9100-4bb4ba0561b3"
      },
      "source": [
        "webtoon_df.drop(webtoon_df[webtoon_df.Subscribers >= 4000000].index, # 400000000 이하 구독자 수 값만 가지고 계산\n",
        "                inplace = True)\n",
        "sns.boxplot(y = webtoon_df['Subscribers'])"
      ],
      "execution_count": null,
      "outputs": [
        {
          "output_type": "execute_result",
          "data": {
            "text/plain": [
              "<matplotlib.axes._subplots.AxesSubplot at 0x7f90e46ce210>"
            ]
          },
          "metadata": {},
          "execution_count": 53
        },
        {
          "output_type": "display_data",
          "data": {
            "image/png": "[encoded data removed]",
            "text/plain": [
              "<Figure size 432x288 with 1 Axes>"
            ]
          },
          "metadata": {
            "needs_background": "light"
          }
        }
      ]
    },
    {
      "cell_type": "code",
      "metadata": {
        "colab": {
          "base_uri": "https://localhost:8080/",
          "height": 281
        },
        "id": "o99elVy8DFZu",
        "outputId": "a4203fb3-5055-45bc-9e72-bede4e2a0a73"
      },
      "source": [
        "sns.boxplot(y = webtoon_df['Likes'])  # 좋아요도 마찬가지 "
      ],
      "execution_count": null,
      "outputs": [
        {
          "output_type": "execute_result",
          "data": {
            "text/plain": [
              "<matplotlib.axes._subplots.AxesSubplot at 0x7f90e4dc3750>"
            ]
          },
          "metadata": {},
          "execution_count": 54
        },
        {
          "output_type": "display_data",
          "data": {
            "image/png": "[encoded data removed]",
            "text/plain": [
              "<Figure size 432x288 with 1 Axes>"
            ]
          },
          "metadata": {
            "needs_background": "light"
          }
        }
      ]
    },
    {
      "cell_type": "code",
      "metadata": {
        "colab": {
          "base_uri": "https://localhost:8080/",
          "height": 281
        },
        "id": "Ubb2ahAYE69s",
        "outputId": "1cfb05f4-9d04-4992-fc4e-916f11dd3352"
      },
      "source": [
        "webtoon_df.drop(webtoon_df[webtoon_df.Likes >= 40000000].index,\n",
        "                inplace = True)\n",
        "sns.boxplot(y = webtoon_df['Likes'])"
      ],
      "execution_count": null,
      "outputs": [
        {
          "output_type": "execute_result",
          "data": {
            "text/plain": [
              "<matplotlib.axes._subplots.AxesSubplot at 0x7f90e45cc810>"
            ]
          },
          "metadata": {},
          "execution_count": 55
        },
        {
          "output_type": "display_data",
          "data": {
            "image/png": "[encoded data removed]",
            "text/plain": [
              "<Figure size 432x288 with 1 Axes>"
            ]
          },
          "metadata": {
            "needs_background": "light"
          }
        }
      ]
    },
    {
      "cell_type": "code",
      "metadata": {
        "colab": {
          "base_uri": "https://localhost:8080/",
          "height": 270
        },
        "id": "OZzu3YvyDF5s",
        "outputId": "f2cc8124-d104-402a-a7e3-1c204159bd01"
      },
      "source": [
        "sns.boxplot(y = webtoon_df['Rating'])"
      ],
      "execution_count": null,
      "outputs": [
        {
          "output_type": "execute_result",
          "data": {
            "text/plain": [
              "<matplotlib.axes._subplots.AxesSubplot at 0x7f90e4574a90>"
            ]
          },
          "metadata": {},
          "execution_count": 56
        },
        {
          "output_type": "display_data",
          "data": {
            "image/png": "[encoded data removed]",
            "text/plain": [
              "<Figure size 432x288 with 1 Axes>"
            ]
          },
          "metadata": {
            "needs_background": "light"
          }
        }
      ]
    },
    {
      "cell_type": "code",
      "metadata": {
        "colab": {
          "base_uri": "https://localhost:8080/",
          "height": 270
        },
        "id": "wW5xQ198DlLp",
        "outputId": "163d1d08-4807-49a1-ea51-10f4ed286197"
      },
      "source": [
        "webtoon_df.drop(webtoon_df[webtoon_df.Rating <= 6].index,\n",
        "                inplace = True)\n",
        "sns.boxplot(y = webtoon_df['Rating'])"
      ],
      "execution_count": null,
      "outputs": [
        {
          "output_type": "execute_result",
          "data": {
            "text/plain": [
              "<matplotlib.axes._subplots.AxesSubplot at 0x7f90e449c590>"
            ]
          },
          "metadata": {},
          "execution_count": 57
        },
        {
          "output_type": "display_data",
          "data": {
            "image/png": "[encoded data removed]",
            "text/plain": [
              "<Figure size 432x288 with 1 Axes>"
            ]
          },
          "metadata": {
            "needs_background": "light"
          }
        }
      ]
    },
    {
      "cell_type": "code",
      "metadata": {
        "colab": {
          "base_uri": "https://localhost:8080/",
          "height": 300
        },
        "id": "WjAKXHHMFa76",
        "outputId": "9d144411-9a56-48a6-8843-1500a37774ff"
      },
      "source": [
        "webtoon_df.describe()"
      ],
      "execution_count": null,
      "outputs": [
        {
          "output_type": "execute_result",
          "data": {
            "text/html": [
              "<div>\n",
              "<style scoped>\n",
              "    .dataframe tbody tr th:only-of-type {\n",
              "        vertical-align: middle;\n",
              "    }\n",
              "\n",
              "    .dataframe tbody tr th {\n",
              "        vertical-align: top;\n",
              "    }\n",
              "\n",
              "    .dataframe thead th {\n",
              "        text-align: right;\n",
              "    }\n",
              "</style>\n",
              "<table border=\"1\" class=\"dataframe\">\n",
              "  <thead>\n",
              "    <tr style=\"text-align: right;\">\n",
              "      <th></th>\n",
              "      <th>id</th>\n",
              "      <th>Rating</th>\n",
              "      <th>Subscribers</th>\n",
              "      <th>Likes</th>\n",
              "    </tr>\n",
              "  </thead>\n",
              "  <tbody>\n",
              "    <tr>\n",
              "      <th>count</th>\n",
              "      <td>558.000000</td>\n",
              "      <td>558.000000</td>\n",
              "      <td>5.580000e+02</td>\n",
              "      <td>5.580000e+02</td>\n",
              "    </tr>\n",
              "    <tr>\n",
              "      <th>mean</th>\n",
              "      <td>284.711470</td>\n",
              "      <td>9.441039</td>\n",
              "      <td>3.838832e+05</td>\n",
              "      <td>2.479885e+06</td>\n",
              "    </tr>\n",
              "    <tr>\n",
              "      <th>std</th>\n",
              "      <td>164.211562</td>\n",
              "      <td>0.465526</td>\n",
              "      <td>4.823711e+05</td>\n",
              "      <td>4.718009e+06</td>\n",
              "    </tr>\n",
              "    <tr>\n",
              "      <th>min</th>\n",
              "      <td>2.000000</td>\n",
              "      <td>6.600000</td>\n",
              "      <td>3.100000e+03</td>\n",
              "      <td>2.434000e+03</td>\n",
              "    </tr>\n",
              "    <tr>\n",
              "      <th>25%</th>\n",
              "      <td>142.250000</td>\n",
              "      <td>9.300000</td>\n",
              "      <td>9.182500e+04</td>\n",
              "      <td>2.000000e+05</td>\n",
              "    </tr>\n",
              "    <tr>\n",
              "      <th>50%</th>\n",
              "      <td>283.500000</td>\n",
              "      <td>9.600000</td>\n",
              "      <td>2.060500e+05</td>\n",
              "      <td>6.898230e+05</td>\n",
              "    </tr>\n",
              "    <tr>\n",
              "      <th>75%</th>\n",
              "      <td>427.750000</td>\n",
              "      <td>9.700000</td>\n",
              "      <td>4.861750e+05</td>\n",
              "      <td>2.400000e+06</td>\n",
              "    </tr>\n",
              "    <tr>\n",
              "      <th>max</th>\n",
              "      <td>568.000000</td>\n",
              "      <td>9.900000</td>\n",
              "      <td>3.500000e+06</td>\n",
              "      <td>3.740000e+07</td>\n",
              "    </tr>\n",
              "  </tbody>\n",
              "</table>\n",
              "</div>"
            ],
            "text/plain": [
              "               id      Rating   Subscribers         Likes\n",
              "count  558.000000  558.000000  5.580000e+02  5.580000e+02\n",
              "mean   284.711470    9.441039  3.838832e+05  2.479885e+06\n",
              "std    164.211562    0.465526  4.823711e+05  4.718009e+06\n",
              "min      2.000000    6.600000  3.100000e+03  2.434000e+03\n",
              "25%    142.250000    9.300000  9.182500e+04  2.000000e+05\n",
              "50%    283.500000    9.600000  2.060500e+05  6.898230e+05\n",
              "75%    427.750000    9.700000  4.861750e+05  2.400000e+06\n",
              "max    568.000000    9.900000  3.500000e+06  3.740000e+07"
            ]
          },
          "metadata": {},
          "execution_count": 58
        }
      ]
    },
    {
      "cell_type": "code",
      "metadata": {
        "colab": {
          "base_uri": "https://localhost:8080/",
          "height": 300
        },
        "id": "guzM8YRQFggA",
        "outputId": "0cd7996d-8631-4df1-8a63-e05cb6538382"
      },
      "source": [
        "from sklearn.preprocessing import MinMaxScaler   # charges columns nomalize\n",
        "scaler = MinMaxScaler()\n",
        "webtoon_df[['Likes']] = scaler.fit_transform(webtoon_df[['Likes']])\n",
        "webtoon_df.describe()"
      ],
      "execution_count": null,
      "outputs": [
        {
          "output_type": "execute_result",
          "data": {
            "text/html": [
              "<div>\n",
              "<style scoped>\n",
              "    .dataframe tbody tr th:only-of-type {\n",
              "        vertical-align: middle;\n",
              "    }\n",
              "\n",
              "    .dataframe tbody tr th {\n",
              "        vertical-align: top;\n",
              "    }\n",
              "\n",
              "    .dataframe thead th {\n",
              "        text-align: right;\n",
              "    }\n",
              "</style>\n",
              "<table border=\"1\" class=\"dataframe\">\n",
              "  <thead>\n",
              "    <tr style=\"text-align: right;\">\n",
              "      <th></th>\n",
              "      <th>id</th>\n",
              "      <th>Rating</th>\n",
              "      <th>Subscribers</th>\n",
              "      <th>Likes</th>\n",
              "    </tr>\n",
              "  </thead>\n",
              "  <tbody>\n",
              "    <tr>\n",
              "      <th>count</th>\n",
              "      <td>558.000000</td>\n",
              "      <td>558.000000</td>\n",
              "      <td>5.580000e+02</td>\n",
              "      <td>558.000000</td>\n",
              "    </tr>\n",
              "    <tr>\n",
              "      <th>mean</th>\n",
              "      <td>284.711470</td>\n",
              "      <td>9.441039</td>\n",
              "      <td>3.838832e+05</td>\n",
              "      <td>0.066246</td>\n",
              "    </tr>\n",
              "    <tr>\n",
              "      <th>std</th>\n",
              "      <td>164.211562</td>\n",
              "      <td>0.465526</td>\n",
              "      <td>4.823711e+05</td>\n",
              "      <td>0.126158</td>\n",
              "    </tr>\n",
              "    <tr>\n",
              "      <th>min</th>\n",
              "      <td>2.000000</td>\n",
              "      <td>6.600000</td>\n",
              "      <td>3.100000e+03</td>\n",
              "      <td>0.000000</td>\n",
              "    </tr>\n",
              "    <tr>\n",
              "      <th>25%</th>\n",
              "      <td>142.250000</td>\n",
              "      <td>9.300000</td>\n",
              "      <td>9.182500e+04</td>\n",
              "      <td>0.005283</td>\n",
              "    </tr>\n",
              "    <tr>\n",
              "      <th>50%</th>\n",
              "      <td>283.500000</td>\n",
              "      <td>9.600000</td>\n",
              "      <td>2.060500e+05</td>\n",
              "      <td>0.018381</td>\n",
              "    </tr>\n",
              "    <tr>\n",
              "      <th>75%</th>\n",
              "      <td>427.750000</td>\n",
              "      <td>9.700000</td>\n",
              "      <td>4.861750e+05</td>\n",
              "      <td>0.064110</td>\n",
              "    </tr>\n",
              "    <tr>\n",
              "      <th>max</th>\n",
              "      <td>568.000000</td>\n",
              "      <td>9.900000</td>\n",
              "      <td>3.500000e+06</td>\n",
              "      <td>1.000000</td>\n",
              "    </tr>\n",
              "  </tbody>\n",
              "</table>\n",
              "</div>"
            ],
            "text/plain": [
              "               id      Rating   Subscribers       Likes\n",
              "count  558.000000  558.000000  5.580000e+02  558.000000\n",
              "mean   284.711470    9.441039  3.838832e+05    0.066246\n",
              "std    164.211562    0.465526  4.823711e+05    0.126158\n",
              "min      2.000000    6.600000  3.100000e+03    0.000000\n",
              "25%    142.250000    9.300000  9.182500e+04    0.005283\n",
              "50%    283.500000    9.600000  2.060500e+05    0.018381\n",
              "75%    427.750000    9.700000  4.861750e+05    0.064110\n",
              "max    568.000000    9.900000  3.500000e+06    1.000000"
            ]
          },
          "metadata": {},
          "execution_count": 59
        }
      ]
    },
    {
      "cell_type": "code",
      "metadata": {
        "colab": {
          "base_uri": "https://localhost:8080/",
          "height": 300
        },
        "id": "cNly8scWFuqm",
        "outputId": "c5affe71-2d70-4729-fe83-cef547baa0a8"
      },
      "source": [
        "from sklearn.preprocessing import MinMaxScaler   # charges columns nomalize\n",
        "scaler = MinMaxScaler()\n",
        "webtoon_df[['Subscribers']] = scaler.fit_transform(webtoon_df[['Subscribers']])\n",
        "webtoon_df.describe()"
      ],
      "execution_count": null,
      "outputs": [
        {
          "output_type": "execute_result",
          "data": {
            "text/html": [
              "<div>\n",
              "<style scoped>\n",
              "    .dataframe tbody tr th:only-of-type {\n",
              "        vertical-align: middle;\n",
              "    }\n",
              "\n",
              "    .dataframe tbody tr th {\n",
              "        vertical-align: top;\n",
              "    }\n",
              "\n",
              "    .dataframe thead th {\n",
              "        text-align: right;\n",
              "    }\n",
              "</style>\n",
              "<table border=\"1\" class=\"dataframe\">\n",
              "  <thead>\n",
              "    <tr style=\"text-align: right;\">\n",
              "      <th></th>\n",
              "      <th>id</th>\n",
              "      <th>Rating</th>\n",
              "      <th>Subscribers</th>\n",
              "      <th>Likes</th>\n",
              "    </tr>\n",
              "  </thead>\n",
              "  <tbody>\n",
              "    <tr>\n",
              "      <th>count</th>\n",
              "      <td>558.000000</td>\n",
              "      <td>558.000000</td>\n",
              "      <td>558.000000</td>\n",
              "      <td>558.000000</td>\n",
              "    </tr>\n",
              "    <tr>\n",
              "      <th>mean</th>\n",
              "      <td>284.711470</td>\n",
              "      <td>9.441039</td>\n",
              "      <td>0.108892</td>\n",
              "      <td>0.066246</td>\n",
              "    </tr>\n",
              "    <tr>\n",
              "      <th>std</th>\n",
              "      <td>164.211562</td>\n",
              "      <td>0.465526</td>\n",
              "      <td>0.137942</td>\n",
              "      <td>0.126158</td>\n",
              "    </tr>\n",
              "    <tr>\n",
              "      <th>min</th>\n",
              "      <td>2.000000</td>\n",
              "      <td>6.600000</td>\n",
              "      <td>0.000000</td>\n",
              "      <td>0.000000</td>\n",
              "    </tr>\n",
              "    <tr>\n",
              "      <th>25%</th>\n",
              "      <td>142.250000</td>\n",
              "      <td>9.300000</td>\n",
              "      <td>0.025372</td>\n",
              "      <td>0.005283</td>\n",
              "    </tr>\n",
              "    <tr>\n",
              "      <th>50%</th>\n",
              "      <td>283.500000</td>\n",
              "      <td>9.600000</td>\n",
              "      <td>0.058037</td>\n",
              "      <td>0.018381</td>\n",
              "    </tr>\n",
              "    <tr>\n",
              "      <th>75%</th>\n",
              "      <td>427.750000</td>\n",
              "      <td>9.700000</td>\n",
              "      <td>0.138144</td>\n",
              "      <td>0.064110</td>\n",
              "    </tr>\n",
              "    <tr>\n",
              "      <th>max</th>\n",
              "      <td>568.000000</td>\n",
              "      <td>9.900000</td>\n",
              "      <td>1.000000</td>\n",
              "      <td>1.000000</td>\n",
              "    </tr>\n",
              "  </tbody>\n",
              "</table>\n",
              "</div>"
            ],
            "text/plain": [
              "               id      Rating  Subscribers       Likes\n",
              "count  558.000000  558.000000   558.000000  558.000000\n",
              "mean   284.711470    9.441039     0.108892    0.066246\n",
              "std    164.211562    0.465526     0.137942    0.126158\n",
              "min      2.000000    6.600000     0.000000    0.000000\n",
              "25%    142.250000    9.300000     0.025372    0.005283\n",
              "50%    283.500000    9.600000     0.058037    0.018381\n",
              "75%    427.750000    9.700000     0.138144    0.064110\n",
              "max    568.000000    9.900000     1.000000    1.000000"
            ]
          },
          "metadata": {},
          "execution_count": 60
        }
      ]
    },
    {
      "cell_type": "code",
      "metadata": {
        "colab": {
          "base_uri": "https://localhost:8080/",
          "height": 300
        },
        "id": "UfObz5ysF054",
        "outputId": "29e601ce-c341-4ec4-f06b-d446383400cc"
      },
      "source": [
        "from sklearn.preprocessing import MinMaxScaler   # charges columns nomalize\n",
        "scaler = MinMaxScaler()\n",
        "webtoon_df[['Rating']] = scaler.fit_transform(webtoon_df[['Rating']])\n",
        "webtoon_df.describe()"
      ],
      "execution_count": null,
      "outputs": [
        {
          "output_type": "execute_result",
          "data": {
            "text/html": [
              "<div>\n",
              "<style scoped>\n",
              "    .dataframe tbody tr th:only-of-type {\n",
              "        vertical-align: middle;\n",
              "    }\n",
              "\n",
              "    .dataframe tbody tr th {\n",
              "        vertical-align: top;\n",
              "    }\n",
              "\n",
              "    .dataframe thead th {\n",
              "        text-align: right;\n",
              "    }\n",
              "</style>\n",
              "<table border=\"1\" class=\"dataframe\">\n",
              "  <thead>\n",
              "    <tr style=\"text-align: right;\">\n",
              "      <th></th>\n",
              "      <th>id</th>\n",
              "      <th>Rating</th>\n",
              "      <th>Subscribers</th>\n",
              "      <th>Likes</th>\n",
              "    </tr>\n",
              "  </thead>\n",
              "  <tbody>\n",
              "    <tr>\n",
              "      <th>count</th>\n",
              "      <td>558.000000</td>\n",
              "      <td>558.000000</td>\n",
              "      <td>558.000000</td>\n",
              "      <td>558.000000</td>\n",
              "    </tr>\n",
              "    <tr>\n",
              "      <th>mean</th>\n",
              "      <td>284.711470</td>\n",
              "      <td>0.860921</td>\n",
              "      <td>0.108892</td>\n",
              "      <td>0.066246</td>\n",
              "    </tr>\n",
              "    <tr>\n",
              "      <th>std</th>\n",
              "      <td>164.211562</td>\n",
              "      <td>0.141069</td>\n",
              "      <td>0.137942</td>\n",
              "      <td>0.126158</td>\n",
              "    </tr>\n",
              "    <tr>\n",
              "      <th>min</th>\n",
              "      <td>2.000000</td>\n",
              "      <td>0.000000</td>\n",
              "      <td>0.000000</td>\n",
              "      <td>0.000000</td>\n",
              "    </tr>\n",
              "    <tr>\n",
              "      <th>25%</th>\n",
              "      <td>142.250000</td>\n",
              "      <td>0.818182</td>\n",
              "      <td>0.025372</td>\n",
              "      <td>0.005283</td>\n",
              "    </tr>\n",
              "    <tr>\n",
              "      <th>50%</th>\n",
              "      <td>283.500000</td>\n",
              "      <td>0.909091</td>\n",
              "      <td>0.058037</td>\n",
              "      <td>0.018381</td>\n",
              "    </tr>\n",
              "    <tr>\n",
              "      <th>75%</th>\n",
              "      <td>427.750000</td>\n",
              "      <td>0.939394</td>\n",
              "      <td>0.138144</td>\n",
              "      <td>0.064110</td>\n",
              "    </tr>\n",
              "    <tr>\n",
              "      <th>max</th>\n",
              "      <td>568.000000</td>\n",
              "      <td>1.000000</td>\n",
              "      <td>1.000000</td>\n",
              "      <td>1.000000</td>\n",
              "    </tr>\n",
              "  </tbody>\n",
              "</table>\n",
              "</div>"
            ],
            "text/plain": [
              "               id      Rating  Subscribers       Likes\n",
              "count  558.000000  558.000000   558.000000  558.000000\n",
              "mean   284.711470    0.860921     0.108892    0.066246\n",
              "std    164.211562    0.141069     0.137942    0.126158\n",
              "min      2.000000    0.000000     0.000000    0.000000\n",
              "25%    142.250000    0.818182     0.025372    0.005283\n",
              "50%    283.500000    0.909091     0.058037    0.018381\n",
              "75%    427.750000    0.939394     0.138144    0.064110\n",
              "max    568.000000    1.000000     1.000000    1.000000"
            ]
          },
          "metadata": {},
          "execution_count": 61
        }
      ]
    },
    {
      "cell_type": "code",
      "metadata": {
        "id": "vn88BFN4F8Wk",
        "outputId": "64be0c3a-de65-41ea-c6f2-c5e69033cb73",
        "colab": {
          "base_uri": "https://localhost:8080/",
          "height": 287
        }
      },
      "source": [
        "sns.heatmap(webtoon_df.corr(), annot=True)"
      ],
      "execution_count": null,
      "outputs": [
        {
          "output_type": "execute_result",
          "data": {
            "text/plain": [
              "<matplotlib.axes._subplots.AxesSubplot at 0x7f90e330cb50>"
            ]
          },
          "metadata": {},
          "execution_count": 62
        },
        {
          "output_type": "display_data",
          "data": {
            "image/png": "[encoded data removed]",
            "text/plain": [
              "<Figure size 432x288 with 2 Axes>"
            ]
          },
          "metadata": {
            "needs_background": "light"
          }
        }
      ]
    },
    {
      "cell_type": "code",
      "source": [
        "df.head()"
      ],
      "metadata": {
        "colab": {
          "base_uri": "https://localhost:8080/",
          "height": 206
        },
        "id": "vToQrMlGXvxt",
        "outputId": "5477ebc8-66bd-45da-e9bc-e058dbf9224f"
      },
      "execution_count": null,
      "outputs": [
        {
          "output_type": "execute_result",
          "data": {
            "text/html": [
              "<div>\n",
              "<style scoped>\n",
              "    .dataframe tbody tr th:only-of-type {\n",
              "        vertical-align: middle;\n",
              "    }\n",
              "\n",
              "    .dataframe tbody tr th {\n",
              "        vertical-align: top;\n",
              "    }\n",
              "\n",
              "    .dataframe thead th {\n",
              "        text-align: right;\n",
              "    }\n",
              "</style>\n",
              "<table border=\"1\" class=\"dataframe\">\n",
              "  <thead>\n",
              "    <tr style=\"text-align: right;\">\n",
              "      <th></th>\n",
              "      <th>id</th>\n",
              "      <th>Name</th>\n",
              "      <th>Writer</th>\n",
              "      <th>Genre</th>\n",
              "      <th>Rating</th>\n",
              "      <th>Update</th>\n",
              "      <th>Subscribers</th>\n",
              "      <th>Likes</th>\n",
              "    </tr>\n",
              "  </thead>\n",
              "  <tbody>\n",
              "    <tr>\n",
              "      <th>473</th>\n",
              "      <td>473</td>\n",
              "      <td>Surviving Romance</td>\n",
              "      <td>Lee Yone</td>\n",
              "      <td>Horror</td>\n",
              "      <td>9.8</td>\n",
              "      <td>THURSDAY</td>\n",
              "      <td>484100</td>\n",
              "      <td>1600000</td>\n",
              "    </tr>\n",
              "    <tr>\n",
              "      <th>517</th>\n",
              "      <td>517</td>\n",
              "      <td>BRAIN Anthology</td>\n",
              "      <td>Various Artists</td>\n",
              "      <td>Horror</td>\n",
              "      <td>9.4</td>\n",
              "      <td>MON, TUE, WED, THU, SUN</td>\n",
              "      <td>139100</td>\n",
              "      <td>755085</td>\n",
              "    </tr>\n",
              "    <tr>\n",
              "      <th>519</th>\n",
              "      <td>519</td>\n",
              "      <td>Everything is Fine</td>\n",
              "      <td>Mike Birchall</td>\n",
              "      <td>Horror</td>\n",
              "      <td>9.7</td>\n",
              "      <td>MONDAY</td>\n",
              "      <td>527700</td>\n",
              "      <td>1600000</td>\n",
              "    </tr>\n",
              "    <tr>\n",
              "      <th>524</th>\n",
              "      <td>524</td>\n",
              "      <td>Uriah</td>\n",
              "      <td>Toffuo</td>\n",
              "      <td>Horror</td>\n",
              "      <td>9.8</td>\n",
              "      <td>SATURDAY</td>\n",
              "      <td>39600</td>\n",
              "      <td>2100000</td>\n",
              "    </tr>\n",
              "    <tr>\n",
              "      <th>525</th>\n",
              "      <td>525</td>\n",
              "      <td>Tales of the Unusual</td>\n",
              "      <td>Sungdae Oh</td>\n",
              "      <td>Horror</td>\n",
              "      <td>9.6</td>\n",
              "      <td>SUNDAY</td>\n",
              "      <td>710500</td>\n",
              "      <td>7800000</td>\n",
              "    </tr>\n",
              "  </tbody>\n",
              "</table>\n",
              "</div>"
            ],
            "text/plain": [
              "      id                  Name           Writer   Genre  Rating  \\\n",
              "473  473     Surviving Romance         Lee Yone  Horror     9.8   \n",
              "517  517       BRAIN Anthology  Various Artists  Horror     9.4   \n",
              "519  519    Everything is Fine    Mike Birchall  Horror     9.7   \n",
              "524  524                 Uriah           Toffuo  Horror     9.8   \n",
              "525  525  Tales of the Unusual       Sungdae Oh  Horror     9.6   \n",
              "\n",
              "                       Update  Subscribers    Likes  \n",
              "473                  THURSDAY       484100  1600000  \n",
              "517   MON, TUE, WED, THU, SUN       139100   755085  \n",
              "519                    MONDAY       527700  1600000  \n",
              "524                  SATURDAY        39600  2100000  \n",
              "525                    SUNDAY       710500  7800000  "
            ]
          },
          "metadata": {},
          "execution_count": 63
        }
      ]
    },
    {
      "cell_type": "code",
      "source": [
        "webtoon_df.head()"
      ],
      "metadata": {
        "colab": {
          "base_uri": "https://localhost:8080/",
          "height": 206
        },
        "id": "gge9_y-WXyH2",
        "outputId": "3a614658-2850-402a-8d86-c08e0be95ae2"
      },
      "execution_count": null,
      "outputs": [
        {
          "output_type": "execute_result",
          "data": {
            "text/html": [
              "<div>\n",
              "<style scoped>\n",
              "    .dataframe tbody tr th:only-of-type {\n",
              "        vertical-align: middle;\n",
              "    }\n",
              "\n",
              "    .dataframe tbody tr th {\n",
              "        vertical-align: top;\n",
              "    }\n",
              "\n",
              "    .dataframe thead th {\n",
              "        text-align: right;\n",
              "    }\n",
              "</style>\n",
              "<table border=\"1\" class=\"dataframe\">\n",
              "  <thead>\n",
              "    <tr style=\"text-align: right;\">\n",
              "      <th></th>\n",
              "      <th>id</th>\n",
              "      <th>Name</th>\n",
              "      <th>Writer</th>\n",
              "      <th>Genre</th>\n",
              "      <th>Rating</th>\n",
              "      <th>Update</th>\n",
              "      <th>Subscribers</th>\n",
              "      <th>Likes</th>\n",
              "    </tr>\n",
              "  </thead>\n",
              "  <tbody>\n",
              "    <tr>\n",
              "      <th>2</th>\n",
              "      <td>2</td>\n",
              "      <td>Midnight Poppy Land</td>\n",
              "      <td>Lilydusk</td>\n",
              "      <td>Romance</td>\n",
              "      <td>0.969697</td>\n",
              "      <td>SATURDAY</td>\n",
              "      <td>0.599645</td>\n",
              "      <td>0.278028</td>\n",
              "    </tr>\n",
              "    <tr>\n",
              "      <th>3</th>\n",
              "      <td>3</td>\n",
              "      <td>Age Matters</td>\n",
              "      <td>Enjelicious</td>\n",
              "      <td>Romance</td>\n",
              "      <td>0.969697</td>\n",
              "      <td>WEDNESDAY</td>\n",
              "      <td>1.000000</td>\n",
              "      <td>0.692493</td>\n",
              "    </tr>\n",
              "    <tr>\n",
              "      <th>4</th>\n",
              "      <td>4</td>\n",
              "      <td>Unholy Blood</td>\n",
              "      <td>Lina Im / Jeonghyeon Kim</td>\n",
              "      <td>Supernatural</td>\n",
              "      <td>0.969697</td>\n",
              "      <td>THURSDAY</td>\n",
              "      <td>0.428065</td>\n",
              "      <td>0.264658</td>\n",
              "    </tr>\n",
              "    <tr>\n",
              "      <th>5</th>\n",
              "      <td>5</td>\n",
              "      <td>LUMINE</td>\n",
              "      <td>Emma Krogell</td>\n",
              "      <td>Fantasy</td>\n",
              "      <td>0.969697</td>\n",
              "      <td>SUNDAY</td>\n",
              "      <td>0.084904</td>\n",
              "      <td>0.505315</td>\n",
              "    </tr>\n",
              "    <tr>\n",
              "      <th>6</th>\n",
              "      <td>6</td>\n",
              "      <td>Jackson's Diary</td>\n",
              "      <td>Paola Batalla</td>\n",
              "      <td>Supernatural</td>\n",
              "      <td>0.939394</td>\n",
              "      <td>SUNDAY</td>\n",
              "      <td>0.017673</td>\n",
              "      <td>0.077480</td>\n",
              "    </tr>\n",
              "  </tbody>\n",
              "</table>\n",
              "</div>"
            ],
            "text/plain": [
              "   id                 Name                    Writer         Genre    Rating  \\\n",
              "2   2  Midnight Poppy Land                  Lilydusk       Romance  0.969697   \n",
              "3   3          Age Matters               Enjelicious       Romance  0.969697   \n",
              "4   4         Unholy Blood  Lina Im / Jeonghyeon Kim  Supernatural  0.969697   \n",
              "5   5               LUMINE              Emma Krogell       Fantasy  0.969697   \n",
              "6   6      Jackson's Diary             Paola Batalla  Supernatural  0.939394   \n",
              "\n",
              "       Update  Subscribers     Likes  \n",
              "2    SATURDAY     0.599645  0.278028  \n",
              "3   WEDNESDAY     1.000000  0.692493  \n",
              "4    THURSDAY     0.428065  0.264658  \n",
              "5      SUNDAY     0.084904  0.505315  \n",
              "6      SUNDAY     0.017673  0.077480  "
            ]
          },
          "metadata": {},
          "execution_count": 64
        }
      ]
    },
    {
      "cell_type": "markdown",
      "source": [
        "#4 Data Analysis"
      ],
      "metadata": {
        "id": "I9K9rMLeYdD-"
      }
    },
    {
      "cell_type": "code",
      "source": [
        "import matplotlib.pyplot as plt\n",
        "import seaborn as sb\n",
        "from matplotlib import style\n",
        "\n",
        "style.use('seaborn-whitegrid')\n",
        "plt.rcParams['figure.figsize'] = (20, 10)\n",
        "\n",
        "sb.pairplot(webtoon_df)\n"
      ],
      "metadata": {
        "colab": {
          "base_uri": "https://localhost:8080/",
          "height": 744
        },
        "id": "b091qd-aYca2",
        "outputId": "865a9f35-7fa5-4110-8c40-08c02d9127dc"
      },
      "execution_count": null,
      "outputs": [
        {
          "output_type": "execute_result",
          "data": {
            "text/plain": [
              "<seaborn.axisgrid.PairGrid at 0x7f90e32717d0>"
            ]
          },
          "metadata": {},
          "execution_count": 65
        },
        {
          "output_type": "display_data",
          "data": {
            "image/png": "[encoded data removed]",
            "text/plain": [
              "<Figure size 720x720 with 20 Axes>"
            ]
          },
          "metadata": {}
        }
      ]
    },
    {
      "cell_type": "code",
      "source": [
        "from sklearn.model_selection import train_test_split\n",
        "\n",
        "X_var = webtoon_df[['Likes']]\n",
        "y_var = webtoon_df['Subscribers']\n",
        "\n",
        "X_train, X_test, y_train, y_test = train_test_split(\n",
        "    X_var, y_var, test_size = 0.3, random_state = 0\n",
        ")"
      ],
      "metadata": {
        "id": "esxEBwUkcCEy"
      },
      "execution_count": null,
      "outputs": []
    },
    {
      "cell_type": "code",
      "source": [
        "from sklearn.linear_model import LinearRegression\n",
        "\n",
        "lr = LinearRegression()\n",
        "lr.fit(X_train, y_train)\n",
        "yhat = lr.predict(X_test)"
      ],
      "metadata": {
        "id": "ua6SHS4EdwOg"
      },
      "execution_count": null,
      "outputs": []
    },
    {
      "cell_type": "code",
      "source": [
        "from termcolor import colored as cl\n",
        "\n",
        "print(cl('R-Squared :', attrs = ['bold']),\n",
        "      lr.score(X_test, y_test))\n"
      ],
      "metadata": {
        "colab": {
          "base_uri": "https://localhost:8080/"
        },
        "id": "hNmQFjAad9wU",
        "outputId": "6dd41bd7-b1a4-4025-c3e5-900881220139"
      },
      "execution_count": null,
      "outputs": [
        {
          "output_type": "stream",
          "name": "stdout",
          "text": [
            "\u001b[1mR-Squared :\u001b[0m 0.5127482051735464\n"
          ]
        }
      ]
    },
    {
      "cell_type": "code",
      "source": [
        "slr_slope = lr.coef_\n",
        "slr_intercept = lr.intercept_\n",
        "sb.scatterplot(x = 'Likes', y = 'Subscribers',\n",
        "data = webtoon_df, s = 100, alpha = 0.3, edgecolor = 'white')\n",
        "plt.plot(webtoon_df['Likes'], slr_slope*webtoon_df['Likes'] + slr_intercept,\n",
        "color = 'r', linewidth = 3)\n",
        "plt.title('Likes vs Subscribers', fontsize = 16)\n",
        "plt.ylabel('Subscribers', fontsize = 12)\n",
        "plt.xlabel('Likes', fontsize = 12)\n",
        "plt.savefig('Likes_Subscribers.png')"
      ],
      "metadata": {
        "colab": {
          "base_uri": "https://localhost:8080/",
          "height": 622
        },
        "id": "H99NehbtJHoV",
        "outputId": "23b6cbcb-ee81-4542-e469-0c8a59d4bc15"
      },
      "execution_count": null,
      "outputs": [
        {
          "output_type": "display_data",
          "data": {
            "image/png": "[encoded data removed]",
            "text/plain": [
              "<Figure size 1440x720 with 1 Axes>"
            ]
          },
          "metadata": {}
        }
      ]
    },
    {
      "cell_type": "code",
      "source": [
        "X_var = webtoon_df[['Likes']]\n",
        "y_var = webtoon_df['Subscribers']\n",
        "\n",
        "X_train, X_test, y_train, y_test = train_test_split(\n",
        "    X_var, y_var, test_size = 0.2, random_state = 0\n",
        ")"
      ],
      "metadata": {
        "id": "NNa1fqbcFXn0"
      },
      "execution_count": null,
      "outputs": []
    },
    {
      "cell_type": "code",
      "source": [
        "lr = LinearRegression()\n",
        "lr.fit(X_train, y_train)\n",
        "yhat = lr.predict(X_test)\n",
        "\n",
        "print(cl('R-Squared :', attrs = ['bold']),\n",
        "      lr.score(X_test, y_test))"
      ],
      "metadata": {
        "colab": {
          "base_uri": "https://localhost:8080/"
        },
        "id": "_qIf8fEpFYxx",
        "outputId": "9780c8d7-9534-4db9-8948-8afbf3785e14"
      },
      "execution_count": null,
      "outputs": [
        {
          "output_type": "stream",
          "name": "stdout",
          "text": [
            "\u001b[1mR-Squared :\u001b[0m 0.5321254640235853\n"
          ]
        }
      ]
    },
    {
      "cell_type": "code",
      "source": [
        "slr_slope = lr.coef_\n",
        "slr_intercept = lr.intercept_\n",
        "sb.scatterplot(x = 'Likes', y = 'Subscribers',\n",
        "data = webtoon_df, s = 100, alpha = 0.3, edgecolor = 'white')\n",
        "plt.plot(webtoon_df['Likes'], slr_slope*webtoon_df['Likes'] + slr_intercept,\n",
        "color = 'r', linewidth = 3)\n",
        "plt.title('Likes vs Subscribers', fontsize = 16)\n",
        "plt.ylabel('Subscribers', fontsize = 12)\n",
        "plt.xlabel('Likes', fontsize = 12)\n",
        "plt.savefig('Likes_Subscribers.png')"
      ],
      "metadata": {
        "colab": {
          "base_uri": "https://localhost:8080/",
          "height": 622
        },
        "id": "SuoN2BL5Fg1p",
        "outputId": "625176d1-84a3-4141-8c96-d7806fc8a38d"
      },
      "execution_count": null,
      "outputs": [
        {
          "output_type": "display_data",
          "data": {
            "image/png": "[encoded data removed]",
            "text/plain": [
              "<Figure size 1440x720 with 1 Axes>"
            ]
          },
          "metadata": {}
        }
      ]
    }
  ]
}